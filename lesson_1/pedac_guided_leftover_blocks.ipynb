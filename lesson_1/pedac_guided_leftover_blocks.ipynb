{
 "cells": [
  {
   "cell_type": "markdown",
   "id": "d8c3fda3-ec69-4844-9109-6b5b3421cc7c",
   "metadata": {},
   "source": [
    "You have a number of building blocks that can be used to build a valid structure. There are certain rules about what determines a valid structure:\n",
    "\n",
    "    The building blocks are cubes.\n",
    "    The structure is built in layers.\n",
    "    The top layer is a single block.\n",
    "    A block in an upper layer must be supported by four blocks in a lower layer.\n",
    "    A block in a lower layer can support more than one block in an upper layer.\n",
    "    You cannot leave gaps between blocks.\n",
    "\n",
    "Write a program that, given the number of available blocks, calculates the number of blocks left over after building the tallest possible valid structure."
   ]
  },
  {
   "cell_type": "markdown",
   "id": "e4e2c706-af05-4f4b-b4c2-b07260519acb",
   "metadata": {},
   "source": [
    "## P: Understand the Problem\n",
    "\n",
    "Input:\n",
    "* Integer representing total number of blocks available\n",
    "\n",
    "Output:\n",
    "* Integer representing number of leftover blocks after building the tallest possible tower\n",
    "\n",
    "\n",
    "### Explicit Rules\n",
    "* Structure built with cubes\n",
    "    * Cubes are six sided, all equal, equal lengths on all sides.\n",
    "* Top layer is a single block\n",
    "* Upper layer blocks must be supported by four lower layer blocks\n",
    "* Lower layer blocks can support more than one upper layer block\n",
    "* No spaces between blocks\n",
    "\n",
    "\n",
    "### Implicit Rules\n",
    "\n",
    "    Layer 1 (top row): 1 block (1x1)\n",
    "    Layer 2 (middle row): 4 blocks (2x2)\n",
    "    Layer 3 (bottom row): 9 blocks (3x3)\n",
    "\n",
    "* Layer number correlates with blocks in a layer:\n",
    "* The number of blocks in a layer is layer number * layer number.\n",
    "\n",
    "\n",
    "### Questions\n",
    "* Is a lower layer valid if it contains more blocks than neccessary?\n",
    "* Will there always be leftover blocks?"
   ]
  },
  {
   "cell_type": "markdown",
   "id": "b73113d3-2ab1-43ae-a972-255e6c1828bf",
   "metadata": {},
   "source": [
    "# Examples/ Test Cases\n",
    "\n",
    "```\n",
    "print(calculate_leftover_blocks(0) == 0)  # True\n",
    "print(calculate_leftover_blocks(1) == 0)  # True\n",
    "print(calculate_leftover_blocks(2) == 1)  # True\n",
    "print(calculate_leftover_blocks(4) == 3)  # True\n",
    "print(calculate_leftover_blocks(5) == 0)  # True\n",
    "print(calculate_leftover_blocks(6) == 1)  # True\n",
    "print(calculate_leftover_blocks(14) == 0) # True\n",
    "```\n",
    "\n"
   ]
  },
  {
   "cell_type": "markdown",
   "id": "5ab88006-9fba-4fe2-9775-fb3b01bf3496",
   "metadata": {},
   "source": [
    "# Data\n",
    "\n",
    "Func_input: num_blocks\n",
    "Set num_layers to 0\n",
    "while True:\n",
    "* if num_layers squared is greater than to num_blocks\n",
    "    * subtract 1 from num_layers\n",
    "    * break the loop\n",
    "* Add one to num_layers\n",
    "\n",
    "return num_blocks - num_layers squared"
   ]
  },
  {
   "cell_type": "code",
   "execution_count": 27,
   "id": "d01720a2-eeb6-421d-ae7d-b825ea091c7e",
   "metadata": {},
   "outputs": [
    {
     "name": "stdout",
     "output_type": "stream",
     "text": [
      "True\n",
      "True\n",
      "True\n",
      "True\n",
      "True\n",
      "True\n"
     ]
    }
   ],
   "source": [
    "def calculate_leftover_blocks(num_blocks): # 0\n",
    "    layer_num = 0\n",
    "    blocks_needed = 0\n",
    "\n",
    "    while True:\n",
    "        blocks_needed += (layer_num ** 2) # 0\n",
    "\n",
    "        if blocks_needed > num_blocks:\n",
    "            blocks_needed -= (layer_num ** 2)\n",
    "            break\n",
    "\n",
    "        layer_num += 1\n",
    "        \n",
    "    return (num_blocks - (blocks_needed))\n",
    "\n",
    "\n",
    "print(calculate_leftover_blocks(0) == 0)  # True\n",
    "print(calculate_leftover_blocks(1) == 0)  # True\n",
    "print(calculate_leftover_blocks(2) == 1)  # True\n",
    "print(calculate_leftover_blocks(4) == 3)  # True\n",
    "print(calculate_leftover_blocks(5) == 0)  # True\n",
    "print(calculate_leftover_blocks(6) == 1)  # True"
   ]
  }
 ],
 "metadata": {
  "kernelspec": {
   "display_name": "Python 3 (ipykernel)",
   "language": "python",
   "name": "python3"
  },
  "language_info": {
   "codemirror_mode": {
    "name": "ipython",
    "version": 3
   },
   "file_extension": ".py",
   "mimetype": "text/x-python",
   "name": "python",
   "nbconvert_exporter": "python",
   "pygments_lexer": "ipython3",
   "version": "3.12.3"
  }
 },
 "nbformat": 4,
 "nbformat_minor": 5
}
