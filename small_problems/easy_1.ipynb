{
 "cells": [
  {
   "cell_type": "markdown",
   "id": "87c20f8c-4375-47a2-b447-bda927b61a20",
   "metadata": {},
   "source": [
    "# **1. Searching 101**\n",
    "\n",
    "Write a program that solicits six (6) numbers from the user and prints a message that describes whether the sixth number appears among the first five."
   ]
  },
  {
   "cell_type": "markdown",
   "id": "250392d4-b38e-4e97-bd04-73f0665b4be3",
   "metadata": {},
   "source": [
    "## Inputs/outputs \n",
    "\n",
    "input/s:\n",
    "* Six numbers from user\n",
    "\n",
    "outputs:\n",
    "* sentence printed saying whether last number is included\n"
   ]
  },
  {
   "cell_type": "markdown",
   "id": "53a49f9b-a07a-43e6-8b16-68724a341ad2",
   "metadata": {},
   "source": [
    "## Problem domain"
   ]
  },
  {
   "cell_type": "markdown",
   "id": "74175de0-4608-47c0-9f22-12c8b4befac7",
   "metadata": {},
   "source": [
    "## Implicit Requirements\n",
    "\n",
    "* Number only has to have been included once, but can be included more"
   ]
  },
  {
   "cell_type": "markdown",
   "id": "7d70345b-8531-4e00-a061-87742635a482",
   "metadata": {},
   "source": [
    "## Clarifying Questions\n",
    "\n",
    "DO we have to account for negative numbers?\n",
    "* We will allow them\n",
    "Do we accept floating point numbers?\n",
    "* No "
   ]
  },
  {
   "cell_type": "markdown",
   "id": "0ba77ef3-a9d2-401b-8cf8-77bea10a1d75",
   "metadata": {},
   "source": [
    "## Mental Model\n",
    "\n",
    "Take 6 numbers from the user and print a string saying whether the final input number was included in the five beforehand."
   ]
  },
  {
   "cell_type": "markdown",
   "id": "14843ec0-f735-4ce4-bb04-23bb3d18df81",
   "metadata": {},
   "source": [
    "## Examples/Test Cases\n",
    "\n",
    "```\n",
    "Enter the 1st number: 25\n",
    "Enter the 2nd number: 15\n",
    "Enter the 3rd number: 20\n",
    "Enter the 4th number: 17\n",
    "Enter the 5th number: 23\n",
    "Enter the last number: 17\n",
    "\n",
    "17 is in 25,15,20,17,23.\n",
    "```\n",
    "\n",
    "\n",
    "```\n",
    "Enter the 1st number: 25\n",
    "Enter the 2nd number: 15\n",
    "Enter the 3rd number: 20\n",
    "Enter the 4th number: 17\n",
    "Enter the 5th number: 23\n",
    "Enter the last number: 18\n",
    "\n",
    "18 isn't in 25,15,20,17,23.\n",
    "```"
   ]
  },
  {
   "cell_type": "markdown",
   "id": "af65fe7f-9b75-4114-8944-ea6f9259985f",
   "metadata": {},
   "source": [
    "## Data/Algorithm\n",
    "\n",
    "Create empty list: nums_list\n",
    "Get first 5 numbers from user, adding each to num_list\n",
    "Set last_num to input from user\n",
    "\n",
    "print out whether last_num is in nums_list"
   ]
  },
  {
   "cell_type": "code",
   "execution_count": 4,
   "id": "527b0664-96e6-40aa-85fc-cbd0fe672773",
   "metadata": {},
   "outputs": [
    {
     "name": "stdin",
     "output_type": "stream",
     "text": [
      "Enter the 1st number:   1\n",
      "Enter the 2nd number:   2\n",
      "Enter the 3rd number:   3\n",
      "Enter the 4th number:   4\n",
      "Enter the 5th number:   5\n",
      "Enter the last number:   6\n"
     ]
    },
    {
     "name": "stdout",
     "output_type": "stream",
     "text": [
      "6 isn't in 1,2,3,4,5.\n"
     ]
    }
   ],
   "source": [
    "nums_list = []\n",
    "\n",
    "nums_list.append(input(\"Enter the 1st number:  \"))\n",
    "nums_list.append(input(\"Enter the 2nd number:  \"))\n",
    "nums_list.append(input(\"Enter the 3rd number:  \"))\n",
    "nums_list.append(input(\"Enter the 4th number:  \"))\n",
    "nums_list.append(input(\"Enter the 5th number:  \"))\n",
    "\n",
    "last_num = input(\"Enter the last number: \")\n",
    "\n",
    "if last_num in nums_list:\n",
    "    print(f\"{last_num} is in {\",\".join(nums_list)}.\")\n",
    "else:\n",
    "    print(f\"{last_num} isn't in {\",\".join(nums_list)}.\")"
   ]
  },
  {
   "cell_type": "markdown",
   "id": "947bb9d2-98da-40c5-8537-0effb897301e",
   "metadata": {},
   "source": [
    "## **2. Palindromic Strings (Part 1)**\n",
    "\n",
    "Write a function that returns True if the string passed as an argument is a palindrome, False otherwise. \n",
    "A palindrome reads the same forwards and backwards. For this problem, the case matters and all characters matter.\n",
    "Examples\n",
    "\n"
   ]
  },
  {
   "cell_type": "markdown",
   "id": "65ba3b10-0bdb-4d83-94bb-3eac0389a534",
   "metadata": {},
   "source": [
    "## Input/Outputs\n",
    "\n",
    "Inputs:\n",
    "* string\n",
    "\n",
    "Outputs:\n",
    "* Boolean value, True if input is palindrome, False otherwise."
   ]
  },
  {
   "cell_type": "markdown",
   "id": "bbfb9996-ae9c-414c-9fb8-bf63522faadb",
   "metadata": {},
   "source": [
    "## Problem Domain\n",
    "\n",
    "String is a palindrome when the same string reversed exactly equals the initial string"
   ]
  },
  {
   "cell_type": "markdown",
   "id": "6badfd56-6edd-4cd9-b05f-795694cb2295",
   "metadata": {},
   "source": [
    "## Implicit Requirements\n",
    "\n",
    "* Numbers, and non alphabetical characters can be in input string.\n",
    "* All characters must be identical both ways"
   ]
  },
  {
   "cell_type": "markdown",
   "id": "f38ac18f-9d09-40fc-932b-230d8a96e515",
   "metadata": {},
   "source": [
    "## Examples/Test Cases\n",
    "\n",
    "\n",
    "All of these examples should print True\n",
    "\n",
    "```python\n",
    "print(is_palindrome('madam') == True)\n",
    "print(is_palindrome('356653') == True)\n",
    "print(is_palindrome('356635') == False)\n",
    "```\n",
    "\n",
    "\n",
    "case matters\n",
    "```python\n",
    "print(is_palindrome('Madam') == False)\n",
    "```\n",
    "\n",
    "all characters matter\n",
    "```python\n",
    "print(is_palindrome(\"madam i'm adam\") == False)\n",
    "```"
   ]
  },
  {
   "cell_type": "markdown",
   "id": "d1290d7c-8067-42cf-9395-b930b7b381de",
   "metadata": {},
   "source": [
    "## Mental Model\n",
    "\n",
    "Return True if string is same backwards as forwards, otherwise return False"
   ]
  },
  {
   "cell_type": "markdown",
   "id": "3989d424-7d59-4a12-89f8-238fb5298c28",
   "metadata": {},
   "source": [
    "## Data/Algorithm\n",
    "\n",
    "is_palindrome function, input: input_str\n",
    "* Set input_reversed to reversed input_str\n",
    "* Return True if equal otherwise False"
   ]
  },
  {
   "cell_type": "code",
   "execution_count": 9,
   "id": "16fdb03f-06d3-4a17-beab-979eb04586aa",
   "metadata": {},
   "outputs": [
    {
     "name": "stdout",
     "output_type": "stream",
     "text": [
      "madam madam\n",
      "True\n",
      "356653 356653\n",
      "True\n",
      "356635 536653\n",
      "True\n"
     ]
    }
   ],
   "source": [
    "def is_palindrome(input_str):\n",
    "    input_reversed = input_str[::-1]\n",
    "\n",
    "    print(input_str, input_reversed)\n",
    "    return (input_str == input_reversed)\n",
    "\n",
    "print(is_palindrome('madam') == True)\n",
    "print(is_palindrome('356653') == True)\n",
    "print(is_palindrome('356635') == False)"
   ]
  },
  {
   "cell_type": "markdown",
   "id": "632a0717-2254-4ca0-a51e-8a7a5003974a",
   "metadata": {},
   "source": [
    "## **3. Palindromic Strings (Part 2)**\n",
    "\n",
    "Write another function that returns True if the string passed as an argument is a palindrome, or False otherwise. \n",
    "This time, however, your function should be case-insensitive, and should ignore all non-alphanumeric characters. \n",
    "If you wish, you may simplify things by calling the is_palindrome function you wrote in the previous exercise."
   ]
  },
  {
   "cell_type": "markdown",
   "id": "f9e14392-9024-4284-ac74-5ba23a90ee9a",
   "metadata": {},
   "source": [
    "## Inputs/Outputs\n",
    "\n",
    "Input:\n",
    "* string\n",
    "\n",
    "Output:\n",
    "* boolean "
   ]
  },
  {
   "cell_type": "code",
   "execution_count": null,
   "id": "4e65c204-6af5-4c3f-a20d-72e0785a8048",
   "metadata": {},
   "outputs": [],
   "source": []
  },
  {
   "cell_type": "markdown",
   "id": "48984254-acb0-45dc-917a-87d46a23554a",
   "metadata": {},
   "source": [
    "## Examples/Test Cases\n",
    "\n",
    "```python\n",
    "print(is_real_palindrome('madam') == True)           # True\n",
    "print(is_real_palindrome('356653') == True)          # True\n",
    "print(is_real_palindrome('356635') == False)         # True\n",
    "print(is_real_palindrome('356a653') == True)         # True\n",
    "print(is_real_palindrome('123ab321') == False)       # True\n",
    "\n",
    "# case doesn't matter\n",
    "print(is_real_palindrome('Madam') == True)           # True\n",
    "\n",
    "# only alphanumerics matter\n",
    "print(is_real_palindrome(\"Madam, I'm Adam\") == True) # True\n",
    "```"
   ]
  },
  {
   "cell_type": "markdown",
   "id": "7657afcc-349b-4825-b884-48b4a2b93c9d",
   "metadata": {},
   "source": [
    "## Data/Algorithm\n",
    "\n",
    "Convert input string to all lowercase.\n",
    "\n",
    "Remove all non-alphanumeric characters\n",
    "\n",
    "Use is_palindrome function"
   ]
  },
  {
   "cell_type": "code",
   "execution_count": 14,
   "id": "dc5fe1ff-a327-4e72-834c-1d3554f3478a",
   "metadata": {},
   "outputs": [
    {
     "name": "stdout",
     "output_type": "stream",
     "text": [
      "True\n",
      "True\n",
      "True\n",
      "True\n",
      "True\n",
      "True\n",
      "True\n"
     ]
    }
   ],
   "source": [
    "def is_palindrome(input_str):\n",
    "    input_reversed = input_str[::-1]\n",
    "\n",
    "    print(input_str, input_reversed)\n",
    "    return (input_str == input_reversed)\n",
    "\n",
    "\n",
    "\n",
    "def only_aplhanum(input_str):\n",
    "    output_str = \"\"\n",
    "\n",
    "    for char in input_str:\n",
    "        if char.isalnum():\n",
    "            output_str += char\n",
    "\n",
    "    return output_str\n",
    "                  \n",
    "\n",
    "\n",
    "def is_real_palindrome(input_str):\n",
    "    cleaned_str = only_aplhanum(input_str.lower())\n",
    "\n",
    "    return cleaned_str == cleaned_str[::-1]\n",
    "\n",
    "\n",
    "\n",
    "\n",
    "print(is_real_palindrome('madam') == True)           # True\n",
    "print(is_real_palindrome('356653') == True)          # True\n",
    "print(is_real_palindrome('356635') == False)         # True\n",
    "print(is_real_palindrome('356a653') == True)         # True\n",
    "print(is_real_palindrome('123ab321') == False)       # True\n",
    "\n",
    "# case doesn't matter\n",
    "print(is_real_palindrome('Madam') == True)           # True\n",
    "\n",
    "# only alphanumerics matter\n",
    "print(is_real_palindrome(\"Madam, I'm Adam\") == True) # True"
   ]
  },
  {
   "cell_type": "markdown",
   "id": "422fd754-cd43-471d-8c2d-e4e4c6a398ca",
   "metadata": {},
   "source": [
    "# **4. Running Totals**\n",
    "\n",
    "Write a function that takes a list of numbers and returns a list with the same number of elements, \n",
    "but with each element's value being the running total from the original list."
   ]
  },
  {
   "cell_type": "markdown",
   "id": "294dc753-7286-4dba-9203-a87f1fd287a6",
   "metadata": {},
   "source": [
    "## Inputs/Outputs\n",
    "\n",
    "Inputs:\n",
    "* List containing numbers\n",
    "\n",
    "Output:\n",
    "* List containing same number of elements, with a runnign total of the original elements being added"
   ]
  },
  {
   "cell_type": "markdown",
   "id": "922626c5-6b51-49c5-8f3a-0b4e493c1623",
   "metadata": {},
   "source": [
    "## Implicit Requirements\n",
    "\n",
    "* Empty list as input should return an empty list\n",
    "* Input of length 1 returns itself"
   ]
  },
  {
   "cell_type": "markdown",
   "id": "fbbc43af-e48b-46c1-9955-ce72d5f23ac2",
   "metadata": {},
   "source": [
    "## Examples/Test Cases\n",
    "\n",
    "```python \n",
    "print(running_total([2, 5, 13]) == [2, 7, 20])    # True\n",
    "print(running_total([14, 11, 7, 15, 20])\n",
    "      == [14, 25, 32, 47, 67])                    # True\n",
    "print(running_total([3]) == [3])                  # True\n",
    "print(running_total([]) == [])                    # True\n",
    "```"
   ]
  },
  {
   "cell_type": "markdown",
   "id": "18384ccd-a07a-4502-af51-43c4733a3d2b",
   "metadata": {},
   "source": [
    "## Data/Algorithm\n",
    "\n",
    "Unneccessary for this problem"
   ]
  },
  {
   "cell_type": "code",
   "execution_count": 15,
   "id": "7a713fd9-dc77-4cc7-a25b-8723b81fc4f9",
   "metadata": {},
   "outputs": [
    {
     "name": "stdout",
     "output_type": "stream",
     "text": [
      "True\n",
      "True\n",
      "True\n",
      "True\n"
     ]
    }
   ],
   "source": [
    "def running_total(input_list):\n",
    "    output_list = []\n",
    "    running_total = 0\n",
    "\n",
    "    for num in input_list:\n",
    "        running_total += num\n",
    "        output_list.append(running_total)\n",
    "\n",
    "    return output_list\n",
    "\n",
    "print(running_total([2, 5, 13]) == [2, 7, 20])    # True\n",
    "print(running_total([14, 11, 7, 15, 20])\n",
    "      == [14, 25, 32, 47, 67])                    # True\n",
    "print(running_total([3]) == [3])                  # True\n",
    "print(running_total([]) == [])                    # True"
   ]
  },
  {
   "cell_type": "markdown",
   "id": "bc7bb5b8-74d8-4b5b-8d51-0c0a34aec07c",
   "metadata": {},
   "source": [
    "# **5. Letter Counter**\n",
    "\n",
    "Write a function that takes a string consisting of zero or more space-separated words and \n",
    "returns a dictionary that shows the number of words of different sizes.\n",
    "\n",
    "Words consist of any sequence of non-space characters."
   ]
  },
  {
   "cell_type": "markdown",
   "id": "84e0edff-dc87-4a09-a970-0cb2bf3952f0",
   "metadata": {},
   "source": [
    "## Input/Output\n",
    "\n",
    "Input:\n",
    "* String of any size\n",
    "\n",
    "Output: \n",
    "* Dictionary, containing word lengths as keys and frequency of those lengths as values"
   ]
  },
  {
   "cell_type": "markdown",
   "id": "361f64b2-d003-4815-a8c6-0b32e44e1338",
   "metadata": {},
   "source": [
    "## Implicit Requirements\n",
    "\n",
    "* In output dictionary only include keys, whose length is actually represented in the input\n",
    "* Punctuation adds to word length"
   ]
  },
  {
   "cell_type": "markdown",
   "id": "7c41d53f-8ef6-4fb8-bfc3-923004126f5c",
   "metadata": {},
   "source": [
    "## Clarifying Questions\n",
    "N/A\n"
   ]
  },
  {
   "cell_type": "markdown",
   "id": "bff80629-8337-4c41-b75a-cf3dff1d3c03",
   "metadata": {},
   "source": [
    "## Mental Model\n",
    "\n",
    "Take a string of any length as input, return a dictionary containing the frequency of different word lengths in the input string. Only add keys for word lengths which appear in input."
   ]
  },
  {
   "cell_type": "markdown",
   "id": "d894e823-c790-473f-aafe-d8c00a003606",
   "metadata": {},
   "source": [
    "## Examples/Test Cases\n",
    "\n",
    "```python \n",
    "# All of these examples should print True\n",
    "\n",
    "string = 'Four score and seven.'\n",
    "print(word_sizes(string) == {4: 1, 5: 1, 3: 1, 6: 1})\n",
    "\n",
    "string = 'Hey diddle diddle, the cat and the fiddle!'\n",
    "print(word_sizes(string) == {3: 5, 6: 1, 7: 2})\n",
    "\n",
    "string = 'Humpty Dumpty sat on a wall'\n",
    "print(word_sizes(string) == {6: 2, 3: 1, 2: 1, 1: 1, 4: 1})\n",
    "\n",
    "string = \"What's up doc?\"\n",
    "print(word_sizes(string) == {6: 1, 2: 1, 4: 1})\n",
    "\n",
    "print(word_sizes('') == {}) \n",
    "```"
   ]
  },
  {
   "cell_type": "markdown",
   "id": "333881e2-d0b4-4766-9208-34f38b5de81b",
   "metadata": {},
   "source": [
    "## Data/Algorithm\n",
    "\n",
    "Set words_list to input_list separated\n",
    "\n",
    "Set list_of_lengths to words_list transformed\n",
    "\n",
    "Set dict_length frequency to empty dictionary\n",
    "\n",
    "Iterate over list_of_lengths:\n",
    "* If length does not exist as key of dict_length_frequency:\n",
    "    * add key with value 1\n",
    "* If it does exist:\n",
    "    * Add 1 to val\n",
    "* return dict_length_frequency"
   ]
  },
  {
   "cell_type": "code",
   "execution_count": 19,
   "id": "54ab49af-4fe8-4632-bb71-cb4e852de8ec",
   "metadata": {},
   "outputs": [
    {
     "name": "stdout",
     "output_type": "stream",
     "text": [
      "True\n",
      "True\n",
      "True\n",
      "True\n"
     ]
    }
   ],
   "source": [
    "def word_sizes(input_string):\n",
    "    words_list = input_string.split()\n",
    "    list_of_lengths = [len(word) for word in words_list]\n",
    "    dict_length_frequency = {}\n",
    "\n",
    "    for length in list_of_lengths:\n",
    "        dict_length_frequency[length] = (dict_length_frequency.get(length, 0) + 1)\n",
    "\n",
    "    return dict_length_frequency\n",
    "\n",
    "string = 'Four score and seven.'\n",
    "print(word_sizes(string) == {4: 1, 5: 1, 3: 1, 6: 1})\n",
    "\n",
    "string = 'Hey diddle diddle, the cat and the fiddle!'\n",
    "print(word_sizes(string) == {3: 5, 6: 1, 7: 2})\n",
    "\n",
    "string = 'Humpty Dumpty sat on a wall'\n",
    "print(word_sizes(string) == {6: 2, 3: 1, 2: 1, 1: 1, 4: 1})\n",
    "\n",
    "string = \"What's up doc?\"\n",
    "print(word_sizes(string) == {6: 1, 2: 1, 4: 1})"
   ]
  },
  {
   "cell_type": "markdown",
   "id": "643060d2-d153-422e-afd5-1ba1c03b7387",
   "metadata": {},
   "source": [
    "# **6. Letter Counter (Part 2)**\n",
    "\n",
    "Modify the word_sizes function from the previous exercise to exclude non-letters when determining word size. \n",
    "For instance, the word size of \"it's\" is 3, not 4.\n",
    "\n",
    "\n"
   ]
  },
  {
   "cell_type": "markdown",
   "id": "ce053773-b175-4d90-ba63-463bda8071ce",
   "metadata": {},
   "source": [
    "## Examples/Test Cases\n",
    "\n",
    "```python\n",
    "# All of these examples should print True\n",
    "\n",
    "string = 'Four score and seven.'\n",
    "print(word_sizes(string) == {4: 1, 5: 2, 3: 1})\n",
    "\n",
    "string = 'Hey diddle diddle, the cat and the fiddle!'\n",
    "print(word_sizes(string) == {3: 5, 6: 3})\n",
    "\n",
    "string = 'Humpty Dumpty sat on a w@ll'\n",
    "print(word_sizes(string) == {6: 2, 3: 2, 2: 1, 1: 1})\n",
    "\n",
    "string = \"What's up doc?\"\n",
    "print(word_sizes(string) == {5: 1, 2: 1, 3: 1})\n",
    "\n",
    "print(word_sizes('') == {}) \n",
    "\n",
    "```"
   ]
  },
  {
   "cell_type": "markdown",
   "id": "22d18080-5cc9-4339-a7fa-13393bce1eed",
   "metadata": {},
   "source": [
    "## Data/Algorithm\n",
    "\n",
    "Create new string cleaner function that remove non alphabetic/white space characters]\n",
    "\n",
    "Set new string:\n",
    "* Loop over characters in input_str\n",
    "* If char is alphanumeirc or white space\n",
    "    * Add to new_string\n"
   ]
  },
  {
   "cell_type": "code",
   "execution_count": 3,
   "id": "94a19abd-b9f9-4b64-a1d1-d5f1274edc9c",
   "metadata": {},
   "outputs": [
    {
     "name": "stdout",
     "output_type": "stream",
     "text": [
      "True\n",
      "True\n",
      "True\n",
      "True\n",
      "True\n"
     ]
    }
   ],
   "source": [
    "def clean_str(input_str): \n",
    "    new_str = \"\"\n",
    "\n",
    "    for char in input_str:\n",
    "        if char.isalnum() or (char == \" \"):\n",
    "            new_str += char\n",
    "\n",
    "    return new_str\n",
    "\n",
    "def word_sizes(input_string):\n",
    "    input_string = clean_str(input_string)\n",
    "    \n",
    "    words_list = input_string.split()\n",
    "    list_of_lengths = [len(word) for word in words_list]\n",
    "    dict_length_frequency = {}\n",
    "\n",
    "    for length in list_of_lengths:\n",
    "        dict_length_frequency[length] = (dict_length_frequency.get(length, 0) + 1)\n",
    "\n",
    "    return dict_length_frequency\n",
    "\n",
    "\n",
    "\n",
    "string = 'Four score and seven.'\n",
    "print(word_sizes(string) == {4: 1, 5: 2, 3: 1})\n",
    "\n",
    "string = 'Hey diddle diddle, the cat and the fiddle!'\n",
    "print(word_sizes(string) == {3: 5, 6: 3})\n",
    "\n",
    "string = 'Humpty Dumpty sat on a w@ll'\n",
    "print(word_sizes(string) == {6: 2, 3: 2, 2: 1, 1: 1})\n",
    "\n",
    "string = \"What's up doc?\"\n",
    "print(word_sizes(string) == {5: 1, 2: 1, 3: 1})\n",
    "\n",
    "print(word_sizes('') == {}) "
   ]
  },
  {
   "cell_type": "markdown",
   "id": "74cffb25-786c-4c9b-ab8c-8f00eb9e7635",
   "metadata": {},
   "source": [
    "# **7. Letter Swap**\n",
    "\n",
    "Given a string of words separated by spaces, write a function that swaps the first and last letters of every word.\n",
    "\n",
    "You may assume that every word contains at least one letter, and that the string will always contain at least one word. \n",
    "You may also assume that each string contains nothing but words and spaces, and that there are no leading, trailing, or repeated spaces."
   ]
  },
  {
   "cell_type": "markdown",
   "id": "f23be7e0-6d78-41d1-8f5c-b6fc6bc40e29",
   "metadata": {},
   "source": [
    "## Input/Output\n",
    "\n",
    "Input: \n",
    "* String of words separated by spaces\n",
    "\n",
    "Output: \n",
    "* String containing the same words with first and last letters swapped\n"
   ]
  },
  {
   "cell_type": "markdown",
   "id": "fe4919c2-0505-4703-8f9d-7a88b6e3e913",
   "metadata": {},
   "source": [
    "## Implicit Requirements\n",
    "\n",
    "Words are in same order in output as with the input"
   ]
  },
  {
   "cell_type": "markdown",
   "id": "a757e562-48ca-44a4-896c-8059cf608d14",
   "metadata": {},
   "source": [
    "## Clarifying Questions\n",
    "\n",
    "\n",
    "Do we ignore case?\n",
    "* Yes\n"
   ]
  },
  {
   "cell_type": "markdown",
   "id": "f7c8ef52-fbbd-41dd-b691-4084b505a9f4",
   "metadata": {},
   "source": [
    "## Mental Model \n",
    "\n",
    "Take a string containign at least one word, with more words separated by spaces. \n",
    "Return a new string with the words in the same order, except the fast and last letter of each word are swapped"
   ]
  },
  {
   "cell_type": "markdown",
   "id": "991c8582-4482-4e32-8611-a76ee45d8939",
   "metadata": {},
   "source": [
    "## Examples/Test Cases \n",
    "```python \n",
    "print(swap('Oh what a wonderful day it is')\n",
    "      == \"hO thaw a londerfuw yad ti si\")  # True\n",
    "print(swap('Abcde') == \"ebcdA\")            # True\n",
    "print(swap('a') == \"a\")                    # True\n",
    "``` "
   ]
  },
  {
   "cell_type": "markdown",
   "id": "0bf0f199-c38a-400a-81c1-25fe173267a8",
   "metadata": {},
   "source": [
    "## Data/Algorithm\n",
    "\n",
    "function, swap: string input\n",
    "Set words_list to list of words contained in input_str\n",
    "Set output_str to empty string\n",
    "Iterate through words in words_list\n",
    "* set word_to_add to letter swapped word\n",
    "* Add word_to_add and space to output_str\n",
    "Removed trailing white space from right o f output_str\n",
    "Return output_str"
   ]
  },
  {
   "cell_type": "code",
   "execution_count": 14,
   "id": "982ed39f-a269-4f71-b85c-257b609373c6",
   "metadata": {},
   "outputs": [
    {
     "name": "stdout",
     "output_type": "stream",
     "text": [
      "True\n",
      "True\n",
      "True\n"
     ]
    }
   ],
   "source": [
    "\n",
    "\n",
    "def swap(input_str): \n",
    "    words_list = input_str.split()\n",
    "    output_str = \"\"\n",
    "\n",
    "    for word in words_list:\n",
    "        if len(word) == 1:\n",
    "            output_str += (word + \" \")\n",
    "        else:\n",
    "            output_str += word[-1] + word[1:-1] + word[0] + \" \"\n",
    "    \n",
    "    output_str = output_str.rstrip()\n",
    "\n",
    "    return output_str\n",
    "\n",
    "\n",
    "print(swap('Oh what a wonderful day it is')\n",
    "      == \"hO thaw a londerfuw yad ti si\")  # True\n",
    "print(swap('Abcde') == \"ebcdA\")            # True\n",
    "print(swap('a') == \"a\")                    # True"
   ]
  },
  {
   "cell_type": "markdown",
   "id": "03f364dd-b5a0-4ed3-8892-c5e15f992872",
   "metadata": {},
   "source": [
    "# **8. Convert String to a Number** \n",
    "\n",
    "Write a function that takes a string of digits and returns the appropriate number as an integer. \n",
    "You may not use any of the standard conversion functions available in Python, such as int. \n",
    "Your function should calculate the result by using the characters in the string.\n",
    "\n",
    "For now, do not worry about leading + or - signs, nor should you worry about invalid characters; assume all characters are numeric."
   ]
  },
  {
   "cell_type": "markdown",
   "id": "7073ad33-bf3e-4830-a43d-1eb5f985b6f0",
   "metadata": {},
   "source": [
    "## Input/Output\n",
    "\n",
    "Input: \n",
    "* String containing only digits\n",
    "\n",
    "Output: \n",
    "* Integer representing same number as input string"
   ]
  },
  {
   "cell_type": "markdown",
   "id": "2827f77e-d430-4423-a40a-18badf98c322",
   "metadata": {},
   "source": [
    "## Problem Domain\n",
    "\n",
    "N/A "
   ]
  },
  {
   "cell_type": "markdown",
   "id": "198c6c7a-1e0f-4374-873d-7b51374621ee",
   "metadata": {},
   "source": [
    "## Implicit Requirements \n",
    "\n",
    "* Works for strings of varying lengths"
   ]
  },
  {
   "cell_type": "markdown",
   "id": "cc4a58da-1139-407f-aaec-211916d906ec",
   "metadata": {},
   "source": [
    "## Mental Model\n",
    "\n",
    "For each num char in string multiply it by num of chars in string - 1"
   ]
  },
  {
   "cell_type": "markdown",
   "id": "d83085df-c0fb-4250-94cd-9d5fb0e1d1d7",
   "metadata": {},
   "source": [
    "## Examples/Test Cases\n",
    "\n",
    "```python \n",
    "print(string_to_integer(\"4321\") == 4321)  # True\n",
    "print(string_to_integer(\"570\") == 570)    # True\n",
    "```\n",
    "\n",
    "\n",
    "\"507\""
   ]
  },
  {
   "cell_type": "markdown",
   "id": "be96ae22-1f2c-44c4-887e-aca79e5be18a",
   "metadata": {},
   "source": [
    "## Data/Algorithm\n",
    "\n",
    "Set conversion_dict to dictionary m,apping characters to integers\n",
    "\n",
    "* Set output_num to zero\n",
    "* Set num_to_multiply to length of input - 1\n",
    "* Iterate over char_nums of input_str\n",
    "    * set digit_int using conversion_dict\n",
    "    * Iterate num_to_muliply times:\n",
    "        * reassign digit_into to itself * 10\n",
    "    * Take away one from num_to_multiply\n",
    "    * Add digit_int to output_num"
   ]
  },
  {
   "cell_type": "code",
   "execution_count": 17,
   "id": "dc6563a2-f9b2-4dcc-9a16-a2be2c1c9b93",
   "metadata": {},
   "outputs": [
    {
     "name": "stdout",
     "output_type": "stream",
     "text": [
      "True\n",
      "True\n"
     ]
    }
   ],
   "source": [
    "COVERSION_DICT = {\n",
    "    \"1\": 1,\n",
    "    \"2\": 2,\n",
    "    \"3\": 3,\n",
    "    \"4\": 4,\n",
    "    \"5\": 5,\n",
    "    \"6\": 6,\n",
    "    \"7\": 7,\n",
    "    \"8\": 8,\n",
    "    \"9\": 9,\n",
    "    \"0\": 0,\n",
    "}\n",
    "\n",
    "\n",
    "def string_to_integer(input_str):\n",
    "    output_num = 0\n",
    "    num_to_multiply = len(input_str) - 1\n",
    "\n",
    "    for char_num in input_str:\n",
    "        digit_int = COVERSION_DICT[char_num]\n",
    "\n",
    "        for _ in range(num_to_multiply):\n",
    "            digit_int *= 10\n",
    "\n",
    "        num_to_multiply -= 1\n",
    "\n",
    "        output_num += digit_int\n",
    "\n",
    "    return output_num\n",
    "\n",
    "\n",
    "\n",
    "print(string_to_integer(\"4321\") == 4321)  # True\n",
    "print(string_to_integer(\"570\") == 570)    # True"
   ]
  },
  {
   "cell_type": "markdown",
   "id": "da534c17-ebef-4cea-a4e7-d83a6ab5a6eb",
   "metadata": {},
   "source": [
    "## Further Exploration\n",
    "\n",
    "Write a hexadecimal_to_integer function that converts a string representing a hexadecimal number to its integer value. \n",
    "Hexadecimal numbers use base 16 instead of 10, and the characters A, B, C, D, E and F (and the lowercase equivalents) \n",
    "correspond to decimal values of 10-15.\n",
    "Example\n",
    "\n",
    "```python\n",
    "print(hexadecimal_to_integer('4D9f') == 19871)  # True\n",
    "```"
   ]
  },
  {
   "cell_type": "code",
   "execution_count": 21,
   "id": "4fd5eab4-c6f1-4689-ab61-a55c4550e9e7",
   "metadata": {},
   "outputs": [
    {
     "name": "stdout",
     "output_type": "stream",
     "text": [
      "True\n"
     ]
    }
   ],
   "source": [
    "COVERSION_DICT = {\n",
    "    \"1\": 1,\n",
    "    \"2\": 2,\n",
    "    \"3\": 3,\n",
    "    \"4\": 4,\n",
    "    \"5\": 5,\n",
    "    \"6\": 6,\n",
    "    \"7\": 7,\n",
    "    \"8\": 8,\n",
    "    \"9\": 9,\n",
    "    \"a\": 10,\n",
    "    \"b\": 11,\n",
    "    \"c\": 12,\n",
    "    \"d\": 13,\n",
    "    \"e\": 14,\n",
    "    \"f\": 15,\n",
    "    \"0\": 0,\n",
    "}\n",
    "\n",
    "\n",
    "def hexadecimal_to_integer(input_str):\n",
    "    output_num = 0\n",
    "    num_to_multiply = len(input_str) - 1\n",
    "    input_str = input_str.lower()\n",
    "\n",
    "    for char_num in input_str:\n",
    "        digit_int = COVERSION_DICT[char_num]\n",
    "\n",
    "        for _ in range(num_to_multiply):\n",
    "            digit_int *= 16\n",
    "\n",
    "        num_to_multiply -= 1\n",
    "\n",
    "        output_num += digit_int\n",
    "\n",
    "    return output_num\n",
    "\n",
    "\n",
    "\n",
    "print(hexadecimal_to_integer('4D9f') == 19871)\n"
   ]
  },
  {
   "cell_type": "markdown",
   "id": "e5fb0349-9c1f-4bba-aab7-5084061b7236",
   "metadata": {},
   "source": [
    "# **9. Convert a String to a Signed Number**\n",
    "\n",
    "In the previous exercise, you developed a function that converts simple numeric strings to integers. \n",
    "In this exercise, you're going to extend that function to work with signed numbers.\n",
    "\n",
    "Write a function that takes a string of digits and returns the appropriate number as an integer. \n",
    "The string may have a leading + or - sign; if the first character is a +, your function should return a positive number; \n",
    "if it is a -, your function should return a negative number. If there is no sign, return a positive number.\n",
    "\n",
    "You may assume the string will always contain a valid number.\n",
    "\n",
    "You may not use any of the standard conversion functions available in Python, such as int. You may, however, use the string_to_integer function from the previous exercise."
   ]
  },
  {
   "cell_type": "markdown",
   "id": "78a89287-7699-41ef-901b-cc7c52ab4c17",
   "metadata": {},
   "source": [
    "## Input/Output\n",
    "\n",
    "Input: \n",
    "* String containing a number, with an optioonal prefix of \"-\" or \"+ to represent sign\n",
    "\n",
    "Output:\n",
    "* Integer represantation of input number"
   ]
  },
  {
   "cell_type": "markdown",
   "id": "eff626ea-70bc-4a55-9e6b-04ca0f5eacf2",
   "metadata": {},
   "source": [
    "## Data/Algorithm\n",
    "\n",
    "get_sign, helpter function:\n",
    "if first element is numeric or equal to \"+\":\n",
    "    * return \"+\"\n",
    "else:\n",
    "    * return \"-\"\n",
    "\n",
    "Main function:\n",
    "set sign to sign from get_sign\n",
    "\n",
    "if first element is not numeric:\n",
    "* remove first element\n",
    "Use function to set output_num\n",
    "if sign is \"+\":\n",
    "* return output_num\n",
    "else:\n",
    "* return output_num * -1"
   ]
  },
  {
   "cell_type": "markdown",
   "id": "b4d1408b-78e2-46dd-a5f2-df20e70b47b7",
   "metadata": {},
   "source": [
    "## Examples/Test Cases\n",
    "\n",
    "```python\n",
    "print(string_to_signed_integer(\"4321\") == 4321)  # True\n",
    "print(string_to_signed_integer(\"-570\") == -570)  # True\n",
    "print(string_to_signed_integer(\"+100\") == 100)   # True\n",
    "```"
   ]
  },
  {
   "cell_type": "code",
   "execution_count": null,
   "id": "053c54a5-a9c3-45fb-90da-ef619e2e90a5",
   "metadata": {},
   "outputs": [],
   "source": [
    "COVERSION_DICT = {\n",
    "    \"1\": 1,\n",
    "    \"2\": 2,\n",
    "    \"3\": 3,\n",
    "    \"4\": 4,\n",
    "    \"5\": 5,\n",
    "    \"6\": 6,\n",
    "    \"7\": 7,\n",
    "    \"8\": 8,\n",
    "    \"9\": 9,\n",
    "    \"0\": 0,\n",
    "}\n",
    "\n",
    "\n",
    "def string_to_integer(input_str):\n",
    "    output_num = 0\n",
    "    num_to_multiply = len(input_str) - 1\n",
    "\n",
    "    for char_num in input_str:\n",
    "        digit_int = COVERSION_DICT[char_num]\n",
    "\n",
    "        for _ in range(num_to_multiply):\n",
    "            digit_int *= 10\n",
    "\n",
    "        num_to_multiply -= 1\n",
    "\n",
    "        output_num += digit_int\n",
    "\n",
    "    return output_num\n",
    "\n",
    "def get_sign_from_string(input_str):\n",
    "    first_char = input_str[0]\n",
    "\n",
    "    if (first_char == \"+\") or first_char.isnumeric():\n",
    "        return \"+\"\n",
    "    else:\n",
    "        return \"-\"\n",
    "\n",
    "print(get_sign_from_string(\"-120\"))\n",
    "\n",
    "\n",
    "def string_to_signed_integer(num_as_string):\n",
    "    sign = get_sign_from_string(num_as_string)\n",
    "\n",
    "    if not num_as_string[0].isnumeric():\n",
    "        num_as_string = num_as_string[1:]\n",
    "\n",
    "    output_num = string_to_integer(num_as_string)\n",
    "\n",
    "    if sign == \"+\":\n",
    "        return output_num\n",
    "    else:\n",
    "        return output_num * -1\n",
    "\n",
    "\n",
    "print(string_to_signed_integer(\"4321\") == 4321)  # True\n",
    "print(string_to_signed_integer(\"-570\") == -570)  # True\n",
    "print(string_to_signed_integer(\"+100\") == 100)   # True"
   ]
  },
  {
   "cell_type": "markdown",
   "id": "6f1e7f51-1fe0-43e3-84a8-7860876d6684",
   "metadata": {},
   "source": [
    "# **10. Convert a Number to a String**\n",
    "\n",
    "In the previous two exercises, you developed functions that convert simple numeric strings to signed integers. \n",
    "In this exercise and the next, you're going to reverse those functions.\n",
    "\n",
    "Write a function that converts a non-negative integer value (e.g., 0, 1, 2, 3, and so on) to the string representation of that integer.\n",
    "\n",
    "You may not use any of the standard conversion functions available in Python, such as str. \n",
    "Your function should do this the old-fashioned way and construct the string by analyzing and manipulating the number."
   ]
  },
  {
   "cell_type": "markdown",
   "id": "c89e229f-b876-4840-b0ae-5331c6441066",
   "metadata": {},
   "source": [
    "## Input/Output\n",
    "\n",
    "Input:\n",
    "* Non-negative integer\n",
    "\n",
    "Output:\n",
    "* String representation of input integer"
   ]
  },
  {
   "cell_type": "markdown",
   "id": "6493bba2-7bbd-4c33-859a-5e48bafb48a8",
   "metadata": {},
   "source": [
    "## Problem Domain\n",
    "\n",
    "What is a non-negative integer?\n",
    "* An integer 0 or greater"
   ]
  },
  {
   "cell_type": "markdown",
   "id": "7cc47033-fa7b-49e3-a56f-81efd075c138",
   "metadata": {},
   "source": [
    "## Implicit Requirements\n",
    "\n",
    "Return 0 as string \"0\"\n",
    "\n"
   ]
  },
  {
   "cell_type": "markdown",
   "id": "6ed92162-4606-44f4-9ade-6dfa19fe6a82",
   "metadata": {},
   "source": [
    "## Clarifying Questions\n",
    "\n",
    "N/A"
   ]
  },
  {
   "cell_type": "markdown",
   "id": "82b5e053-1a88-4597-81fc-81fa06aafe16",
   "metadata": {},
   "source": [
    "## Examples/Test Cases\n",
    "\n",
    "```python \n",
    "print(integer_to_string(4321) == \"4321\")              # True\n",
    "print(integer_to_string(0) == \"0\")                    # True\n",
    "print(integer_to_string(5000) == \"5000\")              # True\n",
    "print(integer_to_string(1234567890) == \"1234567890\")  # True\n",
    "```"
   ]
  },
  {
   "cell_type": "markdown",
   "id": "42e3599d-540c-48fc-bd89-33aedba46474",
   "metadata": {},
   "source": [
    "## Mental Model\n",
    "\n",
    "Take an integer of 0 or greater as input, and return the integer as a string"
   ]
  },
  {
   "cell_type": "markdown",
   "id": "f8034987-c473-4a41-8c0b-e07d7cbad6e8",
   "metadata": {},
   "source": [
    "## Data/Algorithm\n",
    "\n",
    "Set constant CONVERSION_DICT\n",
    "\n",
    "function: integer_to_string: input_int\n",
    "if input_int equals 0:\n",
    "* return string \"0\"\n",
    "\n",
    "set output_str to empty string\n",
    "\n",
    "Loop while input_int does not equal zero:\n",
    "* set num_to_remove to last digit of input_int\n",
    "* set num_as_char: convert using CONVERSION_DICT\n",
    "* Add num_as_char to first element for output_str\n",
    "* reassign input_int to floor division by 10\n",
    "\n",
    "return output_str"
   ]
  },
  {
   "cell_type": "code",
   "execution_count": 44,
   "id": "79007523-0f57-4de4-a954-7eef7dab9e4f",
   "metadata": {},
   "outputs": [
    {
     "name": "stdout",
     "output_type": "stream",
     "text": [
      "True\n",
      "True\n",
      "True\n",
      "True\n"
     ]
    }
   ],
   "source": [
    "COVERSION_DICT = {\n",
    "    1: \"1\",\n",
    "    2: \"2\",\n",
    "    3: \"3\",\n",
    "    4: \"4\",\n",
    "    5: \"5\",\n",
    "    6: \"6\",\n",
    "    7: \"7\",\n",
    "    8: \"8\",\n",
    "    9: \"9\",\n",
    "    0: \"0\",\n",
    "}\n",
    "\n",
    "\n",
    "\n",
    "def integer_to_string(input_int):\n",
    "    if input_int == 0:\n",
    "        return \"0\"\n",
    "\n",
    "    output_str = \"\"\n",
    "    \n",
    "    while input_int != 0:\n",
    "        num_to_remove = input_int % 10\n",
    "        num_as_char = COVERSION_DICT[num_to_remove]\n",
    "\n",
    "        output_str = num_as_char + output_str\n",
    "\n",
    "        input_int = input_int // 10\n",
    "\n",
    "    return output_str\n",
    "\n",
    "\n",
    "\n",
    "print(integer_to_string(4321) == \"4321\")              # True\n",
    "print(integer_to_string(0) == \"0\")                    # True\n",
    "print(integer_to_string(5000) == \"5000\")              # True\n",
    "print(integer_to_string(1234567890) == \"1234567890\")  # True"
   ]
  },
  {
   "cell_type": "markdown",
   "id": "8da67029-a509-4dc3-8b9a-2b5317cf35d6",
   "metadata": {},
   "source": [
    "# **11. Covert a Signed Number to a String**\n",
    "\n",
    "In the previous exercise, you developed a function that converts non-negative numbers to strings. \n",
    "In this exercise, you're going to extend that function by adding the ability to represent negative numbers as well.\n",
    "\n",
    "Write a function that takes an integer and converts it to a string representation.\n",
    "\n",
    "You may not use any of the standard conversion functions available in Python, such as str. \n",
    "You may, however, use integer_to_string from the previous exercise."
   ]
  },
  {
   "cell_type": "markdown",
   "id": "bee60f18-5170-4194-8c47-b0004dfeef4b",
   "metadata": {},
   "source": [
    "## Input/Output\n",
    "\n",
    "Input:\n",
    "* Any integer\n",
    "\n",
    "Output:\n",
    "* String representation of input, containing prefix of sign if relevant"
   ]
  },
  {
   "cell_type": "code",
   "execution_count": null,
   "id": "95d07563-233e-4227-a326-b5687ecc2cea",
   "metadata": {},
   "outputs": [],
   "source": []
  },
  {
   "cell_type": "code",
   "execution_count": 40,
   "id": "90f9c93d-472d-400f-9414-ede04302f384",
   "metadata": {},
   "outputs": [
    {
     "ename": "SyntaxError",
     "evalue": "invalid syntax (961582235.py, line 3)",
     "output_type": "error",
     "traceback": [
      "  \u001b[36mCell\u001b[39m\u001b[36m \u001b[39m\u001b[32mIn[40]\u001b[39m\u001b[32m, line 3\u001b[39m\n\u001b[31m    \u001b[39m\u001b[31m```\u001b[39m\n    ^\n\u001b[31mSyntaxError\u001b[39m\u001b[31m:\u001b[39m invalid syntax\n"
     ]
    }
   ],
   "source": [
    "## Examples/Test Cases\n",
    "\n",
    "```\n",
    "print(signed_integer_to_string(4321) == \"+4321\")  # True\n",
    "print(signed_integer_to_string(-123) == \"-123\")   # True\n",
    "print(signed_integer_to_string(0) == \"0\")         # True\n",
    "```"
   ]
  },
  {
   "cell_type": "markdown",
   "id": "579f2cc7-4c67-464e-9447-7df0804df411",
   "metadata": {},
   "source": [
    "## Data/Algorithm\n",
    "\n",
    "Helper function: integer_to_str:\n",
    "* Same as previous excercise\n",
    "\n",
    "Function, signed_integer to string:\n",
    "* Set string_without_sign using helper function\n",
    "* if input_int is 0:\n",
    "    * return string_without_sign\n",
    "* else if input int is positive:\n",
    "    * Return string with \"+\" as prefix\n",
    "* if input_int is negative\n",
    "    * Return string with \"-\" as prefix "
   ]
  },
  {
   "cell_type": "code",
   "execution_count": 2,
   "id": "e2d3d7b7-ea4a-4f1e-807b-66d78dbd2afd",
   "metadata": {},
   "outputs": [
    {
     "name": "stdout",
     "output_type": "stream",
     "text": [
      "True\n",
      "True\n",
      "True\n"
     ]
    }
   ],
   "source": [
    "COVERSION_DICT = {\n",
    "    1: \"1\",\n",
    "    2: \"2\",\n",
    "    3: \"3\",\n",
    "    4: \"4\",\n",
    "    5: \"5\",\n",
    "    6: \"6\",\n",
    "    7: \"7\",\n",
    "    8: \"8\",\n",
    "    9: \"9\",\n",
    "    0: \"0\",\n",
    "}\n",
    "\n",
    "\n",
    "\n",
    "def integer_to_string(input_int):\n",
    "    if input_int == 0:\n",
    "        return \"0\"\n",
    "\n",
    "    output_str = \"\"\n",
    "    \n",
    "    while input_int != 0:\n",
    "        num_to_remove = input_int % 10\n",
    "        num_as_char = COVERSION_DICT[num_to_remove]\n",
    "\n",
    "        output_str = num_as_char + output_str\n",
    "\n",
    "        input_int = input_int // 10\n",
    "\n",
    "    return output_str\n",
    "\n",
    "def signed_integer_to_string(input_int):\n",
    "    string_without_sign = integer_to_string(abs(input_int))\n",
    "\n",
    "    if input_int == 0:\n",
    "        return string_without_sign\n",
    "    elif input_int < 0:\n",
    "        return \"-\" + string_without_sign\n",
    "    else:\n",
    "        return \"+\" + string_without_sign\n",
    "\n",
    "\n",
    "\n",
    "print(signed_integer_to_string(4321) == \"+4321\")  # True\n",
    "print(signed_integer_to_string(-123) == \"-123\")   # True\n",
    "print(signed_integer_to_string(0) == \"0\")         # True"
   ]
  },
  {
   "cell_type": "code",
   "execution_count": null,
   "id": "10fcf62c-3991-4737-bbc2-9c79c80482e3",
   "metadata": {},
   "outputs": [],
   "source": []
  }
 ],
 "metadata": {
  "kernelspec": {
   "display_name": "Python 3 (ipykernel)",
   "language": "python",
   "name": "python3"
  },
  "language_info": {
   "codemirror_mode": {
    "name": "ipython",
    "version": 3
   },
   "file_extension": ".py",
   "mimetype": "text/x-python",
   "name": "python",
   "nbconvert_exporter": "python",
   "pygments_lexer": "ipython3",
   "version": "3.12.3"
  }
 },
 "nbformat": 4,
 "nbformat_minor": 5
}
