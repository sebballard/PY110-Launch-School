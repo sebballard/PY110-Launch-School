{
 "cells": [
  {
   "cell_type": "markdown",
   "id": "befdc4b4-3f9c-4f4a-87f2-7afd1aba3e51",
   "metadata": {},
   "source": [
    "# **1. Alphabetical Numbers** \n",
    "\n",
    "Write a function that takes a list of integers between 0 and 19 and returns a list of those integers sorted based on the English word for each number:\n",
    "\n",
    "    zero, one, two, three, four, five, six, seven, eight, nine, ten, eleven, twelve, thirteen, fourteen, fifteen, sixteen, seventeen, eighteen, nineteen\n",
    "\n"
   ]
  },
  {
   "cell_type": "markdown",
   "id": "e1e2964f-fb29-4fc1-a649-5645c96f2530",
   "metadata": {
    "jp-MarkdownHeadingCollapsed": true
   },
   "source": [
    "## Input/Output\n",
    "\n",
    "Input:\n",
    "* List containing integers between 0 and 19\n",
    "\n",
    "Output:\n",
    "* List of the integers in alphabetical order"
   ]
  },
  {
   "cell_type": "markdown",
   "id": "350f5cb0-0949-4adf-91cb-fcb03551a1a4",
   "metadata": {
    "jp-MarkdownHeadingCollapsed": true
   },
   "source": [
    "## Problem Domain\n",
    "\n",
    "N/A"
   ]
  },
  {
   "cell_type": "markdown",
   "id": "6913604e-b753-47a8-899c-bc244ce71a63",
   "metadata": {
    "jp-MarkdownHeadingCollapsed": true
   },
   "source": [
    "## Implicit Requirements\n",
    "\n",
    "N/A"
   ]
  },
  {
   "cell_type": "markdown",
   "id": "61b7b722-7c21-41ab-8b4d-7aa925170251",
   "metadata": {
    "jp-MarkdownHeadingCollapsed": true
   },
   "source": [
    "## Examples/Test Cases\n",
    "\n",
    "```python\n",
    "input_list = [0, 1, 2, 3, 4, 5, 6, 7, 8, 9,\n",
    "              10, 11, 12, 13, 14, 15, 16, 17, 18, 19]\n",
    "\n",
    "expected_result = [8, 18, 11, 15, 5, 4, 14, 9, 19, 1,\n",
    "                   7, 17, 6, 16, 10, 13, 3, 12, 2, 0]\n",
    "\n",
    "print(alphabetic_number_sort(input_list) == expected_result)\n",
    "# Prints True\n",
    "```"
   ]
  },
  {
   "cell_type": "markdown",
   "id": "89cc443e-a05a-40f7-92b7-d476b15d1b99",
   "metadata": {},
   "source": [
    "## Data/Agorithm\n",
    "\n",
    "Set conversion list\n",
    "\n",
    "func: get_num_idx: num\n",
    "* return index of num using conversion_list\n",
    "\n",
    "func: alphabetic_number_sort: input_list\n",
    "* Set output_list to empty list\n",
    "* Loop over input_elem of input_list\n",
    "    * set input_elem_idx using input_elem with get_num_idx\n",
    "    * if output_list is empty:\n",
    "        * add input_elem to output_list\n",
    "        * go to next loop\n",
    "    * Loop over idx, output_elem of output_list:\n",
    "        * Set output_elem_idx\n",
    "        * if input_elem_idx is smaller or equal to output_elem_idx:\n",
    "            * Add input_elem to out_put list at idx\n",
    "            * continue\n",
    "        * Add input_elem to end of output_list"
   ]
  },
  {
   "cell_type": "code",
   "execution_count": null,
   "id": "79bdf419-d623-4146-b2b8-e0b291502adc",
   "metadata": {},
   "outputs": [],
   "source": []
  },
  {
   "cell_type": "code",
   "execution_count": 28,
   "id": "53688b74-8e23-44b4-9571-1825bbbd2a11",
   "metadata": {},
   "outputs": [
    {
     "name": "stdout",
     "output_type": "stream",
     "text": [
      "[8, 8, 18, 11, 15, 5, 4, 14, 9, 19, 1, 7, 17, 6, 16, 10, 13, 3, 12, 2, 2, 0, 0]\n"
     ]
    }
   ],
   "source": [
    "### Version without debugging print statements\n",
    "\n",
    "\n",
    "CONVERSION_LIST = [8, 18, 11, 15, 5, 4, 14, 9, 19, 1,\n",
    "                   7, 17, 6, 16, 10, 13, 3, 12, 2, 0]\n",
    "\n",
    "\n",
    "def get_num_idx(num):\n",
    "    return CONVERSION_LIST.index(num)\n",
    "\n",
    "def alphabetic_number_sort(input_list):\n",
    "    output_list = []\n",
    "\n",
    "    for input_idx, input_elem in enumerate(input_list):\n",
    "        if len(output_list) == 0:\n",
    "            output_list.append(input_elem)\n",
    "            continue\n",
    "            \n",
    "        \n",
    "        input_elem_idx = get_num_idx(input_elem)\n",
    "       \n",
    "        for output_idx, output_elem in enumerate(output_list):\n",
    "            output_elem_idx = get_num_idx(output_elem)\n",
    "\n",
    "            if input_elem_idx <= output_elem_idx:\n",
    "                output_list.insert(output_idx, input_elem)\n",
    "                break\n",
    "            if input_elem_idx > get_num_idx(output_list[-1]):\n",
    "                output_list.append(input_elem)\n",
    "            \n",
    "\n",
    "            \n",
    "        \n",
    "    return output_list\n",
    "\n",
    "input_list = [1, 2, 3, 4, 5, 6, 7, 8, 9,\n",
    "              10, 11, 12, 13, 14, 15, 16, 17, 18, 19, 0, 8]\n",
    "\n",
    "expected_result = [8, 18, 11, 15, 5, 4, 14, 9, 19, 1,\n",
    "                   7, 17, 6, 16, 10, 13, 3, 12, 2, 0]\n",
    "\n",
    "print(alphabetic_number_sort(input_list))\n",
    "# Prints True"
   ]
  },
  {
   "cell_type": "markdown",
   "id": "50bf08d0-19bd-47e5-8a74-4c42f8d17844",
   "metadata": {},
   "source": [
    "# **2. Merge Sets**\n",
    "\n",
    "Given two lists, convert them to sets and return a new set which is the union of both sets."
   ]
  },
  {
   "cell_type": "markdown",
   "id": "0451e4d2-7a22-4aa8-bfe7-d78b33045b7c",
   "metadata": {},
   "source": [
    "## Examples/Test Cases\n",
    "\n",
    "```python \n",
    "list1 = [3, 5, 7, 9]\n",
    "list2 = [5, 7, 11, 13]\n",
    "print(merge_sets(list1, list2) == {3, 5, 7, 9, 11, 13})\n",
    "# Prints True\n",
    "```"
   ]
  },
  {
   "cell_type": "code",
   "execution_count": 34,
   "id": "22305b61-0309-4d7d-bef0-39435fc93e2e",
   "metadata": {},
   "outputs": [
    {
     "name": "stdout",
     "output_type": "stream",
     "text": [
      "True\n"
     ]
    }
   ],
   "source": [
    "# def merge_sets(input_list1, input_list2):\n",
    "#     return set(input_list1).add(set(input_list2))\n",
    "\n",
    "def merge_sets(input_list1, input_list2):\n",
    "    set1 = set(input_list1)\n",
    "    set2 = set(input_list2)\n",
    "\n",
    "    merged_set = set1 | set2\n",
    "\n",
    "    return merged_set\n",
    "list1 = [3, 5, 7, 9]\n",
    "list2 = [5, 7, 11, 13]\n",
    "print(merge_sets(list1, list2) == {3, 5, 7, 9, 11, 13})\n",
    "# Prints True"
   ]
  },
  {
   "cell_type": "markdown",
   "id": "dca44121-6199-4771-8798-a483fb2c9782",
   "metadata": {},
   "source": [
    "# **3. Immutable Intersection**\n",
    "\n",
    "Transform two lists into frozen sets and find their common elements."
   ]
  },
  {
   "cell_type": "markdown",
   "id": "bcc38037-3b98-43a7-849e-0bf6699b5b60",
   "metadata": {},
   "source": [
    "## Examples/Test Cases\n",
    "\n",
    "```python \n",
    "list1 = [2, 4, 6, 8]\n",
    "list2 = [1, 3, 5, 7, 8]\n",
    "expected_result = frozenset({8})\n",
    "print(intersection(list1, list2) == expected_result) # True\n",
    "```"
   ]
  },
  {
   "cell_type": "code",
   "execution_count": 35,
   "id": "617ac22f-b983-4dac-bc30-513aaff93953",
   "metadata": {},
   "outputs": [
    {
     "name": "stdout",
     "output_type": "stream",
     "text": [
      "True\n"
     ]
    }
   ],
   "source": [
    "def intersection(input_list1, input_list2):\n",
    "    fs1 = frozenset(input_list1)\n",
    "    fs2 = frozenset(input_list2)\n",
    "\n",
    "    fs_intersection = fs1.intersection(fs2)\n",
    "\n",
    "    return fs_intersection\n",
    "\n",
    "list1 = [2, 4, 6, 8]\n",
    "list2 = [1, 3, 5, 7, 8]\n",
    "expected_result = frozenset({8})\n",
    "print(intersection(list1, list2) == expected_result) # True"
   ]
  },
  {
   "cell_type": "markdown",
   "id": "eb8d15df-5a37-44f8-a0f3-a94de1814102",
   "metadata": {},
   "source": [
    "# **4. Arrange a Dictionary**\n",
    "\n",
    "Given a dictionary, return its keys sorted by the values associated with each key."
   ]
  },
  {
   "cell_type": "markdown",
   "id": "cabc5e4b-2cdc-472b-b1f7-31c1b0f9f66c",
   "metadata": {},
   "source": [
    "## Input/Output\n",
    "\n",
    "Input:\n",
    "* Dictionary\n",
    "\n",
    "Output:\n",
    "* List containing input keys, ordered by the relevant value related to the key"
   ]
  },
  {
   "cell_type": "markdown",
   "id": "e76a3add-10cf-4574-bb72-c3c2dca6e73a",
   "metadata": {},
   "source": [
    "## Examples/Test Cases\n",
    "\n",
    "```python \n",
    "my_dict = {'p': 8, 'q': 2, 'r': 6}\n",
    "keys = ['q', 'r', 'p']\n",
    "print(order_by_value(my_dict) == keys)  # True\n",
    "```"
   ]
  },
  {
   "cell_type": "markdown",
   "id": "2bf3ba17-79b2-47ed-a9e4-225528ad218d",
   "metadata": {},
   "source": [
    "## Data/Algorithm\n",
    "\n",
    "sort_func:\n",
    "    return str(my_dict[elem])\n",
    "\n",
    "func: order_by_value: input_dict\n",
    "* use sort_func to sort list of keys\n"
   ]
  },
  {
   "cell_type": "code",
   "execution_count": 40,
   "id": "d3db4ddd-7b2e-4f08-9af8-f86562228ba3",
   "metadata": {},
   "outputs": [
    {
     "name": "stdout",
     "output_type": "stream",
     "text": [
      "True\n"
     ]
    }
   ],
   "source": [
    "my_dict = {'p': 8, 'q': 2, 'r': 6}\n",
    "\n",
    "def sort_func(input_key):\n",
    "    return my_dict[input_key]\n",
    "\n",
    "def order_by_value(input_dict):\n",
    "    output_list_unsorted = list(input_dict.keys())\n",
    "\n",
    "    return sorted(output_list_unsorted, key=sort_func)\n",
    "\n",
    "my_dict = {'p': 8, 'q': 2, 'r': 6}\n",
    "keys = ['q', 'r', 'p']\n",
    "print(order_by_value(my_dict) == keys)  # True"
   ]
  },
  {
   "cell_type": "markdown",
   "id": "f4feeba1-f1e6-4707-b7a5-010fb9ae8508",
   "metadata": {},
   "source": [
    "# **5. Unique Elements**\n",
    "\n",
    "From two list arguments, determine the elements that are unique to the first list. The return value should be a set."
   ]
  },
  {
   "cell_type": "markdown",
   "id": "4a5dbff0-25e3-4ce6-b226-bccd577923c9",
   "metadata": {},
   "source": [
    "## Input/Output\n",
    "\n",
    "Input:\n",
    "* Two lists\n",
    "\n",
    "Output:\n",
    "* Set containing only elements unique to the first input list\n",
    "\n"
   ]
  },
  {
   "cell_type": "markdown",
   "id": "571b1a0f-0e36-4199-bf02-e6282b41b066",
   "metadata": {},
   "source": [
    "## Examples/Test Cases\n",
    "\n",
    "```python \n",
    "list1 = [3, 6, 9, 12]\n",
    "list2 = [6, 12, 15, 18]\n",
    "print(unique_from_first(list1, list2) == {9, 3})\n",
    "```\n"
   ]
  },
  {
   "cell_type": "markdown",
   "id": "86de876e-0c5c-4289-8289-94d8de28f9d2",
   "metadata": {},
   "source": [
    "## Data/Algorithm\n",
    "\n",
    "func unique_from_first: input_list1, input_list2\n",
    "* Set output_set to empty set\n",
    "* Iterate over elements of input_list1\n",
    "    * If element is in input_list2\n",
    "        * skip to next loop\n",
    "    * Add element to output_set\n",
    "* return output_set "
   ]
  },
  {
   "cell_type": "code",
   "execution_count": 1,
   "id": "c8882417-96ad-4467-82c5-167b0d6a6572",
   "metadata": {},
   "outputs": [
    {
     "name": "stdout",
     "output_type": "stream",
     "text": [
      "True\n"
     ]
    }
   ],
   "source": [
    "def unique_from_first(input_list1, input_list2):\n",
    "    output_set = set()\n",
    "\n",
    "    for elem in input_list1:\n",
    "        if elem in input_list2:\n",
    "            continue\n",
    "        output_set.add(elem)\n",
    "\n",
    "    return output_set\n",
    "\n",
    "\n",
    "list1 = [3, 6, 9, 12]\n",
    "list2 = [6, 12, 15, 18]\n",
    "print(unique_from_first(list1, list2) == {9, 3})"
   ]
  },
  {
   "cell_type": "markdown",
   "id": "52f281ae-53e4-4120-8cb2-92ce72d96c4b",
   "metadata": {},
   "source": [
    "# **6. Leading Substrings**\n",
    "\n",
    "Write a function that takes a string argument and returns a list of substrings of that string. \n",
    "\n",
    "Each substring should begin with the first letter of the word, and the list should be ordered from shortest to longest."
   ]
  },
  {
   "cell_type": "markdown",
   "id": "5de67321-a549-41c2-a97c-cde0b425289f",
   "metadata": {},
   "source": [
    "## Input/Output\n",
    "\n",
    "Input:\n",
    "* String\n",
    "\n",
    "Output:\n",
    "* List containing all possible substrings which start at the first character of the input string"
   ]
  },
  {
   "cell_type": "markdown",
   "id": "51ed116d-a4c1-403a-b160-a11503a39398",
   "metadata": {},
   "source": [
    "## Examples/Test Cases\n",
    "\n",
    "```python \n",
    "# All of these examples should print True\n",
    "print(leading_substrings('abc') == ['a', 'ab', 'abc'])\n",
    "print(leading_substrings('a') == ['a'])\n",
    "print(leading_substrings('xyzy') == ['x', 'xy', 'xyz', 'xyzy'])\n",
    "```"
   ]
  },
  {
   "cell_type": "markdown",
   "id": "8bfd84c4-43c7-497d-a06d-8ccf0a5975b7",
   "metadata": {},
   "source": [
    "## Data/Algorithm\n",
    "\n",
    "func: leading_substrings: input_string\n",
    "* set output_list to empty list\n",
    "* set current_sub to empty string\n",
    "* Loop over characters in input_string\n",
    "    * Add char to current_sub\n",
    "    * Add current_sub to output_list\n",
    "* Return output_list"
   ]
  },
  {
   "cell_type": "code",
   "execution_count": 4,
   "id": "002730c2-b760-4a21-98b5-35581e4c064c",
   "metadata": {},
   "outputs": [
    {
     "name": "stdout",
     "output_type": "stream",
     "text": [
      "['a', 'ab', 'abc']\n",
      "['a']\n",
      "['x', 'xy', 'xyz', 'xyzy']\n",
      "[]\n"
     ]
    }
   ],
   "source": [
    "def leading_substrings(input_string):\n",
    "    output_list = []\n",
    "    current_sub = \"\"\n",
    "\n",
    "    for char in input_string:\n",
    "        current_sub += char\n",
    "        output_list.append(current_sub)\n",
    "\n",
    "    return output_list\n",
    "\n",
    "\n",
    "print(leading_substrings('abc') == ['a', 'ab', 'abc'])\n",
    "print(leading_substrings('a') == ['a'])\n",
    "print(leading_substrings('xyzy') == ['x', 'xy', 'xyz', 'xyzy'])"
   ]
  },
  {
   "cell_type": "code",
   "execution_count": 3,
   "id": "5ef04c82-ef98-479d-99b4-7a59fab93850",
   "metadata": {},
   "outputs": [
    {
     "name": "stdout",
     "output_type": "stream",
     "text": [
      "True\n",
      "True\n",
      "True\n"
     ]
    }
   ],
   "source": [
    "def leading_substrings(input_string):\n",
    "\n",
    "    return [input_string[: idx + 1] for idx in range(len(input_string))]\n",
    "\n",
    "print(leading_substrings('abc') == ['a', 'ab', 'abc'])\n",
    "print(leading_substrings('a') == ['a'])\n",
    "print(leading_substrings('xyzy') == ['x', 'xy', 'xyz', 'xyzy'])"
   ]
  },
  {
   "cell_type": "markdown",
   "id": "841ccebf-d110-450e-b1cc-b77c13c233d5",
   "metadata": {},
   "source": [
    "## 7. All  Substrings\n",
    "\n",
    "Write a function that returns a list of all substrings of a string. \n",
    "\n",
    "Order the returned list by where in the string the substring begins. \n",
    "\n",
    "This means that all substrings that start at index position 0 should come first, then all substrings that start at index position 1, and so on. \n",
    "\n",
    "Since multiple substrings will occur at each position, return the substrings at a given index from shortest to longest.\n",
    "\n",
    "You may (and should) use the leading_substrings function you wrote in the previous exercise:"
   ]
  },
  {
   "cell_type": "markdown",
   "id": "fa91cd1b-a0bc-494d-bcda-635fc2f045bf",
   "metadata": {},
   "source": [
    "## Examples/Test Cases\n",
    "\n",
    "\n",
    "```python \n",
    "expected_result = [\n",
    "    \"a\", \"ab\", \"abc\", \"abcd\", \"abcde\",\n",
    "    \"b\", \"bc\", \"bcd\", \"bcde\",\n",
    "    \"c\", \"cd\", \"cde\",\n",
    "    \"d\", \"de\",\n",
    "    \"e\",\n",
    "]\n",
    "\n",
    "print(substrings('abcde') == expected_result)  # True\n",
    "```"
   ]
  },
  {
   "cell_type": "markdown",
   "id": "51e8b254-bd39-4c29-ae79-620826fb9c16",
   "metadata": {},
   "source": [
    "## Data/Algorithm\n",
    "\n",
    "func substrings: input_string\n",
    "* Set output_list to empty list\n",
    "* Loop over inndex values of input_string: idx\n",
    "    * Set sub_str to substring of input_string starting at idx\n",
    "    * Use helper function to get lsit of substrings\n",
    "    * Add list of substrings to output_list\n",
    "* return output_list"
   ]
  },
  {
   "cell_type": "code",
   "execution_count": 2,
   "id": "3b51776a-e25e-48a2-9927-013a8b392aa1",
   "metadata": {},
   "outputs": [
    {
     "name": "stdout",
     "output_type": "stream",
     "text": [
      "True\n"
     ]
    }
   ],
   "source": [
    "def leading_substrings(input_string):\n",
    "    output_list = []\n",
    "    current_sub = \"\"\n",
    "\n",
    "    for char in input_string:\n",
    "        current_sub += char\n",
    "        output_list.append(current_sub)\n",
    "\n",
    "    return output_list\n",
    "\n",
    "\n",
    "def substrings(input_string):\n",
    "    output_list = []\n",
    "\n",
    "    for idx in range(len(input_string)):\n",
    "        sub_str = input_string[idx:]\n",
    "\n",
    "        sub_str_list = leading_substrings(sub_str)\n",
    "\n",
    "        output_list += sub_str_list\n",
    "\n",
    "    return output_list\n",
    "\n",
    "expected_result = [\n",
    "    \"a\", \"ab\", \"abc\", \"abcd\", \"abcde\",\n",
    "    \"b\", \"bc\", \"bcd\", \"bcde\",\n",
    "    \"c\", \"cd\", \"cde\",\n",
    "    \"d\", \"de\",\n",
    "    \"e\",\n",
    "]\n",
    "\n",
    "print(substrings('abcde') == expected_result)\n"
   ]
  },
  {
   "cell_type": "markdown",
   "id": "6a0245be-ba81-47dd-8eef-e926f8605514",
   "metadata": {},
   "source": [
    "# **8. Palindromic Substrings**\n",
    "\n",
    "Write a function that returns a list of all palindromic substrings of a string. \n",
    "\n",
    "That is, each substring must consist of a sequence of characters that reads the same forward and backward. \n",
    "\n",
    "The substrings in the returned list should be sorted by their order of appearance in the input string. \n",
    "\n",
    "Duplicate substrings should be included multiple times.\n",
    "\n",
    "\n",
    "\n",
    "You may (and should) use the substrings function you wrote in the previous exercise.\n",
    "\n",
    "For the purpose of this exercise, you should consider all characters and pay attention to case; that is, 'AbcbA' is a palindrome, but 'Abcba' and 'Abc-bA' are not. In addition, assume that single characters are not palindromes."
   ]
  },
  {
   "cell_type": "markdown",
   "id": "01b1334e-8a29-47b1-af1f-e1f8f35db017",
   "metadata": {},
   "source": [
    "## Examples/Test Cases\n",
    "\n",
    "```python \n",
    "print(palindromes('abcd') == [])                  # True\n",
    "print(palindromes('madam') == ['madam', 'ada'])   # True\n",
    "\n",
    "print(palindromes('hello-madam-did-madam-goodbye') ==\n",
    "                  [\n",
    "                      'll', '-madam-', '-madam-did-madam-',\n",
    "                      'madam', 'madam-did-madam', 'ada',\n",
    "                      'adam-did-mada', 'dam-did-mad',\n",
    "                      'am-did-ma', 'm-did-m', '-did-',\n",
    "                      'did', '-madam-', 'madam', 'ada', 'oo',\n",
    "                  ])    # True\n",
    "\n",
    "print(palindromes('knitting cassettes') ==\n",
    "                  [\n",
    "                      'nittin', 'itti', 'tt', 'ss',\n",
    "                      'settes', 'ette', 'tt',\n",
    "                  ])    # True\n",
    "```"
   ]
  },
  {
   "cell_type": "code",
   "execution_count": 5,
   "id": "bc7a82c6-72c9-4d2c-95a9-09531a019cef",
   "metadata": {},
   "outputs": [
    {
     "name": "stdout",
     "output_type": "stream",
     "text": [
      "True\n",
      "True\n",
      "True\n",
      "True\n"
     ]
    }
   ],
   "source": [
    "def leading_substrings(input_string):\n",
    "    output_list = []\n",
    "    current_sub = \"\"\n",
    "\n",
    "    for char in input_string:\n",
    "        current_sub += char\n",
    "        output_list.append(current_sub)\n",
    "\n",
    "    return output_list\n",
    "\n",
    "\n",
    "def substrings(input_string):\n",
    "    output_list = []\n",
    "\n",
    "    for idx in range(len(input_string)):\n",
    "        sub_str = input_string[idx:]\n",
    "\n",
    "        sub_str_list = leading_substrings(sub_str)\n",
    "\n",
    "        output_list += sub_str_list\n",
    "\n",
    "    return output_list\n",
    "\n",
    "def is_palindrommic(input_str):\n",
    "    if len(input_str) == 1:\n",
    "        return False\n",
    "        \n",
    "    return input_str == input_str[::-1]\n",
    "\n",
    "def palindromes(input_str):\n",
    "    substrings_list = substrings(input_str)\n",
    "\n",
    "    palindromes_list = [substring for substring in substrings_list if is_palindrommic(substring)]\n",
    "\n",
    "    return palindromes_list\n",
    "\n",
    "print(palindromes('abcd') == [])                  # True\n",
    "print(palindromes('madam') == ['madam', 'ada'])   # True\n",
    "\n",
    "print(palindromes('hello-madam-did-madam-goodbye') ==\n",
    "                  [\n",
    "                      'll', '-madam-', '-madam-did-madam-',\n",
    "                      'madam', 'madam-did-madam', 'ada',\n",
    "                      'adam-did-mada', 'dam-did-mad',\n",
    "                      'am-did-ma', 'm-did-m', '-did-',\n",
    "                      'did', '-madam-', 'madam', 'ada', 'oo',\n",
    "                  ])    # True\n",
    "\n",
    "print(palindromes('knitting cassettes') ==\n",
    "                  [\n",
    "                      'nittin', 'itti', 'tt', 'ss',\n",
    "                      'settes', 'ette', 'tt',\n",
    "                  ])    # True"
   ]
  },
  {
   "cell_type": "markdown",
   "id": "18b9a84d-c30a-4e0e-8776-f37180feadbf",
   "metadata": {},
   "source": [
    "# **9. Inventory Item Transactions**\n",
    "\n",
    "Write a function that takes two arguments, an inventory item ID and a list of transactions, \n",
    "\n",
    "and returns a list containing only the transactions for the specified inventory item."
   ]
  },
  {
   "cell_type": "markdown",
   "id": "0a142d34-1666-4966-9688-181dfb9643d3",
   "metadata": {},
   "source": [
    "## Input/Output\n",
    "\n",
    "Input:\n",
    "* Integer representing inventory item ID\n",
    "* Dictionary formatted list of  transactionss\n",
    "\n",
    "Output:\n",
    "* List containing a dictionary for each transaction with corresponding ID"
   ]
  },
  {
   "cell_type": "markdown",
   "id": "98ee59ea-0ee0-460b-94a5-21a7dfe3a5af",
   "metadata": {},
   "source": [
    "## Problem Domain\n",
    "\n",
    "N/A"
   ]
  },
  {
   "cell_type": "markdown",
   "id": "ffc5cfb2-e7f6-47a4-a00f-f4b8523bdaa1",
   "metadata": {},
   "source": [
    "## Implicit Requirements\n",
    "\n",
    "Should the output contain copies of inpuyt dicctionaries or references to the originals?\n",
    "* Unclear, so e will use references to the original"
   ]
  },
  {
   "cell_type": "markdown",
   "id": "dce76167-486e-4bfa-acfd-f8b2decba4a1",
   "metadata": {},
   "source": [
    "## Examples/Test Cases\n",
    "\n",
    "```python\n",
    "\n",
    "transactions = [\n",
    "    {\"id\": 101, \"movement\": 'in',  \"quantity\":  5},\n",
    "    {\"id\": 105, \"movement\": 'in',  \"quantity\": 10},\n",
    "    {\"id\": 102, \"movement\": 'out', \"quantity\": 17},\n",
    "    {\"id\": 101, \"movement\": 'in',  \"quantity\": 12},\n",
    "    {\"id\": 103, \"movement\": 'out', \"quantity\": 20},\n",
    "    {\"id\": 102, \"movement\": 'out', \"quantity\": 15},\n",
    "    {\"id\": 105, \"movement\": 'in',  \"quantity\": 25},\n",
    "    {\"id\": 101, \"movement\": 'out', \"quantity\": 18},\n",
    "    {\"id\": 102, \"movement\": 'in',  \"quantity\": 22},\n",
    "    {\"id\": 103, \"movement\": 'out', \"quantity\": 15},\n",
    "]\n",
    "\n",
    "print(transactions_for(101, transactions) ==\n",
    "      [\n",
    "          {\"id\": 101, \"movement\": \"in\",  \"quantity\":  5},\n",
    "          {\"id\": 101, \"movement\": \"in\",  \"quantity\": 12},\n",
    "          {\"id\": 101, \"movement\": \"out\", \"quantity\": 18},\n",
    "      ]) # True\n",
    "```\n"
   ]
  },
  {
   "cell_type": "markdown",
   "id": "3d874e09-0615-43a3-96d1-24610dbf4733",
   "metadata": {},
   "source": [
    "## Data/Algorithm\n",
    "\n",
    "func: transactions_for: item_id, transaction_dicts_list\n",
    "* Set output_list top empty list\n",
    "* Iterate over transaction dictionaries in transaction_dicts_list: current_dict\n",
    "    * Set current_id to value of \"id\" key\n",
    "    * if item_id equals current_id:\n",
    "        * Add current_dictt to output_list\n",
    "* Return output_list "
   ]
  },
  {
   "cell_type": "code",
   "execution_count": 6,
   "id": "e5798c56-d18f-4d0b-bc9a-38b6809429da",
   "metadata": {},
   "outputs": [
    {
     "name": "stdout",
     "output_type": "stream",
     "text": [
      "True\n"
     ]
    }
   ],
   "source": [
    "def transactions_for(item_id, transaction_dicts_list):\n",
    "    output_list = []\n",
    "\n",
    "    for current_dict in transaction_dicts_list:\n",
    "        current_id = current_dict[\"id\"]\n",
    "\n",
    "        if item_id == current_id:\n",
    "            output_list.append(current_dict)\n",
    "\n",
    "    return output_list\n",
    "\n",
    "\n",
    "transactions = [\n",
    "    {\"id\": 101, \"movement\": 'in',  \"quantity\":  5},\n",
    "    {\"id\": 105, \"movement\": 'in',  \"quantity\": 10},\n",
    "    {\"id\": 102, \"movement\": 'out', \"quantity\": 17},\n",
    "    {\"id\": 101, \"movement\": 'in',  \"quantity\": 12},\n",
    "    {\"id\": 103, \"movement\": 'out', \"quantity\": 20},\n",
    "    {\"id\": 102, \"movement\": 'out', \"quantity\": 15},\n",
    "    {\"id\": 105, \"movement\": 'in',  \"quantity\": 25},\n",
    "    {\"id\": 101, \"movement\": 'out', \"quantity\": 18},\n",
    "    {\"id\": 102, \"movement\": 'in',  \"quantity\": 22},\n",
    "    {\"id\": 103, \"movement\": 'out', \"quantity\": 15},\n",
    "]\n",
    "\n",
    "print(transactions_for(101, transactions) ==\n",
    "      [\n",
    "          {\"id\": 101, \"movement\": \"in\",  \"quantity\":  5},\n",
    "          {\"id\": 101, \"movement\": \"in\",  \"quantity\": 12},\n",
    "          {\"id\": 101, \"movement\": \"out\", \"quantity\": 18},\n",
    "      ]) # True\n"
   ]
  },
  {
   "cell_type": "code",
   "execution_count": 9,
   "id": "289af009-f10f-497e-8236-c4184d312f50",
   "metadata": {},
   "outputs": [
    {
     "name": "stdout",
     "output_type": "stream",
     "text": [
      "True\n"
     ]
    }
   ],
   "source": [
    "## Alternate solution\n",
    "\n",
    "def transactions_for(item_id, transaction_dict_list):\n",
    "    output_list = [input_dict for input_dict in transaction_dict_list if input_dict[\"id\"] == item_id]\n",
    "\n",
    "    return output_list\n",
    "\n",
    "transactions = [\n",
    "    {\"id\": 101, \"movement\": 'in',  \"quantity\":  5},\n",
    "    {\"id\": 105, \"movement\": 'in',  \"quantity\": 10},\n",
    "    {\"id\": 102, \"movement\": 'out', \"quantity\": 17},\n",
    "    {\"id\": 101, \"movement\": 'in',  \"quantity\": 12},\n",
    "    {\"id\": 103, \"movement\": 'out', \"quantity\": 20},\n",
    "    {\"id\": 102, \"movement\": 'out', \"quantity\": 15},\n",
    "    {\"id\": 105, \"movement\": 'in',  \"quantity\": 25},\n",
    "    {\"id\": 101, \"movement\": 'out', \"quantity\": 18},\n",
    "    {\"id\": 102, \"movement\": 'in',  \"quantity\": 22},\n",
    "    {\"id\": 103, \"movement\": 'out', \"quantity\": 15},\n",
    "]\n",
    "\n",
    "print(transactions_for(101, transactions) ==\n",
    "      [\n",
    "          {\"id\": 101, \"movement\": \"in\",  \"quantity\":  5},\n",
    "          {\"id\": 101, \"movement\": \"in\",  \"quantity\": 12},\n",
    "          {\"id\": 101, \"movement\": \"out\", \"quantity\": 18},\n",
    "      ]) # True"
   ]
  },
  {
   "cell_type": "markdown",
   "id": "3e1c07fa-1ae8-44db-bf81-e25796b30aa0",
   "metadata": {},
   "source": [
    "# **10. Inventory Item Availability**\n",
    "\n",
    "Building on the previous exercise, write a function that returns True or False based on whether or not an inventory item (an ID number) is available. \n",
    "\n",
    "As before, the function takes two arguments: an item ID and a list of transactions. \n",
    "\n",
    "The function should return True only if the sum of the quantity values of the item's transactions is greater than zero. \n",
    "\n",
    "Notice that there is a movement property in each transaction object. \n",
    "\n",
    "A movement value of 'out' will decrease the item's quantity.\n",
    "\n",
    "You may (and should) use the transactions_for function from the previous exercise."
   ]
  },
  {
   "cell_type": "markdown",
   "id": "1c3bd075-ac62-40ff-a4c6-7f8bb42df35b",
   "metadata": {},
   "source": [
    "## Input/Output\n",
    "\n",
    "Input:\n",
    "* Item id: integer\n",
    "* List containing transaction information\n",
    "\n",
    "Output:\n",
    "* Boolean indicating whether an item is in stock or not\n"
   ]
  },
  {
   "cell_type": "markdown",
   "id": "9a96b05a-4135-4e18-bb21-34bda0e5581a",
   "metadata": {},
   "source": [
    "## Problem Domain\n",
    "\n",
    "What does it mean to be in stock?\n",
    "* In quantity greater than out quantity"
   ]
  },
  {
   "cell_type": "markdown",
   "id": "99c8bcdb-8b64-4109-aabc-d55f630aa62f",
   "metadata": {},
   "source": [
    "## Clarifying Questions\n",
    "\n",
    "What do we do the input item_id does not exist im transactions dictionary:\n",
    "* Not explicit in test cases but assume to return False "
   ]
  },
  {
   "cell_type": "markdown",
   "id": "37f07102-ba2c-40f4-9629-95d682340228",
   "metadata": {},
   "source": [
    "## Examples/Test Cases\n",
    "\n",
    "```python \n",
    "transactions = [\n",
    "    {\"id\": 101, \"movement\": 'in',  \"quantity\":  5},\n",
    "    {\"id\": 105, \"movement\": 'in',  \"quantity\": 10},\n",
    "    {\"id\": 102, \"movement\": 'out', \"quantity\": 17},\n",
    "    {\"id\": 101, \"movement\": 'in',  \"quantity\": 12},\n",
    "    {\"id\": 103, \"movement\": 'out', \"quantity\": 20},\n",
    "    {\"id\": 102, \"movement\": 'out', \"quantity\": 15},\n",
    "    {\"id\": 105, \"movement\": 'in',  \"quantity\": 25},\n",
    "    {\"id\": 101, \"movement\": 'out', \"quantity\": 18},\n",
    "    {\"id\": 102, \"movement\": 'in',  \"quantity\": 22},\n",
    "    {\"id\": 103, \"movement\": 'out', \"quantity\": 15},\n",
    "]\n",
    "\n",
    "print(is_item_available(101, transactions) == False)  # True\n",
    "print(is_item_available(103, transactions) == False)  # True\n",
    "print(is_item_available(105, transactions) == True)   # True\n",
    "```"
   ]
  },
  {
   "cell_type": "markdown",
   "id": "1949c841-9b88-492f-9805-ab1ed24177fd",
   "metadata": {},
   "source": [
    "## Data/Algorithm\n",
    "\n",
    "func: id_item_available: id, transactions_list:\n",
    "* Set item_stock to 0\n",
    "* Iterate through transactions in transactions_list: transaction\n",
    "    * Set current_id to value of \"id\" key of transaction\n",
    "    * If current_id does not equal id:\n",
    "        * Skip to next iteration\n",
    "    * If value for movement key is \"in\"\n",
    "        * Add quantity to item_stock\n",
    "    * If value for movement key is out:\n",
    "        * Remove quantity from item stock\n",
    "* Return True if item_stock is above zero, False otheriwise "
   ]
  },
  {
   "cell_type": "code",
   "execution_count": 11,
   "id": "e6cbdbda-be6d-4dec-b453-67765c8d9253",
   "metadata": {},
   "outputs": [
    {
     "name": "stdout",
     "output_type": "stream",
     "text": [
      "True\n",
      "True\n",
      "True\n"
     ]
    }
   ],
   "source": [
    "def transactions_for(item_id, transaction_dict_list):\n",
    "    output_list = [input_dict for input_dict in transaction_dict_list if input_dict[\"id\"] == item_id]\n",
    "\n",
    "    return output_list\n",
    "\n",
    "\n",
    "def is_item_available(item_id, transactions):\n",
    "    item_stock = 0\n",
    "\n",
    "    relevant_transactions = transactions_for(item_id, transactions)\n",
    "\n",
    "    for transaction in relevant_transactions:\n",
    "        movement_key =  transaction[\"movement\"]\n",
    "        transaction_quantity = transaction[\"quantity\"]\n",
    "        \n",
    "        if movement_key == \"in\":\n",
    "            item_stock += transaction_quantity\n",
    "        elif movement_key == \"out\":\n",
    "            item_stock -= transaction_quantity\n",
    "\n",
    "    return (item_stock > 0)\n",
    "        \n",
    "\n",
    "\n",
    "transactions = [\n",
    "    {\"id\": 101, \"movement\": 'in',  \"quantity\":  5},\n",
    "    {\"id\": 105, \"movement\": 'in',  \"quantity\": 10},\n",
    "    {\"id\": 102, \"movement\": 'out', \"quantity\": 17},\n",
    "    {\"id\": 101, \"movement\": 'in',  \"quantity\": 12},\n",
    "    {\"id\": 103, \"movement\": 'out', \"quantity\": 20},\n",
    "    {\"id\": 102, \"movement\": 'out', \"quantity\": 15},\n",
    "    {\"id\": 105, \"movement\": 'in',  \"quantity\": 25},\n",
    "    {\"id\": 101, \"movement\": 'out', \"quantity\": 18},\n",
    "    {\"id\": 102, \"movement\": 'in',  \"quantity\": 22},\n",
    "    {\"id\": 103, \"movement\": 'out', \"quantity\": 15},\n",
    "]\n",
    "\n",
    "print(is_item_available(101, transactions) == False)  # True\n",
    "print(is_item_available(103, transactions) == False)  # True\n",
    "print(is_item_available(105, transactions) == True)   # True"
   ]
  }
 ],
 "metadata": {
  "kernelspec": {
   "display_name": "Python 3 (ipykernel)",
   "language": "python",
   "name": "python3"
  },
  "language_info": {
   "codemirror_mode": {
    "name": "ipython",
    "version": 3
   },
   "file_extension": ".py",
   "mimetype": "text/x-python",
   "name": "python",
   "nbconvert_exporter": "python",
   "pygments_lexer": "ipython3",
   "version": "3.12.3"
  }
 },
 "nbformat": 4,
 "nbformat_minor": 5
}
