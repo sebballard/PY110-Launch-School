{
 "cells": [
  {
   "cell_type": "markdown",
   "id": "8f71e547-5275-4464-850b-3e87b4b088b5",
   "metadata": {
    "jp-MarkdownHeadingCollapsed": true
   },
   "source": [
    "# **1. After Midnight (Part 1)**\n",
    "\n",
    "The time of day can be represented as the number of minutes before or after midnight. \n",
    "\n",
    "If the number of minutes is positive, the time is after midnight. \n",
    "\n",
    "If the number of minutes is negative, the time is before midnight.\n",
    "\n",
    "\n",
    "Write a function that takes a time using this minute-based format and returns the time of day in 24-hour format (hh:mm). \n",
    "\n",
    "Your function should work with any integer input.\n",
    "\n",
    "You may not use Python's datetime module."
   ]
  },
  {
   "cell_type": "markdown",
   "id": "23e8a082-1286-4ebf-9cd4-5d021db16679",
   "metadata": {},
   "source": [
    "## Input/Output\n",
    "\n",
    "Input:\n",
    "* Integer representing the number of minutes before or after midnight\n",
    "\n",
    "Output:\n",
    "* String representing the time in 24 hour format"
   ]
  },
  {
   "cell_type": "markdown",
   "id": "ec76e0ad-24a3-4aad-9752-6da917148395",
   "metadata": {
    "editable": true,
    "slideshow": {
     "slide_type": ""
    },
    "tags": []
   },
   "source": [
    "## Problem Domain\n",
    "\n",
    "How do we get hours and minutes from total minutes?\n",
    "* Extract sign\n",
    "* Use modulo 60 to get num minutes\n",
    "* Floor division by 60 to get hours"
   ]
  },
  {
   "cell_type": "markdown",
   "id": "67dfb265-da41-4d68-9b28-8a910f87af8a",
   "metadata": {},
   "source": [
    "## Implicit Requirements\n",
    "\n",
    "* Can accept input number of minutes which are greater than a day long\n",
    "* \n"
   ]
  },
  {
   "cell_type": "markdown",
   "id": "332e5888-7979-4164-bdd6-593368890cc8",
   "metadata": {},
   "source": [
    "## Examples/Test Cases \n",
    "\n",
    "\n",
    "```python \n",
    "print(time_of_day(0) == \"00:00\")        # True\n",
    "print(time_of_day(-3) == \"23:57\")       # True\n",
    "print(time_of_day(35) == \"00:35\")       # True\n",
    "print(time_of_day(-1437) == \"00:03\")    # True\n",
    "print(time_of_day(3000) == \"02:00\")     # True\n",
    "print(time_of_day(800) == \"13:20\")      # True\n",
    "print(time_of_day(-4231) == \"01:29\")    # True\n",
    "```"
   ]
  },
  {
   "cell_type": "code",
   "execution_count": 6,
   "id": "42fc0564-87ae-42fd-9b99-98e67b128dc4",
   "metadata": {
    "editable": true,
    "slideshow": {
     "slide_type": ""
    },
    "tags": []
   },
   "outputs": [
    {
     "name": "stdout",
     "output_type": "stream",
     "text": [
      "0 0\n"
     ]
    }
   ],
   "source": [
    "minutes = 1440 % 60\n",
    "\n",
    "hours = 1440 // 60\n",
    "\n",
    "while hours >= 24:\n",
    "    hours -= 24\n",
    "\n",
    "print(hours, minutes)"
   ]
  },
  {
   "cell_type": "code",
   "execution_count": 7,
   "id": "3ed9a814-3b78-43dc-b20b-c12538da7a32",
   "metadata": {},
   "outputs": [
    {
     "name": "stdout",
     "output_type": "stream",
     "text": [
      "0 0\n",
      "23 60\n"
     ]
    }
   ],
   "source": [
    "minutes = 1440 % 60\n",
    "hours = 1440 // 60\n",
    "\n",
    "while hours >= 24:\n",
    "    hours -= 24\n",
    "\n",
    "print(hours, minutes)\n",
    "\n",
    "time_minutes = 60 - minutes\n",
    "time_hours = 23 - hours\n",
    "\n",
    "print(time_hours, time_minutes)\n"
   ]
  },
  {
   "cell_type": "markdown",
   "id": "00b2c2ca-4dc6-48af-bbea-178ab745f206",
   "metadata": {},
   "source": [
    "## Data/Algorithm\n",
    "\n",
    "function: extract_hours_minutes: minutes\n",
    "* set output_min to minutes modulo 60\n",
    "* set output_hours to minutes floor division by 60\n",
    "* while output_hours is greater than 24:\n",
    "    * reassign output hours to 24 less\n",
    "* return tuple (output_hours, output_minutes) \n",
    "\n",
    "function return_24_hours_str: num_hours, num_minutes, sign\n",
    "* if sign is positive:\n",
    "    * return hours:minutes as str\n",
    "* if sign is negative:\n",
    "    * set final_min to 60 minus num_minutes\n",
    "    * set final_hours to 23 - num_hours\n",
    "    * return final_hours:final_min as string\n",
    "\n",
    "function: time_of_day: num_minutes\n",
    "* Set sign to whether input is negative or positive\n",
    "* Set num_minutes to absolute value\n",
    "* Set time_tuple to output of extract_hours_minutes\n",
    "* return return_24_hours_str"
   ]
  },
  {
   "cell_type": "code",
   "execution_count": 21,
   "id": "dc3e0769-c4e6-4820-8721-b397a01bd4f2",
   "metadata": {},
   "outputs": [
    {
     "name": "stdout",
     "output_type": "stream",
     "text": [
      "0\n",
      "True\n",
      "3\n",
      "True\n",
      "35\n",
      "True\n",
      "57\n",
      "True\n",
      "0\n",
      "True\n",
      "20\n",
      "True\n",
      "31\n",
      "True\n"
     ]
    }
   ],
   "source": [
    "def extract_hours_minutes(minutes):\n",
    "    output_min = minutes % 60\n",
    "    print(output_min)\n",
    "    output_hours = minutes // 60\n",
    "\n",
    "    while output_hours >= 24:\n",
    "        output_hours -= 24\n",
    "\n",
    "    return (output_hours, output_min)\n",
    "\n",
    "\n",
    "def return_24_hours_string(num_hours, num_minutes, sign=\"+\"):\n",
    "    if sign == \"+\":\n",
    "        return f\"{num_hours:02d}:{num_minutes:02d}\"\n",
    "    elif sign == \"-\":\n",
    "        final_min = 60 - num_minutes\n",
    "        final_hours = 23 - num_hours\n",
    "        return f\"{final_hours:02d}:{final_min:02d}\"\n",
    "        \n",
    "def time_of_day(minutes):\n",
    "    if minutes < 0:\n",
    "        sign = \"-\"\n",
    "    else:\n",
    "        sign = \"+\"\n",
    "\n",
    "    minutes = abs(minutes)\n",
    "\n",
    "    time_tuple = extract_hours_minutes(minutes)\n",
    "\n",
    "    return return_24_hours_string(time_tuple[0], time_tuple[1], sign)\n",
    "    \n",
    "\n",
    "\n",
    "print(time_of_day(0) == \"00:00\")        # True\n",
    "print(time_of_day(-3) == \"23:57\")       # True\n",
    "print(time_of_day(35) == \"00:35\")       # True\n",
    "print(time_of_day(-1437) == \"00:03\")    # True\n",
    "print(time_of_day(3000) == \"02:00\")     # True\n",
    "print(time_of_day(800) == \"13:20\")      # True\n",
    "print(time_of_day(-4231) == \"01:29\")    # True"
   ]
  },
  {
   "cell_type": "markdown",
   "id": "b4fdd9b1-a8b8-4bf9-a9b7-aa9901f1838d",
   "metadata": {
    "jp-MarkdownHeadingCollapsed": true
   },
   "source": [
    "# **2. After Midnight (Part 2)**\n",
    "\n",
    "As seen in the previous exercise, the time of day can be represented as the number of minutes before or after midnight. \n",
    "\n",
    "If the number of minutes is positive, the time is after midnight. \n",
    "\n",
    "If the number of minutes is negative, the time is before midnight.\n",
    "\n",
    "Write two functions that each take a time of day in 24 hour format, and return the number of minutes before and after midnight, respectively. Both functions should return a value in the range 0 through 1439.\n",
    "\n",
    "You may not use Python's datetime module."
   ]
  },
  {
   "cell_type": "markdown",
   "id": "1ea8a634-1804-41bc-a640-c7516e93ecc5",
   "metadata": {},
   "source": [
    "## Examples/Test Cases\n",
    "\n",
    "```python \n",
    "print(after_midnight(\"00:00\") == 0)     # True\n",
    "print(before_midnight(\"00:00\") == 0)    # True\n",
    "print(after_midnight(\"12:34\") == 754)   # True\n",
    "print(before_midnight(\"12:34\") == 686)  # True\n",
    "print(after_midnight(\"24:00\") == 0)     # True\n",
    "print(before_midnight(\"24:00\") == 0)    # True\n",
    "```"
   ]
  },
  {
   "cell_type": "code",
   "execution_count": null,
   "id": "3ef1d80c-0c86-49b2-9844-1f0df8de5943",
   "metadata": {},
   "outputs": [],
   "source": [
    "23:30\n",
    "\n",
    "24 - (23 + 1): (60 - 30)\n",
    "00h 30m\n",
    "\n",
    "22:40\n",
    "24 - (22 + 1):60 - 40"
   ]
  },
  {
   "cell_type": "markdown",
   "id": "7136f166-c93d-40b4-8bf7-e0dc9ec2908f",
   "metadata": {},
   "source": [
    "## Data/Algorithm\n",
    "\n",
    "function: after_midnight: 24_hour_string\n",
    "* Set hours_minutes_list to separated list\n",
    "* set hours to integer converted frist elem of hours_minutes_string\n",
    "* Set minutes to second elem in hours_minutes_string\n",
    "* sett total minutes to minutes + hours * 60\n",
    "* return total_minutes\n",
    "\n",
    "\n",
    "function: before_midnight: 24_hour_string\n",
    "* Set hours_minutes_string to separated string\n",
    "* set hours_before and conver to int: 24 - (hours + 1)\n",
    "* set minutes_before and convert to int: 60 - minutes\n",
    "* sett total minutes to minutes + hours * 60\n",
    "* return total_minutes"
   ]
  },
  {
   "cell_type": "code",
   "execution_count": 12,
   "id": "1d422178-0abb-4393-b49e-3f1f2cd58017",
   "metadata": {},
   "outputs": [
    {
     "name": "stdout",
     "output_type": "stream",
     "text": [
      "True\n",
      "True\n",
      "True\n",
      "True\n",
      "True\n",
      "True\n"
     ]
    }
   ],
   "source": [
    "def after_midnight(time_24):\n",
    "    hours_minutes_list = time_24.split(\":\")\n",
    "    hours =  int(hours_minutes_list[0])\n",
    "    minutes = int(hours_minutes_list[1])\n",
    "\n",
    "    while hours >= 24:\n",
    "        hours -= 24\n",
    "    \n",
    "    total_minutes = minutes + (hours * 60)\n",
    "\n",
    "    return total_minutes\n",
    "\n",
    "\n",
    "def before_midnight(time_24):\n",
    "    hours_minutes_list = time_24.split(\":\")\n",
    "    hours =  int(hours_minutes_list[0])\n",
    "    minutes = int(hours_minutes_list[1])\n",
    "\n",
    "    if hours == 0:\n",
    "        hours = 24\n",
    "    \n",
    "    hours_before = 24 - (hours + 1)\n",
    "    minutes_before = 60 - minutes\n",
    "\n",
    "    total_minutes = minutes_before + (hours_before * 60)\n",
    "\n",
    "    return total_minutes\n",
    "\n",
    "\n",
    "    \n",
    "print(after_midnight(\"00:00\") == 0)     # True\n",
    "print(before_midnight(\"00:00\") == 0)    # True\n",
    "print(after_midnight(\"12:34\") == 754)   # True\n",
    "print(before_midnight(\"12:34\") == 686)  # True\n",
    "print(after_midnight(\"24:00\") == 0)     # True\n",
    "print(before_midnight(\"24:00\") == 0)    # True"
   ]
  },
  {
   "cell_type": "markdown",
   "id": "b22abefc-ce37-4d93-a365-8a68c6578007",
   "metadata": {
    "jp-MarkdownHeadingCollapsed": true
   },
   "source": [
    "# **3. Double Char (Part 1)**\n",
    "\n",
    "Write a function that takes a string, doubles every character in the string, \n",
    "\n",
    "then returns the result as a new string."
   ]
  },
  {
   "cell_type": "markdown",
   "id": "893dab4a-8b03-4a74-9c93-3ba235126ea5",
   "metadata": {},
   "source": [
    "## Input/Output\n",
    "\n",
    "Input:\n",
    "*  String of any length\n",
    "\n",
    "Output:\n",
    "* New string with eveyr character repeated"
   ]
  },
  {
   "cell_type": "markdown",
   "id": "a963f4cc-4290-4d4b-b6dc-c9a44e23a310",
   "metadata": {},
   "source": [
    "## Problem domain\n",
    "\n",
    "N/A\n",
    "\n"
   ]
  },
  {
   "cell_type": "markdown",
   "id": "5bee5eb5-2397-43e8-9b47-d483e3d4b8fa",
   "metadata": {},
   "source": [
    "## Implicit Requirements\n",
    "\n",
    "* Empty string as input returns empty string"
   ]
  },
  {
   "cell_type": "markdown",
   "id": "eebbfd16-bcde-4587-bef8-99558037802c",
   "metadata": {},
   "source": [
    "## Examples/Test Cases\n",
    "\n",
    "```python\n",
    "print(repeater('Hello') == \"HHeelllloo\")              # True\n",
    "print(repeater('Good job!') == \"GGoooodd  jjoobb!!\")  # True\n",
    "print(repeater('') == \"\")                             # True\n",
    "```"
   ]
  },
  {
   "cell_type": "markdown",
   "id": "d17b407c-d041-4835-be64-6c5d512ebb52",
   "metadata": {},
   "source": [
    "## Data/Algorithm\n",
    "\n",
    "func: repeater: input_string\n",
    "* Set output_string to empty string\n",
    "* Loop over characters of input_string:\n",
    "    * Set string_to_add to doubled current char\n",
    "    * Add string_to_add to output_string\n",
    "* Return output_string"
   ]
  },
  {
   "cell_type": "code",
   "execution_count": 13,
   "id": "82dfe050-fd70-43ad-ae15-697e1b6dc388",
   "metadata": {},
   "outputs": [
    {
     "name": "stdout",
     "output_type": "stream",
     "text": [
      "True\n",
      "True\n",
      "True\n"
     ]
    }
   ],
   "source": [
    "def repeater(input_string):\n",
    "    output_string = \"\"\n",
    "\n",
    "    for char in input_string:\n",
    "        str_to_add = char * 2\n",
    "        output_string += str_to_add\n",
    "\n",
    "    return output_string\n",
    "\n",
    "\n",
    "print(repeater('Hello') == \"HHeelllloo\")              # True\n",
    "print(repeater('Good job!') == \"GGoooodd  jjoobb!!\")  # True\n",
    "print(repeater('') == \"\")                             # True"
   ]
  },
  {
   "cell_type": "markdown",
   "id": "78ec4eb5-14b6-4eaf-b323-86e0baade718",
   "metadata": {
    "jp-MarkdownHeadingCollapsed": true
   },
   "source": [
    "# **4. Double Char (Part 2)**\n",
    "\n",
    "Write a function that takes a string, doubles every consonant in the string, and returns the result as a new string. \n",
    "\n",
    "The function should not double vowels ('a','e','i','o','u'), digits, punctuation, or whitespace.\n",
    "\n",
    "You may assume that only ASCII characters will be included in the argument.\n"
   ]
  },
  {
   "cell_type": "code",
   "execution_count": 21,
   "id": "f8f32ef9-6a9c-48c0-8cb9-990c59999a6f",
   "metadata": {},
   "outputs": [
    {
     "name": "stdout",
     "output_type": "stream",
     "text": [
      "True\n",
      "True\n",
      "True\n",
      "True\n"
     ]
    }
   ],
   "source": [
    "VOWELS = [\"a\", \"e\", \"i\", \"o\", \"u\", \"A\", \"E\", \"I\", \"O\", \"U\"]\n",
    "\n",
    "def should_double(input_char):\n",
    "    if (input_char in VOWELS) or (not input_char.isalpha()):\n",
    "        return False\n",
    "    else:\n",
    "        return True\n",
    "\n",
    "def double_consonants(input_string):\n",
    "    output_string = \"\"\n",
    "    \n",
    "    for char in input_string:\n",
    "        if should_double(char):\n",
    "            str_to_add = char * 2\n",
    "            output_string += str_to_add\n",
    "        else:\n",
    "            output_string += char\n",
    "            \n",
    "    return output_string\n",
    "\n",
    "\n",
    "print(double_consonants('String') == \"SSttrrinngg\")\n",
    "print(double_consonants('Hello-World!') == \"HHellllo-WWorrlldd!\")\n",
    "print(double_consonants('July 4th') == \"JJullyy 4tthh\")\n",
    "print(double_consonants('') == \"\")\n"
   ]
  },
  {
   "cell_type": "markdown",
   "id": "c09a59d3-f51a-4c95-b047-12e02eb76081",
   "metadata": {},
   "source": [
    "# **5. Reverse Number**\n",
    "\n",
    "Write a function that takes a positive integer as an argument and returns that number with its digits reversed."
   ]
  },
  {
   "cell_type": "markdown",
   "id": "86b1ca4f-d959-4c8e-bfe2-10306b2cebc3",
   "metadata": {},
   "source": [
    "## Input/Output\n",
    "\n",
    "Input:\n",
    "* Positive integer\n",
    "\n",
    "Output:\n",
    "*  Input integer reversed"
   ]
  },
  {
   "cell_type": "markdown",
   "id": "48b5833b-4974-42a1-acbb-7e005f3933a9",
   "metadata": {},
   "source": [
    "## Problem Domain\n",
    "\n",
    "N/A"
   ]
  },
  {
   "cell_type": "markdown",
   "id": "f330b3b2-48f9-4ff3-9ead-6e2409f11a16",
   "metadata": {},
   "source": [
    "## Examples/Test Cases\n",
    "\n",
    "```python \n",
    "print(reverse_number(12345) == 54321)   # True\n",
    "print(reverse_number(12213) == 31221)   # True\n",
    "print(reverse_number(456) == 654)       # True\n",
    "print(reverse_number(1) == 1)           # True\n",
    "print(reverse_number(12000) == 21)      # True\n",
    "```\n"
   ]
  },
  {
   "cell_type": "markdown",
   "id": "0b4f70f3-11fd-4ef2-9341-60dbcae175ce",
   "metadata": {},
   "source": [
    "## Implicit Requirements\n",
    "\n",
    "*  Act as if trailing zeroes of input number do not exist (handled automatically)"
   ]
  },
  {
   "cell_type": "markdown",
   "id": "25160f55-5cda-432b-abc1-bb6938f8ac56",
   "metadata": {},
   "source": [
    "## Clarifying Questions\n",
    "\n",
    "N/A"
   ]
  },
  {
   "cell_type": "markdown",
   "id": "bfa543e2-e1b1-4c46-ae7d-63e0650169d5",
   "metadata": {},
   "source": [
    "## Data/Algorithm\n",
    "\n",
    "func: reverse_number: input_int\n",
    "* Set int_as_string to string of input_int\n",
    "* Set reversed_str to reverse of int_as_str\n",
    "* return reversed_str converted to integer\n",
    "\n",
    "\n"
   ]
  },
  {
   "cell_type": "code",
   "execution_count": 24,
   "id": "adeacad9-d825-45e4-9a58-f9239f66bd51",
   "metadata": {},
   "outputs": [
    {
     "name": "stdout",
     "output_type": "stream",
     "text": [
      "True\n",
      "True\n",
      "True\n",
      "True\n",
      "True\n"
     ]
    }
   ],
   "source": [
    "def reverse_number(input_int):\n",
    "    int_as_string = str(input_int)\n",
    "    reversed_str = int_as_string[::-1]\n",
    "\n",
    "    return int(reversed_str)\n",
    "\n",
    "\n",
    "print(reverse_number(12345) == 54321)   # True\n",
    "print(reverse_number(12213) == 31221)   # True\n",
    "print(reverse_number(456) == 654)       # True\n",
    "print(reverse_number(1) == 1)           # True\n",
    "print(reverse_number(12000) == 21)      # True"
   ]
  },
  {
   "cell_type": "markdown",
   "id": "b16c41ad-b751-4413-a969-d2e5c0ca9316",
   "metadata": {},
   "source": [
    "# **6. Counting Up**\n",
    "\n",
    "Write a function that takes an integer argument and returns a list containing all integers between 1 and the argument (inclusive), in ascending order.\n",
    "\n",
    "You may assume that the argument will always be a positive integer."
   ]
  },
  {
   "cell_type": "markdown",
   "id": "ea10345f-3ba5-488f-9772-453d893bb18b",
   "metadata": {},
   "source": [
    "## Examples/Test Cases\n",
    "\n",
    "```python \n",
    "print(sequence(5) == [1, 2, 3, 4, 5])   # True\n",
    "print(sequence(3) == [1, 2, 3])         # True\n",
    "print(sequence(1) == [1])               # True\n",
    "```"
   ]
  },
  {
   "cell_type": "markdown",
   "id": "4e4ede2c-0fb0-4a1c-883e-df350382fe8b",
   "metadata": {},
   "source": [
    "## Data/Algorithm\n",
    "\n",
    "function sequence: input_int\n",
    "* Set oputput_list to empty_list\n",
    "* Iterate over numbers 1 to input_int inclusive\n",
    "    * Add num to output_list\n",
    "* Return output_list\n",
    "\n",
    "\n",
    "\n",
    "\n",
    "\n"
   ]
  },
  {
   "cell_type": "code",
   "execution_count": 25,
   "id": "84ee50df-bddb-4ebb-a7c8-344ec941dfbb",
   "metadata": {},
   "outputs": [
    {
     "name": "stdout",
     "output_type": "stream",
     "text": [
      "True\n",
      "True\n",
      "True\n"
     ]
    }
   ],
   "source": [
    "def sequence(input_int):\n",
    "    output_list = []\n",
    "\n",
    "    for num in range(1, (input_int +  1)):\n",
    "        output_list.append(num)\n",
    "\n",
    "    return output_list\n",
    "\n",
    "\n",
    "print(sequence(5) == [1, 2, 3, 4, 5])   # True\n",
    "print(sequence(3) == [1, 2, 3])         # True\n",
    "print(sequence(1) == [1])               # True"
   ]
  },
  {
   "cell_type": "markdown",
   "id": "f8ca2f25-423c-45d2-9de0-5ff251e4c85d",
   "metadata": {},
   "source": [
    "# **7. Name Swapping**\n",
    "\n",
    "Write a function that takes a string argument consisting of a first name, a space, and a last name. \n",
    "\n",
    "The function should return a new string consisting of the last name, a comma, a space, and the first name.\n",
    "\n",
    "You may assume that the names don't include middle names, initials, or suffixes (\"Jr.\", \"Sr.\")."
   ]
  },
  {
   "cell_type": "markdown",
   "id": "40245cfa-c48f-41d0-b25a-024e26f99a05",
   "metadata": {},
   "source": [
    "## Input/Output\n",
    "\n",
    "Input:\n",
    "* String, containign name and last name separated by a space\n",
    "\n",
    "Output:\n",
    "* String Containign name and last name reversed, separated by a comma and space"
   ]
  },
  {
   "cell_type": "markdown",
   "id": "cb3c1b93-da2c-4ae4-bc37-e817eeb9ef78",
   "metadata": {},
   "source": [
    "## Examples/Test Cases\n",
    "\n",
    "```python \n",
    "print(swap_name('Joe Roberts') == \"Roberts, Joe\")   # True\n",
    "```"
   ]
  },
  {
   "cell_type": "markdown",
   "id": "5d6b560a-9cdd-4b4d-8fb3-27f66119d2c3",
   "metadata": {},
   "source": [
    "## Data/Algorithm\n",
    "\n",
    "func: swap_name: input_str\n",
    "* set names_list to input_str split by a space\n",
    "* Reverse names lsit\n",
    "* Set output_str to names_list joined by s space and comma\n",
    "* return output_str"
   ]
  },
  {
   "cell_type": "code",
   "execution_count": 26,
   "id": "5ea5ba03-39e3-49af-bffc-099d58f9b28c",
   "metadata": {},
   "outputs": [
    {
     "name": "stdout",
     "output_type": "stream",
     "text": [
      "True\n"
     ]
    }
   ],
   "source": [
    "def swap_name(input_name):\n",
    "    names_list = input_name.split(\" \")\n",
    "    names_list.reverse()\n",
    "\n",
    "    output_str = \", \".join(names_list)\n",
    "\n",
    "    return output_str\n",
    "\n",
    "\n",
    "\n",
    "print(swap_name('Joe Roberts') == \"Roberts, Joe\")"
   ]
  },
  {
   "cell_type": "markdown",
   "id": "415c7858-a10f-4ce2-942f-8788adabbc97",
   "metadata": {},
   "source": [
    "## Further Exploration\n",
    "\n",
    "Suppose the named person has one or more middle names? \n",
    "\n",
    "Refactor the current solution so it can accommodate this. \n",
    "\n",
    "The middle names should be listed after the first name:"
   ]
  },
  {
   "cell_type": "code",
   "execution_count": null,
   "id": "50b1381d-f64d-48f7-a62d-12998f569849",
   "metadata": {},
   "outputs": [],
   "source": [
    "print(swap_name('Karl Oskar Henriksson Ragvals')\n",
    "                == \"Ragvals, Karl Oskar Henriksson\")  # True"
   ]
  },
  {
   "cell_type": "code",
   "execution_count": 30,
   "id": "487b44e3-f2cd-4278-a8c3-1a29b7f1be9c",
   "metadata": {},
   "outputs": [
    {
     "name": "stdout",
     "output_type": "stream",
     "text": [
      "True\n"
     ]
    }
   ],
   "source": [
    "def swap_name(input_name):\n",
    "    names_list = input_name.split(\" \")\n",
    "    last_name = names_list[-1]\n",
    "    first_middle_names = names_list[:-1]\n",
    "\n",
    "    first_middle_names_str = \" \".join(first_middle_names)\n",
    "\n",
    "    output_str = last_name + \", \" + first_middle_names_str\n",
    "\n",
    "    return output_str\n",
    "\n",
    "\n",
    "print(swap_name('Karl Oskar Henriksson Ragvals')\n",
    "                == \"Ragvals, Karl Oskar Henriksson\")  # True"
   ]
  },
  {
   "cell_type": "markdown",
   "id": "7f7ae4ca-aa6b-4cb8-899c-e797c8fd2cac",
   "metadata": {},
   "source": [
    "# **8. Sequence Count**\n",
    "\n",
    "Create a function that takes two integers as arguments. \n",
    "\n",
    "The first argument is a count, and the second is the starting number of a sequence that your function will create. \n",
    "\n",
    "The function should return a list containing the same number of elements as the count argument. \n",
    "\n",
    "The value of each element should be a multiple of the starting number.\n",
    "\n",
    "\n",
    "\n",
    "You may assume that count will always be an integer greater than or equal to 0. The starting number can be any integer. If the count is 0, the function should return an empty list."
   ]
  },
  {
   "cell_type": "markdown",
   "id": "4af456f2-47ed-48a6-980f-8e04d25da8d4",
   "metadata": {},
   "source": [
    "## Input/Output\n",
    "\n",
    "Input:\n",
    "* integer, count\n",
    "* Starting number of sequence\n",
    "\n",
    "Output:\n",
    "* List of length equal to count, first element is starting number, and following elements add startign number each time"
   ]
  },
  {
   "cell_type": "markdown",
   "id": "651f5748-44a4-4295-846f-a26546aaff0a",
   "metadata": {},
   "source": [
    "## Problem Domain\n",
    "\n",
    "N/A"
   ]
  },
  {
   "cell_type": "markdown",
   "id": "9116a25a-0176-4682-b6e0-a78a1f5a7745",
   "metadata": {},
   "source": [
    "## Implicit Requirements\n",
    "\n",
    "N/A"
   ]
  },
  {
   "cell_type": "markdown",
   "id": "4af4d74a-f359-4d84-8daf-81257ff31db0",
   "metadata": {},
   "source": [
    "## Clarifying Questions\n",
    "\n",
    "N/A"
   ]
  },
  {
   "cell_type": "markdown",
   "id": "53191a29-c9cf-4ffb-9f8d-a61fd15c7a02",
   "metadata": {},
   "source": [
    "## Mental Model\n",
    "\n",
    "Take two integers as arguments and return a new list. The first input represents the length of the output_list, while the second input integer is the starting number, with each following element addign that integer again"
   ]
  },
  {
   "cell_type": "markdown",
   "id": "16902193-ca41-4d92-889c-871fb74145b9",
   "metadata": {},
   "source": [
    "## Examples/Test Cases\n",
    "\n",
    "```python \n",
    "print(sequence(5, 1) == [1, 2, 3, 4, 5])          # True\n",
    "print(sequence(4, -7) == [-7, -14, -21, -28])     # True\n",
    "print(sequence(3, 0) == [0, 0, 0])                # True\n",
    "print(sequence(0, 1000000) == [])                 # True\n",
    "```"
   ]
  },
  {
   "cell_type": "markdown",
   "id": "44b29903-8ef3-44fb-b395-42612c8f1802",
   "metadata": {},
   "source": [
    "## Data/Algorithm\n",
    "\n",
    "func: sequence: length_of_list, start_num\n",
    "* Set output_list to empty list\n",
    "* set current_num to start_num\n",
    "* Set a loop that repeats length_of_list time\n",
    "    * Add current_num to output_list\n",
    "    *  Add start_num to current_num\n",
    "* Return output_list  "
   ]
  },
  {
   "cell_type": "code",
   "execution_count": 31,
   "id": "32fe6ddb-1e5c-4aaa-a59a-7815a6bfadfb",
   "metadata": {},
   "outputs": [
    {
     "name": "stdout",
     "output_type": "stream",
     "text": [
      "True\n",
      "True\n",
      "True\n",
      "True\n"
     ]
    }
   ],
   "source": [
    "def sequence(length_of_list, start_num):\n",
    "    output_list = []\n",
    "    current_num = start_num\n",
    "\n",
    "    for _ in range(length_of_list):\n",
    "        output_list.append(current_num)\n",
    "        current_num += start_num\n",
    "\n",
    "    return output_list\n",
    "\n",
    "print(sequence(5, 1) == [1, 2, 3, 4, 5])          # True\n",
    "print(sequence(4, -7) == [-7, -14, -21, -28])     # True\n",
    "print(sequence(3, 0) == [0, 0, 0])                # True\n",
    "print(sequence(0, 1000000) == [])                 # True\n",
    "\n"
   ]
  },
  {
   "cell_type": "markdown",
   "id": "414f86e3-93b4-4961-ac21-ac2f0adc4987",
   "metadata": {},
   "source": [
    "# **9. Reversed Lists**\n",
    "\n",
    "Write a function that takes a list as an argument and reverses its elements, in place. \n",
    "\n",
    "That is, mutate the list passed into the function. \n",
    "\n",
    "The returned object should be the same object used as the argument.\n",
    "\n",
    "You may not use the list.reverse method nor may you use a slice ([::-1])."
   ]
  },
  {
   "cell_type": "markdown",
   "id": "6493f467-fde1-4a79-8c87-f1ed3765b67c",
   "metadata": {},
   "source": [
    "## Input/Output\n",
    "\n",
    "Input:\n",
    "* List of any length and elements of any type\n",
    "\n",
    "Output:\n",
    "* Same list as input, but reversed in place"
   ]
  },
  {
   "cell_type": "markdown",
   "id": "356c0443-522b-45f2-a123-31cc11086877",
   "metadata": {},
   "source": [
    "## Problem Domain\n",
    "\n",
    "N/A"
   ]
  },
  {
   "cell_type": "markdown",
   "id": "13585045-f1f1-4adc-aa83-6114da1e7089",
   "metadata": {},
   "source": [
    "## Implicit Requirements\n",
    "\n",
    "* Output must have value, and object equality to input_list\n",
    "* Empty input list, returns empty output\n",
    "* Mutates input_list in place, but also return list"
   ]
  },
  {
   "cell_type": "markdown",
   "id": "5404142a-fbed-48ae-bb64-68049d96e304",
   "metadata": {},
   "source": [
    "## Clarifying Questions\n",
    "\n",
    "N/A"
   ]
  },
  {
   "cell_type": "code",
   "execution_count": null,
   "id": "71217e70-3dbe-4108-b606-c7efbd5a0fbd",
   "metadata": {},
   "outputs": [],
   "source": []
  },
  {
   "cell_type": "markdown",
   "id": "7fe81b2a-7209-4f73-a2b1-5d20842341e6",
   "metadata": {},
   "source": [
    "## Examples/Test Cases\n",
    "\n",
    "```python \n",
    "list1 = [1, 2, 3, 4]\n",
    "result = reverse_list(list1)\n",
    "print(result == [4, 3, 2, 1])               # True\n",
    "print(list1 is result)                      # True\n",
    "\n",
    "list2 = [\"a\", \"b\", \"c\", \"d\", \"e\"]\n",
    "result2 = reverse_list(list2)\n",
    "print(result2 == ['e', 'd', 'c', 'b', 'a']) # True\n",
    "print(list2 is result2)                     # True\n",
    "\n",
    "list3 = [\"abc\"]\n",
    "result3 = reverse_list(list3)\n",
    "print(result3 == ['abc'])                   # True\n",
    "print(list3 is result3)                     # True\n",
    "\n",
    "list4 = []\n",
    "result4 = reverse_list(list4)\n",
    "print(result4 == [])                        # True\n",
    "print(list4 is result4)                     # True\n",
    "```"
   ]
  },
  {
   "cell_type": "markdown",
   "id": "bbb4f8dc-f994-4461-89f2-e7a7101ef69b",
   "metadata": {},
   "source": [
    "## Data/Algorithm\n",
    "\n",
    "func reverse_list: input_list\n",
    "* Iterate through numbers 0 to length of input list floor divided by two: start_idx\n",
    "    * end_idx: (length of list - 1) - 1\n",
    "    * set new_end to start_idx of input_list\n",
    "    * set new_begin to end_idx of input_list\n",
    "    * reassign list at end_idx to new_end\n",
    "    * reassign start_idx of input_list to new_begin\n",
    "* return input_list\n"
   ]
  },
  {
   "cell_type": "code",
   "execution_count": 32,
   "id": "d6a7288f-ca26-48ce-b31f-cd9c73305dee",
   "metadata": {},
   "outputs": [
    {
     "name": "stdout",
     "output_type": "stream",
     "text": [
      "True\n",
      "True\n",
      "True\n",
      "True\n",
      "True\n",
      "True\n",
      "True\n",
      "True\n"
     ]
    }
   ],
   "source": [
    "def reverse_list(input_list):\n",
    "    input_len = len(input_list)\n",
    "    \n",
    "    for start_idx in range(input_len // 2):\n",
    "        end_idx =  (input_len - 1) - start_idx\n",
    "\n",
    "        new_end = input_list[start_idx]\n",
    "        new_begin = input_list[end_idx]\n",
    "\n",
    "        input_list[start_idx] = new_begin\n",
    "        input_list[end_idx] = new_end\n",
    "\n",
    "\n",
    "    return input_list\n",
    "\n",
    "\n",
    "list1 = [1, 2, 3, 4]\n",
    "result = reverse_list(list1)\n",
    "print(result == [4, 3, 2, 1])               # True\n",
    "print(list1 is result)                      # True\n",
    "\n",
    "list2 = [\"a\", \"b\", \"c\", \"d\", \"e\"]\n",
    "result2 = reverse_list(list2)\n",
    "print(result2 == ['e', 'd', 'c', 'b', 'a']) # True\n",
    "print(list2 is result2)                     # True\n",
    "\n",
    "list3 = [\"abc\"]\n",
    "result3 = reverse_list(list3)\n",
    "print(result3 == ['abc'])                   # True\n",
    "print(list3 is result3)                     # True\n",
    "\n",
    "list4 = []\n",
    "result4 = reverse_list(list4)\n",
    "print(result4 == [])                        # True\n",
    "print(list4 is result4)                     # True"
   ]
  },
  {
   "cell_type": "markdown",
   "id": "6bc14444-8fe1-4ac6-a610-37b3c2f63547",
   "metadata": {},
   "source": [
    "# **10. Matching Parenthesis**\n",
    "\n",
    "Write a function that takes a string as an argument and returns True if all parentheses in the string are properly balanced, False otherwise. \n",
    "\n",
    "To be properly balanced, parentheses must occur in matching '(' and ')' pairs."
   ]
  },
  {
   "cell_type": "markdown",
   "id": "522caf3e-3a1a-457a-b9e0-d6d80a795dab",
   "metadata": {},
   "source": [
    "## Input/Output\n",
    "\n",
    "Input:\n",
    "* String of any length\n",
    "\n",
    "Output:\n",
    "* Boolean saying whether or nto all parentheses in input string are balanced"
   ]
  },
  {
   "cell_type": "markdown",
   "id": "bab6ec23-71ea-44b3-9e97-a5e9889647a0",
   "metadata": {},
   "source": [
    "## Problem Domain\n",
    "\n",
    "N/A"
   ]
  },
  {
   "cell_type": "markdown",
   "id": "6d185010-5bb6-4092-b3c6-7bf6be7ed5ce",
   "metadata": {},
   "source": [
    "## Clarifying Questions\n",
    "\n",
    "N/A"
   ]
  },
  {
   "cell_type": "markdown",
   "id": "2709b722-13ee-4e0e-8796-dc35b60053ec",
   "metadata": {},
   "source": [
    "## Examples/Test Cases\n",
    "\n",
    "```python \n",
    "print(is_balanced(\"What (is) this?\") == True)        # True\n",
    "print(is_balanced(\"What is) this?\") == False)        # True\n",
    "print(is_balanced(\"What (is this?\") == False)        # True\n",
    "print(is_balanced(\"((What) (is this))?\") == True)    # True\n",
    "print(is_balanced(\"((What)) (is this))?\") == False)  # True\n",
    "print(is_balanced(\"Hey!\") == True)                   # True\n",
    "print(is_balanced(\")Hey!(\") == False)                # True\n",
    "print(is_balanced(\"What ((is))) up(\") == False)      # True\n",
    "```"
   ]
  },
  {
   "cell_type": "markdown",
   "id": "63189b8d-38c5-4d28-9efd-37d29f13d8e5",
   "metadata": {},
   "source": [
    "## Data/Algorithm\n",
    "\n",
    "func: is_balanced: input_str\n",
    "* set num_opening to 0\n",
    "* set num_closing to 0  \n",
    "* Loop over characters of input_str:\n",
    "    * if num_closing is greater than num_opening:\n",
    "        * return False\n",
    "    * if char is a bracket opening:\n",
    "        *  Add 1 to num_opening\n",
    "    * if char is bracket closing:\n",
    "        * Add 1 to num_closing\n",
    "* If num_closing doesnt equal num_closing:\n",
    "    * return False\n",
    "* Else return True   "
   ]
  },
  {
   "cell_type": "code",
   "execution_count": 33,
   "id": "1dfbea26-4693-4b8b-8caf-b681949eff7f",
   "metadata": {},
   "outputs": [
    {
     "name": "stdout",
     "output_type": "stream",
     "text": [
      "True\n",
      "True\n",
      "True\n",
      "True\n",
      "True\n",
      "True\n",
      "True\n",
      "True\n"
     ]
    }
   ],
   "source": [
    "def is_balanced(input_str):\n",
    "    num_opening = 0\n",
    "    num_closing = 0\n",
    "\n",
    "    for char in input_str:\n",
    "        if num_closing > num_opening:\n",
    "            return False\n",
    "        if char == \"(\":\n",
    "            num_opening += 1\n",
    "        elif char == \")\":\n",
    "            num_closing += 1\n",
    "\n",
    "    if num_closing != num_opening:\n",
    "        return False\n",
    "    else:\n",
    "        return True\n",
    "\n",
    "\n",
    "print(is_balanced(\"What (is) this?\") == True)        # True\n",
    "print(is_balanced(\"What is) this?\") == False)        # True\n",
    "print(is_balanced(\"What (is this?\") == False)        # True\n",
    "print(is_balanced(\"((What) (is this))?\") == True)    # True\n",
    "print(is_balanced(\"((What)) (is this))?\") == False)  # True\n",
    "print(is_balanced(\"Hey!\") == True)                   # True\n",
    "print(is_balanced(\")Hey!(\") == False)                # True\n",
    "print(is_balanced(\"What ((is))) up(\") == False)      # True"
   ]
  },
  {
   "cell_type": "markdown",
   "id": "71019d2d-d746-45e6-b2d4-10113dea59d9",
   "metadata": {},
   "source": [
    "## Further Exploration\n",
    "\n",
    "There are a few other characters that should be matching as well. \n",
    "\n",
    "Square brackets and curly brackets normally come in pairs. \n",
    "\n",
    "Quotation marks(single and double) also typically come in pairs and should be balanced. Can you expand this function to take into account those characters?\n",
    "\n"
   ]
  },
  {
   "cell_type": "code",
   "execution_count": 35,
   "id": "36ad7dfd-2cd5-4e23-a372-46cd7bc9a4bf",
   "metadata": {},
   "outputs": [
    {
     "name": "stdout",
     "output_type": "stream",
     "text": [
      "False\n"
     ]
    }
   ],
   "source": [
    "def is_balanced_parentheses(input_str):\n",
    "    num_opening = 0\n",
    "    num_closing = 0\n",
    "\n",
    "    for char in input_str:\n",
    "        if num_closing > num_opening:\n",
    "            return False\n",
    "        if char == \"(\":\n",
    "            num_opening += 1\n",
    "        elif char == \")\":\n",
    "            num_closing += 1\n",
    "\n",
    "    if num_closing != num_opening:\n",
    "        return False\n",
    "    else:\n",
    "        return True\n",
    "\n",
    "def is_balanced_square(input_str):\n",
    "    num_opening = 0\n",
    "    num_closing = 0\n",
    "\n",
    "    for char in input_str:\n",
    "        if num_closing > num_opening:\n",
    "            return False\n",
    "        if char == \"[\":\n",
    "            num_opening += 1\n",
    "        elif char == \"]\":\n",
    "            num_closing += 1\n",
    "\n",
    "    if num_closing != num_opening:\n",
    "        return False\n",
    "    else:\n",
    "        return True\n",
    "\n",
    "def is_balanced_curly(input_str):\n",
    "    num_opening = 0\n",
    "    num_closing = 0\n",
    "\n",
    "    for char in input_str:\n",
    "        if num_closing > num_opening:\n",
    "            return False\n",
    "        if char == \"{\":\n",
    "            num_opening += 1\n",
    "        elif char == \"}\":\n",
    "            num_closing += 1\n",
    "\n",
    "    if num_closing != num_opening:\n",
    "        return False\n",
    "    else:\n",
    "        return True\n",
    "\n",
    "def is_balanced_quotation_single(input_str):\n",
    "    num_quotations = 0\n",
    "\n",
    "    for char in input_str:\n",
    "        if char == \"''\":\n",
    "            num_quotations += 1\n",
    "\n",
    "    return num_quotations % 2 == 0\n",
    "\n",
    "def is_balanced_quotation_double(input_str):\n",
    "    num_quotations = 0\n",
    "\n",
    "    for char in input_str:\n",
    "        if char == '\"\"':\n",
    "            num_quotations += 1\n",
    "\n",
    "    return num_quotations % 2 == 0\n",
    "\n",
    "\n",
    "def is_balanced_quotation(input_str):\n",
    "    return is_balanced_quotation_single(input_str) and is_balanced_quotation_double(input_str)\n",
    "    \n",
    "def is_all_balanced(input_str):\n",
    "    return is_balanced_parentheses(input_str) and is_balanced_curly(input_str) and is_balanced_square(input_str) and is_balanced_quotation(input_str)\n",
    "\n",
    "print(is_all_balanced(\"() 'Hi' how are you[\"))\n",
    "                    "
   ]
  }
 ],
 "metadata": {
  "kernelspec": {
   "display_name": "Python 3 (ipykernel)",
   "language": "python",
   "name": "python3"
  },
  "language_info": {
   "codemirror_mode": {
    "name": "ipython",
    "version": 3
   },
   "file_extension": ".py",
   "mimetype": "text/x-python",
   "name": "python",
   "nbconvert_exporter": "python",
   "pygments_lexer": "ipython3",
   "version": "3.12.3"
  }
 },
 "nbformat": 4,
 "nbformat_minor": 5
}
