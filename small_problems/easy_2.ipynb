{
 "cells": [
  {
   "cell_type": "markdown",
   "id": "c8f71ced-8cab-401a-9517-99def43f9124",
   "metadata": {
    "jp-MarkdownHeadingCollapsed": true
   },
   "source": [
    "# **1. Cute Angles**\n",
    "\n",
    "Write a function that takes a floating point number representing an angle between 0 and 360 degrees and returns \n",
    "a string representing that angle in degrees, minutes, and seconds. \n",
    "You should use a degree symbol (°) to represent degrees, a single quote (') to represent minutes, \n",
    "and a double quote (\") to represent seconds. There are 60 minutes in a degree, and 60 seconds in a minute.\n",
    "\n",
    "Note: You can use the following constant to represent the degree symbol:\n",
    "\n",
    "```\n",
    "DEGREE = \"\\u00B0\" \n",
    "```"
   ]
  },
  {
   "cell_type": "markdown",
   "id": "5e789221-80ad-4a65-9b75-bf4f9b7a36b2",
   "metadata": {},
   "source": [
    "## Input/Output\n",
    "\n",
    "Input: \n",
    "* inetger between 0 and 360 representing degrees\n",
    "\n",
    "Output:\n",
    "* String notating degrees, minutes and seconds"
   ]
  },
  {
   "cell_type": "markdown",
   "id": "39740a2b-4b00-4b14-a6c8-5e5c30b172dd",
   "metadata": {},
   "source": [
    "## Problem Domain\n",
    "\n",
    "How do you convert decimal dregrees\n",
    "* Multiply decimal degrees by 60 top get minutes\n",
    "* Multiply remaining  by 60 to get seconds"
   ]
  },
  {
   "cell_type": "markdown",
   "id": "6452e3da-24f8-4050-b452-100b4b0251bf",
   "metadata": {},
   "source": [
    "## Implicit Requirements\n",
    "\n",
    "Input is integer between 0 and 360\n",
    "\n",
    "0 as input retturns all 0 string"
   ]
  },
  {
   "cell_type": "markdown",
   "id": "e1678b96-6f99-4fea-8ad0-9ec544bd3a08",
   "metadata": {},
   "source": [
    "## Clarifying Questions\n",
    "\n",
    "N/A"
   ]
  },
  {
   "cell_type": "markdown",
   "id": "e3e160b4-a66c-43bb-83b4-aa8858cb596b",
   "metadata": {},
   "source": [
    "## Mental Model\n",
    "\n",
    "Take a number as input which is a valid angle degree.\n",
    "From the decimal degree value, calculate minutes and seconds from degrees.\n",
    "Print thge results"
   ]
  },
  {
   "cell_type": "markdown",
   "id": "51008962-067e-40fc-b6b0-8da898b81eee",
   "metadata": {},
   "source": [
    "## Examples/Test Cases\n",
    "\n",
    "```python \n",
    "print(dms(30) == \"30°00'00\\\"\")\n",
    "print(dms(76.73) == \"76°43'48\\\"\")\n",
    "print(dms(254.6) == \"254°35'59\\\"\" or dms(254.6) == \"254°36'00\\\"\")\n",
    "print(dms(93.034773) == \"93°02'05\\\"\")\n",
    "print(dms(0) == \"0°00'00\\\"\")\n",
    "print(dms(360) == \"360°00'00\\\"\" or dms(360) == \"0°00'00\\\"\")\n",
    "```"
   ]
  },
  {
   "cell_type": "markdown",
   "id": "072f6e97-93ad-4bfe-b729-bee608ba2a34",
   "metadata": {},
   "source": [
    "## Data/Algorithm\n",
    "\n",
    "function dms: input: decimal_degrees\n",
    "* Calculate degrees, minutes and seconds\n",
    "* Return string of degree etc value"
   ]
  },
  {
   "cell_type": "code",
   "execution_count": 20,
   "id": "ba929f38-3389-4620-bedd-d0857b97be97",
   "metadata": {},
   "outputs": [
    {
     "name": "stdout",
     "output_type": "stream",
     "text": [
      "31.0 33.27239999999996 16.34399999999772\n"
     ]
    }
   ],
   "source": [
    "a = 31.55454\n",
    "degrees = a // 1\n",
    "minutes = (a % 1) * 60\n",
    "seconds = (minutes)\n",
    "print(degrees, minutes)"
   ]
  },
  {
   "cell_type": "code",
   "execution_count": 41,
   "id": "e7aa5378-4b23-4a0a-b202-2cba152c880d",
   "metadata": {},
   "outputs": [
    {
     "name": "stdout",
     "output_type": "stream",
     "text": [
      "True\n",
      "True\n",
      "True\n",
      "True\n",
      "True\n",
      "True\n"
     ]
    }
   ],
   "source": [
    "DEGREE = \"\\u00B0\" \n",
    "\n",
    "def minute_sec_string_maker(input_num):\n",
    "    out_str = str(input_num)\n",
    "\n",
    "    if len(out_str) == 2:\n",
    "        return out_str\n",
    "    else:\n",
    "        return '0' + out_str\n",
    "\n",
    "def dms(input_degrees):\n",
    "    degrees = input_degrees // 1\n",
    "    minutes = (input_degrees % 1) * 60\n",
    "    seconds = (minutes % 1) * 60\n",
    "\n",
    "    degrees = int(degrees // 1)\n",
    "    minutes = minute_sec_string_maker(int(minutes // 1))\n",
    "    seconds = minute_sec_string_maker(int(seconds // 1))\n",
    "    \n",
    "    output_str = f\"{degrees}{DEGREE}{minutes}'{seconds}\\\"\"\n",
    "\n",
    "\n",
    "    \n",
    "\n",
    "    return output_str\n",
    "\n",
    "print(dms(30) == \"30°00'00\\\"\")\n",
    "print(dms(76.73) == \"76°43'48\\\"\")\n",
    "print(dms(254.6) == \"254°35'59\\\"\" or dms(254.6) == \"254°36'00\\\"\")\n",
    "print(dms(93.034773) == \"93°02'05\\\"\")\n",
    "print(dms(0) == \"0°00'00\\\"\")\n",
    "print(dms(360) == \"360°00'00\\\"\" or dms(360) == \"0°00'00\\\"\")"
   ]
  },
  {
   "cell_type": "markdown",
   "id": "9a1b5c9b-20dd-4b3a-8316-f9018ab402be",
   "metadata": {},
   "source": [
    "## Further Exploration\n",
    "\n",
    "Our solution only works with positive numbers in the range of 0 to 360 (inclusive). \n",
    "Can you refactor it so that it works with any positive or negative number?\n",
    "\n",
    "Our solution has the following results for inputs outside the range 0-360:\n",
    "\n",
    "```python \n",
    "print(dms(-1))   # -1°00'00\"\n",
    "print(dms(400))  # 400°00'00\"\n",
    "print(dms(-40))  # -40°00'00\"\n",
    "print(dms(-420)) # -420°00'00\"\n",
    "```\n",
    "\n",
    "Since degrees are normally restricted to the range 0-360, can you modify the code so it returns a value in the \n",
    "appropriate range when the input is less than 0 or greater than 360?\n",
    "\n",
    "```python \n",
    "print(dms(-1))   # 359°00'00\"\n",
    "print(dms(400))  # 40°00'00\"\n",
    "print(dms(-40))  # 320°00'00\"\n",
    "print(dms(-420)) # 300°00'00\"\n",
    "```"
   ]
  },
  {
   "cell_type": "code",
   "execution_count": 42,
   "id": "d410665b-3716-409e-b565-e0b8dcd83389",
   "metadata": {},
   "outputs": [],
   "source": [
    "DEGREE = \"\\u00B0\" \n",
    "\n",
    "def minute_sec_string_maker(input_num):\n",
    "    out_str = str(input_num)\n",
    "\n",
    "    if len(out_str) == 2:\n",
    "        return out_str\n",
    "    else:\n",
    "        return '0' + out_str\n",
    "\n",
    "\n",
    "def return_sign(input_int):\n",
    "    if input_int < 0:\n",
    "        return \"-\"\n",
    "    elif input_int > 0:\n",
    "        return \"+\"\n",
    "    else:\n",
    "        return \"\"\n",
    "    \n",
    "def convert_single_rotation(degrees_num):\n",
    "    while degrees_num > 360:\n",
    "        degrees_num -= 360\n",
    "\n",
    "    return degrees_num\n",
    "\n",
    "def dms(input_degrees):\n",
    "    sign = return_sign(input_degrees)\n",
    "    input_degrees = convert_single_rotation(input_degrees)\n",
    "    \n",
    "    degrees = input_degrees // 1\n",
    "    minutes = (input_degrees % 1) * 60\n",
    "    seconds = (minutes % 1) * 60\n",
    "\n",
    "    degrees = int(degrees // 1)\n",
    "    minutes = minute_sec_string_maker(int(minutes // 1))\n",
    "    seconds = minute_sec_string_maker(int(seconds // 1))\n",
    "    \n",
    "    output_str = f\"{sign}{degrees}{DEGREE}{minutes}'{seconds}\\\"\"\n",
    "\n",
    "\n",
    "    \n",
    "\n",
    "    return output_str"
   ]
  },
  {
   "cell_type": "markdown",
   "id": "b71b7032-4e8f-458a-be6f-38658c59e284",
   "metadata": {
    "jp-MarkdownHeadingCollapsed": true
   },
   "source": [
    "# **2. Combining Lists**\n",
    "\n",
    "Write a function that takes two lists as arguments and returns a set that contains the union of the values from the two lists. \n",
    "You may assume that both arguments will always be lists."
   ]
  },
  {
   "cell_type": "markdown",
   "id": "7bcc1107-703e-4443-ac9c-c4bfa49d6efc",
   "metadata": {
    "jp-MarkdownHeadingCollapsed": true
   },
   "source": [
    "## Input/Output\n",
    "\n",
    "Input:\n",
    "* Two lists containing numbers\n",
    "\n",
    "Output: \n",
    "* A new set which contains each numbe rof input sets once"
   ]
  },
  {
   "cell_type": "markdown",
   "id": "aef9d7a0-06b7-4b9f-971a-ae228e3568bc",
   "metadata": {},
   "source": [
    "## Problem Domain\n",
    "\n",
    "What is a union of sets?\n",
    "* A set containing all elements thatr are in both inputs"
   ]
  },
  {
   "cell_type": "markdown",
   "id": "fa759806-e251-45a8-8ec5-c0d263a419db",
   "metadata": {},
   "source": [
    "## Implicit Requirements\n",
    "\n",
    "* No repeat numbers in output set\n",
    "* Convert from two lists to one set"
   ]
  },
  {
   "cell_type": "markdown",
   "id": "53765bbe-4978-40a6-8902-e592f8aa8b53",
   "metadata": {},
   "source": [
    "## Clarifying Questions\n",
    "\n",
    "Do we accept negative numbers in input lists?\n",
    "* Yes, and I don't think we need any algorithm adjustments to make this possible\n",
    "\n"
   ]
  },
  {
   "cell_type": "markdown",
   "id": "73b762c9-b218-4b65-a0bd-8f2c15861432",
   "metadata": {},
   "source": [
    "## Examples/Test Cases\n",
    "\n",
    "```python \n",
    "print(union([1, 3, 5], [3, 6, 9]) == {1, 3, 5, 6, 9}) # True\n",
    "```"
   ]
  },
  {
   "cell_type": "markdown",
   "id": "4af25225-be7c-4ac2-bb22-4b82fd110a77",
   "metadata": {},
   "source": [
    "## Mental Modela\n",
    "\n",
    "Take two lists containing only integers as input to a function.\n",
    "The output of this function should return a set containing all elements of both lists, withoput repeating (thisa should be autopmatically achieved as sets do not allow for repeated members.)"
   ]
  },
  {
   "cell_type": "markdown",
   "id": "bdbeeda7-9786-4c53-a9cb-087965f0e94e",
   "metadata": {},
   "source": [
    "## Data/Algorithm\n",
    "\n",
    "Function : union : two lists. list1, list2 as input\n",
    "Set output_set to an empty set\n",
    "loop over elements of list1:\n",
    "* add current element to output_set\n",
    "Loop over elements in list 2\n",
    "* Add current element to oputput_set\n",
    "Return output_set"
   ]
  },
  {
   "cell_type": "code",
   "execution_count": 50,
   "id": "f130f103-9db4-44f2-bc12-04251bee463a",
   "metadata": {},
   "outputs": [
    {
     "name": "stdout",
     "output_type": "stream",
     "text": [
      "True\n"
     ]
    }
   ],
   "source": [
    "def union(list1, list2):\n",
    "\n",
    "    output_set = set()\n",
    "\n",
    "    for num in list1:\n",
    "        output_set.add(num)\n",
    "\n",
    "    for num in list2:\n",
    "        output_set.add(num)\n",
    "\n",
    "    return output_set\n",
    "\n",
    "\n",
    "print(union([1, 3, 5], [3, 6, 9]) == {1, 3, 5, 6, 9}) # True\n"
   ]
  },
  {
   "cell_type": "markdown",
   "id": "0eff44b6-e0ec-4728-9c4c-9e0afbf752bd",
   "metadata": {
    "jp-MarkdownHeadingCollapsed": true
   },
   "source": [
    "# **3. Halvsies**\n",
    "\n",
    "Write a function that takes a list as an argument and returns a list that contains two elements, both of which are lists. \n",
    "\n",
    "Put the first half of the original list elements in the first element of the return value and put the second half in the second element. \n",
    "\n",
    "If the original list contains an odd number of elements, place the middle element in the first half list."
   ]
  },
  {
   "cell_type": "markdown",
   "id": "f883bd24-07ea-4b88-a1a5-c630eab41449",
   "metadata": {},
   "source": [
    "## Input/Output\n",
    "\n",
    "Input:\n",
    "* Single list\n",
    "\n",
    "Output:\n",
    "* A list containing two sub-lists representing the first and second half of the input list\n",
    "* If the length of input list is not divisible by two, have the extra element on the first sub-element"
   ]
  },
  {
   "cell_type": "markdown",
   "id": "c651cb94-8ac0-44bf-8cc7-8c1b81510074",
   "metadata": {},
   "source": [
    "## Problem Domain\n",
    "N/A"
   ]
  },
  {
   "cell_type": "markdown",
   "id": "0f61cd8d-624d-4952-91ab-071fed9fcd91",
   "metadata": {},
   "source": [
    "## Implicit Requirements\n",
    "\n",
    "N/A"
   ]
  },
  {
   "cell_type": "markdown",
   "id": "9d50de5a-47a3-4e8a-84a2-466dddef389e",
   "metadata": {},
   "source": [
    "## Mental Model\n",
    "\n",
    "Take a list of any length as argument.\n",
    "\n",
    "Return a new list, with two sub elements. If there were an even number of elements in input, have half\n",
    "in each sub element. Otherwise the extra goes on the first sub element."
   ]
  },
  {
   "cell_type": "markdown",
   "id": "f4a65a86-1a15-456b-98c8-4f1a0aa70683",
   "metadata": {},
   "source": [
    "## Examples/Test Cases\n",
    "\n",
    "```python \n",
    "# All of these examples should print True\n",
    "print(halvsies([1, 2, 3, 4]) == [[1, 2], [3, 4]])\n",
    "print(halvsies([1, 5, 2, 4, 3]) == [[1, 5, 2], [4, 3]])\n",
    "print(halvsies([5]) == [[5], []])\n",
    "print(halvsies([]) == [[], []])\n",
    "```\n"
   ]
  },
  {
   "cell_type": "markdown",
   "id": "6cb5a4ce-9827-4374-a51e-20f87c4bd157",
   "metadata": {},
   "source": [
    "## Data/Algorithm\n",
    "\n",
    "function: halvsies: input_list\n",
    "if length of input_list is even\n",
    "* set half_idx to length of innut list divided by two\n",
    "If length of input_list is odd,\n",
    "* set half_idx to floor division of the length of the input by 2 , add 1\n",
    "\n",
    "Set output_list1 to using slice indexing on input\n",
    "set output_list2 to second half using slice indexing\n",
    "\n",
    "set final_output to list containing thw two output lists\n",
    "return final_output\n"
   ]
  },
  {
   "cell_type": "code",
   "execution_count": 53,
   "id": "e78ec76f-e4c5-4947-847a-4de0b55ebeba",
   "metadata": {},
   "outputs": [
    {
     "name": "stdout",
     "output_type": "stream",
     "text": [
      "True\n",
      "True\n",
      "True\n",
      "True\n"
     ]
    }
   ],
   "source": [
    "def halvsies(input_list):\n",
    "    input_len = len(input_list)\n",
    "\n",
    "    if input_len % 2 == 0:\n",
    "        half_idx = int(input_len / 2)\n",
    "    else:\n",
    "        half_idx = (input_len // 2) + 1\n",
    "\n",
    "    output_list1 = input_list[0:half_idx]\n",
    "    output_list2 = input_list[half_idx:]\n",
    "    \n",
    "    final_output_list = [output_list1, output_list2]\n",
    "\n",
    "    return final_output_list\n",
    "\n",
    "print(halvsies([1, 2, 3, 4]) == [[1, 2], [3, 4]])\n",
    "print(halvsies([1, 5, 2, 4, 3]) == [[1, 5, 2], [4, 3]])\n",
    "print(halvsies([5]) == [[5], []])\n",
    "print(halvsies([]) == [[], []])"
   ]
  },
  {
   "cell_type": "markdown",
   "id": "d26b3a84-9ef6-4b43-88e2-922516e57caa",
   "metadata": {
    "jp-MarkdownHeadingCollapsed": true
   },
   "source": [
    "# **4. Find the Duplicate**\n",
    "\n",
    "Given an unordered list and the information that exactly one value in the list occurs twice (every other value occurs exactly once), \n",
    "\n",
    "determine which value occurs twice. \n",
    "\n",
    "Write a function that finds and returns the duplicate value.\n",
    "\n",
    "You may assume that the input list will always have exactly one duplicate value."
   ]
  },
  {
   "cell_type": "markdown",
   "id": "13c9f792-d2b1-4a92-bc49-d9a9b3b19d87",
   "metadata": {},
   "source": [
    "## Input/Output\n",
    "\n",
    "input:\n",
    "* One list of many elements, of which exactly one is a duplicate\n",
    "\n",
    "Output:\n",
    "* The element which is duplicated"
   ]
  },
  {
   "cell_type": "markdown",
   "id": "c2b86322-404a-4c4e-ab55-35b0ee587f57",
   "metadata": {},
   "source": [
    "## Problem Domain\n",
    "\n",
    "N/A"
   ]
  },
  {
   "cell_type": "markdown",
   "id": "3ee5f9db-cdd7-47f7-aac4-c6cee8b9369d",
   "metadata": {},
   "source": [
    "## Implicit Requirements\n",
    "\n",
    "As there is only one repeated elenent, we can return the first repeat value that is found."
   ]
  },
  {
   "cell_type": "markdown",
   "id": "f769c7d1-ef33-4b9c-abbf-aab4a90fa285",
   "metadata": {},
   "source": [
    "## Clarifying Questions\n",
    "\n",
    "Do we have to make any changes if we allow for the input list to contain different types of elements?\n",
    "* No, it should work finw with elements of different types"
   ]
  },
  {
   "cell_type": "markdown",
   "id": "4ab1d508-e8fd-43d5-a8e2-ec2d597dde73",
   "metadata": {},
   "source": [
    "## Examples/Test Cases\n",
    "\n",
    "```python \n",
    "print(find_dup([1, 5, 3, 1]) == 1) # True\n",
    "print(find_dup([\n",
    "                  18,  9, 36, 96, 31, 19, 54, 75, 42, 15,\n",
    "                  38, 25, 97, 92, 46, 69, 91, 59, 53, 27,\n",
    "                  14, 61, 90, 81,  8, 63, 95, 99, 30, 65,\n",
    "                  78, 76, 48, 16, 93, 77, 52, 49, 37, 29,\n",
    "                  89, 10, 84,  1, 47, 68, 12, 33, 86, 60,\n",
    "                  41, 44, 83, 35, 94, 73, 98,  3, 64, 82,\n",
    "                  55, 79, 80, 21, 39, 72, 13, 50,  6, 70,\n",
    "                  85, 87, 51, 17, 66, 20, 28, 26,  2, 22,\n",
    "                  40, 23, 71, 62, 73, 32, 43, 24,  4, 56,\n",
    "                   7, 34, 57, 74, 45, 11, 88, 67,  5, 58,\n",
    "              ]) == 73)       # True\n",
    "```"
   ]
  },
  {
   "cell_type": "markdown",
   "id": "c1641e9d-65fe-4517-84e6-95c2dd1b8997",
   "metadata": {},
   "source": [
    "## Mental Model\n",
    "\n",
    "Take a list with at least two  elements, and with exactly two of these occuring twice. Return a copy og the doubled element."
   ]
  },
  {
   "cell_type": "markdown",
   "id": "8284be6e-f860-4298-9402-aa3550242e5b",
   "metadata": {},
   "source": [
    "## Data/Algorithm \n",
    "function: find_dup: input_list\n",
    "\n",
    "Set used_elems as empty list\n",
    "\n",
    "Iterate over elems in input_list\n",
    "* If elem is already in used_elems:\n",
    "    * return elem\n",
    "* Otherwise:\n",
    "    * Add elem to used_elems"
   ]
  },
  {
   "cell_type": "code",
   "execution_count": 54,
   "id": "d4707685-5cd7-4340-b626-37d7fc957464",
   "metadata": {},
   "outputs": [
    {
     "name": "stdout",
     "output_type": "stream",
     "text": [
      "True\n",
      "True\n"
     ]
    }
   ],
   "source": [
    "def find_dup(input_list):\n",
    "    used_elems = []\n",
    "\n",
    "    for elem in input_list:\n",
    "        if elem in used_elems:\n",
    "            return elem\n",
    "        else:\n",
    "            used_elems.append(elem)\n",
    "\n",
    "print(find_dup([1, 5, 3, 1]) == 1) # True\n",
    "print(find_dup([\n",
    "                  18,  9, 36, 96, 31, 19, 54, 75, 42, 15,\n",
    "                  38, 25, 97, 92, 46, 69, 91, 59, 53, 27,\n",
    "                  14, 61, 90, 81,  8, 63, 95, 99, 30, 65,\n",
    "                  78, 76, 48, 16, 93, 77, 52, 49, 37, 29,\n",
    "                  89, 10, 84,  1, 47, 68, 12, 33, 86, 60,\n",
    "                  41, 44, 83, 35, 94, 73, 98,  3, 64, 82,\n",
    "                  55, 79, 80, 21, 39, 72, 13, 50,  6, 70,\n",
    "                  85, 87, 51, 17, 66, 20, 28, 26,  2, 22,\n",
    "                  40, 23, 71, 62, 73, 32, 43, 24,  4, 56,\n",
    "                   7, 34, 57, 74, 45, 11, 88, 67,  5, 58,\n",
    "              ]) == 73)    \n"
   ]
  },
  {
   "cell_type": "markdown",
   "id": "5beff319-e87d-4099-bfdb-15f422ed89cf",
   "metadata": {
    "jp-MarkdownHeadingCollapsed": true
   },
   "source": [
    "# **5. Combine Two Lists**\n",
    "\n",
    "Write a function that combines two lists passed as arguments and returns a new list that contains all elements from both list arguments, \n",
    "\n",
    "with each element taken in alternation.\n",
    "\n",
    "You may assume that both input lists are non-empty, and that they have the same number of elements."
   ]
  },
  {
   "cell_type": "markdown",
   "id": "bd45e189-1975-46a0-9828-45d41552d694",
   "metadata": {},
   "source": [
    "## Input/Output\n",
    "\n",
    "Input:\n",
    "* Two lists, non-empty, and of equal length\n",
    "\n",
    "output:\n",
    "* Single list containign ordered, and alternating elements from input lists"
   ]
  },
  {
   "cell_type": "markdown",
   "id": "78f47a30-3bd9-47ab-8d65-c653910bf432",
   "metadata": {},
   "source": [
    "## Problem Domain\n",
    "\n",
    "N/A"
   ]
  },
  {
   "cell_type": "markdown",
   "id": "d3a235ef-6640-483b-9760-c72c9454e8dd",
   "metadata": {},
   "source": [
    "## Implicit Requirements\n",
    "\n",
    "* Input lists can contain any type.\n",
    "* Elements from the first list passed are also first in output_list"
   ]
  },
  {
   "cell_type": "markdown",
   "id": "7a950a0e-94f8-42bd-adb5-7444f26f6879",
   "metadata": {},
   "source": [
    "## Examples/Test Cases\n",
    "\n",
    "```python \n",
    "list1 = [1, 2, 3]\n",
    "list2 = ['a', 'b', 'c']\n",
    "expected = [1, \"a\", 2, \"b\", 3, \"c\"]\n",
    "print(interleave(list1, list2) == expected)      # True\n",
    "```"
   ]
  },
  {
   "cell_type": "markdown",
   "id": "2d10ad30-00c7-4a6f-ba8d-0caa0b3addfb",
   "metadata": {},
   "source": [
    "## Mental Model\n",
    "\n",
    "Function takles trwo lists, of equal length as input. Return a new list, which groups equally indexed numbers together, with the first passed list being first!"
   ]
  },
  {
   "cell_type": "markdown",
   "id": "281bfa0b-3a85-46b2-8db0-e8a26d333f97",
   "metadata": {},
   "source": [
    "## Data/Algorithm\n",
    "\n",
    "Func: interleave: input_list1, input_list2\n",
    "\n",
    "Set output_list to empty list\n",
    "\n",
    "Iterate over idx numbers, 0 to length:\n",
    "* Add elem from input_list1 to output_list\n",
    "* Add elem from input_list2 to output_list\n"
   ]
  },
  {
   "cell_type": "code",
   "execution_count": 56,
   "id": "d44c2e78-3417-4646-bc81-963ba8f68215",
   "metadata": {},
   "outputs": [
    {
     "name": "stdout",
     "output_type": "stream",
     "text": [
      "True\n"
     ]
    }
   ],
   "source": [
    "def interleave(input_list1, input_list2):\n",
    "    output_list = []\n",
    "\n",
    "    for idx in range(len(input_list1)):\n",
    "        output_list.append(input_list1[idx])\n",
    "        output_list.append(input_list2[idx])\n",
    "\n",
    "    return output_list\n",
    "\n",
    "\n",
    "list1 = [1, 2, 3]\n",
    "list2 = ['a', 'b', 'c']\n",
    "expected = [1, \"a\", 2, \"b\", 3, \"c\"]\n",
    "print(interleave(list1, list2) == expected)      # True"
   ]
  },
  {
   "cell_type": "markdown",
   "id": "1ba31daa-a8c1-442a-b541-142d0a702549",
   "metadata": {},
   "source": [
    "## Further Exploration\n",
    "\n",
    "Can you solve this problem using the zip function?"
   ]
  },
  {
   "cell_type": "code",
   "execution_count": 61,
   "id": "7ed4f062-dcd7-4491-82bb-1919be681cd1",
   "metadata": {},
   "outputs": [
    {
     "name": "stdout",
     "output_type": "stream",
     "text": [
      "True\n"
     ]
    }
   ],
   "source": [
    "def interleave(input_list1, input_list2):\n",
    "    output_list = []\n",
    "    zipped = zip(input_list1, input_list2)\n",
    "\n",
    "    for pair in zipped:\n",
    "        output_list += [pair[0], pair[1]]\n",
    "\n",
    "    return output_list\n",
    "\n",
    "list1 = [1, 2, 3]\n",
    "list2 = ['a', 'b', 'c']\n",
    "expected = [1, \"a\", 2, \"b\", 3, \"c\"]\n",
    "print(interleave(list1, list2) == expected) "
   ]
  },
  {
   "cell_type": "markdown",
   "id": "12164cc5-8ac5-4584-9b24-55f35de6e0d3",
   "metadata": {
    "jp-MarkdownHeadingCollapsed": true
   },
   "source": [
    "# **6. Multiplicative Average**\n",
    "\n",
    "Write a function that takes a list of positive integers as input, multiplies all of the integers together, \n",
    "\n",
    "divides the result by the number of entries in the list, and returns the result as a string with the value rounded to three decimal places."
   ]
  },
  {
   "cell_type": "markdown",
   "id": "8fade3f3-9f37-4f0f-b713-3d5f013f5dd0",
   "metadata": {},
   "source": [
    "## Input/Output\n",
    "\n",
    "Input:\n",
    "* List containing at least one positive integer.\\\n",
    "\n",
    "Output:\n",
    "* A string representing the multiplicative average of integers in input string. The string should have three decimal places."
   ]
  },
  {
   "cell_type": "markdown",
   "id": "c2692713-0bef-42e2-9406-52ed4aa2af24",
   "metadata": {},
   "source": [
    "## Clarifying Questions\n",
    "\n",
    "N/A"
   ]
  },
  {
   "cell_type": "markdown",
   "id": "150bcd6e-d1b4-4441-8d8c-e83eadea2861",
   "metadata": {},
   "source": [
    "## Implicit Requirements\n",
    "\n",
    "*  Input lists will always contain at least two integers"
   ]
  },
  {
   "cell_type": "markdown",
   "id": "a413ad36-a909-4460-8ac7-c871b0e1f48a",
   "metadata": {},
   "source": [
    "## Examples/Test Cases \n",
    "\n",
    "```python \n",
    "# All of these examples should print True\n",
    "print(multiplicative_average([3, 5]) == \"7.500\")\n",
    "print(multiplicative_average([2, 5, 8]) == \"26.667\")\n",
    "print(multiplicative_average([2, 5]) == \"5.000\")\n",
    "print(multiplicative_average([1, 1, 1, 1]) == \"0.250\")\n",
    "print(multiplicative_average([2, 5, 7, 11, 13, 17]) == \"28361.667\")\n",
    "```"
   ]
  },
  {
   "cell_type": "markdown",
   "id": "352455fc-68df-48b9-81ae-244bfc8bf703",
   "metadata": {},
   "source": [
    "## Data/Algorithm\n",
    "\n",
    "function: multiplicative_average: input_list\n",
    "\n",
    "set total to zero\n",
    "\n",
    "Iterate over elements in input_list:\n",
    "* Add element to total\n",
    "\n",
    "set multi_average to total divided by length of input_list.\n",
    "\n",
    "set num_as_string to multi_average formatted top show three decimal places\n",
    "\n",
    "return num_as_string"
   ]
  },
  {
   "cell_type": "code",
   "execution_count": 71,
   "id": "27bb3f67-160d-462c-ba71-bea898087467",
   "metadata": {},
   "outputs": [
    {
     "name": "stdout",
     "output_type": "stream",
     "text": [
      "True\n",
      "True\n",
      "True\n",
      "True\n",
      "True\n"
     ]
    }
   ],
   "source": [
    "def multiplicative_average(input_list):\n",
    "    total = 1\n",
    "\n",
    "    for num in input_list:\n",
    "        total *= num\n",
    "        \n",
    "    multi_average = total / len(input_list)\n",
    "\n",
    "    num_as_string = f\"{multi_average:.3f}\"\n",
    "\n",
    "    return num_as_string\n",
    "\n",
    "# All of these examples should print True\n",
    "print(multiplicative_average([3, 5]) == \"7.500\")\n",
    "print(multiplicative_average([2, 5, 8]) == \"26.667\")\n",
    "print(multiplicative_average([2, 5]) == \"5.000\")\n",
    "print(multiplicative_average([1, 1, 1, 1]) == \"0.250\")\n",
    "print(multiplicative_average([2, 5, 7, 11, 13, 17]) == \"28361.667\")"
   ]
  },
  {
   "cell_type": "markdown",
   "id": "2fe9d272-e4f6-4120-820b-ad0d4373f671",
   "metadata": {
    "jp-MarkdownHeadingCollapsed": true
   },
   "source": [
    "# **7. Multiply Lists**\n",
    "\n",
    "Write a function that takes two list arguments, each containing a list of numbers, \n",
    "\n",
    "and returns a new list that contains the product of each pair of numbers from the arguments that have the same index. \n",
    "\n",
    "You may assume that the arguments contain the same number of elements.\n",
    "\n"
   ]
  },
  {
   "cell_type": "markdown",
   "id": "250f9880-4c16-44de-84da-e20721ac0060",
   "metadata": {},
   "source": [
    "## Examples/Test Cases\n",
    "\n",
    "```python \n",
    "list1 = [3, 5, 7]\n",
    "list2 = [9, 10, 11]\n",
    "print(multiply_list(list1, list2) == [27, 50, 77])  # True\n"
   ]
  },
  {
   "cell_type": "code",
   "execution_count": 74,
   "id": "fd98571d-ccdb-4b5f-8100-fcfd354991d9",
   "metadata": {},
   "outputs": [
    {
     "name": "stdout",
     "output_type": "stream",
     "text": [
      "True\n"
     ]
    }
   ],
   "source": [
    "def multiply_list(input1, input2):\n",
    "    return [x * y for x, y in zip(input1, input2)]\n",
    "\n",
    "list1 = [3, 5, 7]\n",
    "list2 = [9, 10, 11]\n",
    "print(multiply_list(list1, list2) == [27, 50, 77])  # True"
   ]
  },
  {
   "cell_type": "markdown",
   "id": "aa2e2860-0963-44dc-be42-f516c4d49be5",
   "metadata": {
    "jp-MarkdownHeadingCollapsed": true
   },
   "source": [
    "# **8. List of Digits**\n",
    "\n",
    "Write a function that takes one argument, a positive integer, and returns a list of the digits in the number."
   ]
  },
  {
   "cell_type": "markdown",
   "id": "6648041c-d19f-48db-92c6-d187ffbac34d",
   "metadata": {},
   "source": [
    "## Examples/Test Cases\n",
    "\n",
    "```python \n",
    "print(digit_list(12345) == [1, 2, 3, 4, 5])       # True\n",
    "print(digit_list(7) == [7])                       # True\n",
    "print(digit_list(375290) == [3, 7, 5, 2, 9, 0])   # True\n",
    "print(digit_list(444) == [4, 4, 4])               # True\n",
    "```"
   ]
  },
  {
   "cell_type": "markdown",
   "id": "99b0d481-a56c-47e6-9df2-8aa05b8d5c30",
   "metadata": {},
   "source": [
    "## Data/Algorithm\n",
    "\n",
    "func: digit_list: input_int\n",
    "* set nums_list to empty list\n",
    "* loop while input_int is greater than 0\n",
    "    * Add last element of input_int to nums_list\n",
    "    * Remopve last element from input int using floor division by 10\n",
    "* Return the reverse of nums_list"
   ]
  },
  {
   "cell_type": "code",
   "execution_count": 77,
   "id": "3f7baa17-a8e9-4271-a2f1-3f65cf62969d",
   "metadata": {},
   "outputs": [
    {
     "name": "stdout",
     "output_type": "stream",
     "text": [
      "True\n",
      "True\n",
      "True\n",
      "True\n"
     ]
    }
   ],
   "source": [
    "def digit_list(input_int):\n",
    "    nums_list = []\n",
    "\n",
    "    while input_int > 0:\n",
    "        nums_list.append(input_int % 10)\n",
    "        input_int = input_int // 10\n",
    "\n",
    "    nums_list.reverse()\n",
    "\n",
    "    return nums_list\n",
    "\n",
    "\n",
    "print(digit_list(12345) == [1, 2, 3, 4, 5])       # True\n",
    "print(digit_list(7) == [7])                       # True\n",
    "print(digit_list(375290) == [3, 7, 5, 2, 9, 0])   # True\n",
    "print(digit_list(444) == [4, 4, 4])               # True"
   ]
  },
  {
   "cell_type": "markdown",
   "id": "5e126359-7f26-4df6-b203-f794bc69bf7c",
   "metadata": {
    "jp-MarkdownHeadingCollapsed": true
   },
   "source": [
    "# **8. How Many**\n",
    "\n",
    "Write a function that counts the number of occurrences of each element in a given list. \n",
    "\n",
    "Once counted, print each element alongside the number of occurrences. \n",
    "\n",
    "Consider the words case sensitive e.g. (\"suv\" != \"SUV\")."
   ]
  },
  {
   "cell_type": "markdown",
   "id": "4e44db85-b5f7-4f53-ba4d-d97e8dc4783e",
   "metadata": {},
   "source": [
    "## Input/Output\n",
    "\n",
    "\n",
    "Input:\n",
    "* List\n",
    "\n",
    "\n",
    "Output:\n",
    "* Printed number of frequency of each element"
   ]
  },
  {
   "cell_type": "markdown",
   "id": "88909edf-d8b2-45dc-988b-402eb3122fc1",
   "metadata": {},
   "source": [
    "## Problem Domain\n",
    "\n",
    "N/A"
   ]
  },
  {
   "cell_type": "markdown",
   "id": "d6ce7696-b4ba-4c6c-9164-36726ba4bcd9",
   "metadata": {},
   "source": [
    "## Implicit Requirements\n",
    "\n",
    "* Input list will containm strings"
   ]
  },
  {
   "cell_type": "markdown",
   "id": "3b4fa33e-a977-4bb4-b36e-6dc33a9c0ebf",
   "metadata": {},
   "source": [
    "## Clarifying Questions\n",
    "\n",
    "N/A"
   ]
  },
  {
   "cell_type": "markdown",
   "id": "b6ac075c-98c3-42b4-9a6e-406b8da4b075",
   "metadata": {},
   "source": [
    "## Examples/Test Cases\n",
    "\n",
    "```python \n",
    "vehicles = ['car', 'car', 'truck', 'car', 'SUV', 'truck',\n",
    "            'motorcycle', 'motorcycle', 'car', 'truck']\n",
    "\n",
    "count_occurrences(vehicles)\n",
    "\n",
    "Expected Output\n",
    "\n",
    "# your output sequence may appear in a different sequence\n",
    "car => 4\n",
    "truck => 3\n",
    "SUV => 1\n",
    "motorcycle => 2\n",
    "```"
   ]
  },
  {
   "cell_type": "markdown",
   "id": "d3fa1369-715f-4604-a945-96e9deae239a",
   "metadata": {},
   "source": [
    "## Mental Model\n",
    "\n",
    "Take a list as input, calculate and print the frequency that each element appears in input list."
   ]
  },
  {
   "cell_type": "markdown",
   "id": "60498ad1-13b7-48df-8d47-46b6170fe4d4",
   "metadata": {},
   "source": [
    "## Data/Algorithm \n",
    "\n",
    "Func: count_occurences: input_list\n",
    "* Set count_dict to emoty dictionary\n",
    "* Iterate over elements of input_list\n",
    "    * if element appears as key in count_dict\n",
    "        * Add 1 to corresponding value\n",
    "    * If element does not appear in count_dict\n",
    "        * Create relevant key with value as 1\n",
    "* Print the key and values of count_dict formatted as above"
   ]
  },
  {
   "cell_type": "code",
   "execution_count": 3,
   "id": "666046be-366f-478c-9f77-52794f0ffb38",
   "metadata": {},
   "outputs": [
    {
     "name": "stdout",
     "output_type": "stream",
     "text": [
      "car => 4\n",
      "truck => 3\n",
      "SUV => 1\n",
      "motorcycle => 2\n"
     ]
    }
   ],
   "source": [
    "def count_occurrences(input_list):\n",
    "    count_dict = {}\n",
    "\n",
    "    for elem in input_list:\n",
    "        count_dict[elem] = count_dict.get(elem, 0) + 1\n",
    "\n",
    "    for key, val in count_dict.items():\n",
    "        print(f\"{key} => {val}\")\n",
    "\n",
    "\n",
    "vehicles = ['car', 'car', 'truck', 'car', 'SUV', 'truck',\n",
    "            'motorcycle', 'motorcycle', 'car', 'truck']\n",
    "\n",
    "count_occurrences(vehicles)"
   ]
  },
  {
   "cell_type": "markdown",
   "id": "35e76969-5e66-4a5a-92cd-50b423eccb85",
   "metadata": {},
   "source": [
    "Further Exploration\n",
    "\n",
    "Try to solve the problem when words are case insensitive, e.g. \"suv\" and \"SUV\" represent the same vehicle type."
   ]
  },
  {
   "cell_type": "code",
   "execution_count": 6,
   "id": "66744629-cb79-427a-a654-5b7a77ce5c3a",
   "metadata": {},
   "outputs": [
    {
     "name": "stdout",
     "output_type": "stream",
     "text": [
      "car => 4\n",
      "truck => 3\n",
      "suv => 1\n",
      "motorcycle => 2\n"
     ]
    }
   ],
   "source": [
    "def count_occurrences(input_list):\n",
    "    count_dict = {}\n",
    "\n",
    "    for elem in input_list:\n",
    "        lowered_str = elem.lower()\n",
    "        count_dict[lowered_str] = count_dict.get(lowered_str, 0) + 1\n",
    "\n",
    "    for key, val in count_dict.items():\n",
    "        print(f\"{key} => {val}\")\n",
    "\n",
    "\n",
    "vehicles = ['car', 'CAR', 'truck', 'cAr', 'SUV', 'truck',\n",
    "            'motorcycle', 'motorcycle', 'car', 'truck']\n",
    "count_occurrences(vehicles)\n"
   ]
  },
  {
   "cell_type": "markdown",
   "id": "71cedaca-530c-42be-a13b-7b2ca9f6c276",
   "metadata": {
    "editable": true,
    "jp-MarkdownHeadingCollapsed": true,
    "slideshow": {
     "slide_type": ""
    },
    "tags": []
   },
   "source": [
    "# **10. List Average**\n",
    "\n",
    "Write a function that takes one argument, a list of integers, and returns the average of all the integers in the list, \n",
    "\n",
    "rounded down to the integer component of the average. \n",
    "\n",
    "The list will never be empty, and the numbers will always be positive integers."
   ]
  },
  {
   "cell_type": "markdown",
   "id": "f9733aca-33b5-4d37-9708-bd4c3b6656ee",
   "metadata": {},
   "source": [
    "## Input/Output\n",
    "\n",
    "Input: \n",
    "* List of minimum length 1 containing only integers\n",
    "\n",
    "Output:\n",
    "* Integer rounded down from average of integers in list "
   ]
  },
  {
   "cell_type": "markdown",
   "id": "65d42b8b-0d00-4997-9baf-ae9cf3e0241f",
   "metadata": {},
   "source": [
    "## Problem Domain\n",
    "\n",
    "What sortt of average?\n",
    "* The mean\n",
    "\n",
    "How do you calculate mean? \n",
    "* Add all elements then divide by the number of elements"
   ]
  },
  {
   "cell_type": "markdown",
   "id": "faeb5350-6226-47c8-a342-848e7a23ed15",
   "metadata": {},
   "source": [
    "## Implicit Requirements \n",
    "\n",
    "Can take a list of length 1, in which case you return that single integer"
   ]
  },
  {
   "cell_type": "markdown",
   "id": "c87ee68d-6b4c-496a-ab43-98ca6ec676dc",
   "metadata": {},
   "source": [
    "## Clarifying Questions\n",
    "\n",
    "N/A"
   ]
  },
  {
   "cell_type": "markdown",
   "id": "4e7c14b2-1a5d-43ca-ac72-099ef37c41ea",
   "metadata": {},
   "source": [
    "## Examples/Test Cases \n",
    "\n",
    "```python \n",
    "print(average([1, 5, 87, 45, 8, 8]) == 25)        # True\n",
    "print(average([9, 47, 23, 95, 16, 52]) == 40)     # True\n",
    "print(average([7]) == 7)                          # True\n",
    "```"
   ]
  },
  {
   "cell_type": "markdown",
   "id": "86854ee0-9fbd-4dfc-b765-801531f9f2f3",
   "metadata": {},
   "source": [
    "## Mental Model\n",
    "\n",
    "Take a list of positive integers and return the average of these integers as a rounded down integer"
   ]
  },
  {
   "cell_type": "markdown",
   "id": "469dffe7-9a78-494d-849c-f6f075f26e2b",
   "metadata": {},
   "source": [
    "## Data/Algorithm\n",
    "\n",
    "func: average: input_list\n",
    "* Set total to 0\n",
    "* Loop through numbers in input list:\n",
    "    * Add number to total\n",
    "* set output_num to floordivision of total divided by length of input_list\n",
    "* return output_num"
   ]
  },
  {
   "cell_type": "code",
   "execution_count": 9,
   "id": "53a91697-7409-4931-998c-ed5ba30f3c28",
   "metadata": {},
   "outputs": [
    {
     "name": "stdout",
     "output_type": "stream",
     "text": [
      "True\n",
      "True\n",
      "True\n"
     ]
    }
   ],
   "source": [
    "def average(input_list):\n",
    "    total = sum(input_list)\n",
    "\n",
    "    output_num = total // len(input_list)\n",
    "\n",
    "    return output_num\n",
    "\n",
    "print(average([1, 5, 87, 45, 8, 8]) == 25)        # True\n",
    "print(average([9, 47, 23, 95, 16, 52]) == 40)     # True\n",
    "print(average([7]) == 7)                          # True"
   ]
  }
 ],
 "metadata": {
  "kernelspec": {
   "display_name": "Python 3 (ipykernel)",
   "language": "python",
   "name": "python3"
  },
  "language_info": {
   "codemirror_mode": {
    "name": "ipython",
    "version": 3
   },
   "file_extension": ".py",
   "mimetype": "text/x-python",
   "name": "python",
   "nbconvert_exporter": "python",
   "pygments_lexer": "ipython3",
   "version": "3.12.3"
  }
 },
 "nbformat": 4,
 "nbformat_minor": 5
}
