{
 "cells": [
  {
   "cell_type": "markdown",
   "id": "e54b1f5d-5e65-4ee9-a437-288ea8202daf",
   "metadata": {
    "jp-MarkdownHeadingCollapsed": true
   },
   "source": [
    "# **1. Inverting Dictionary**\n",
    "\n",
    "Given a dictionary where both keys and values are unique, invert this dictionary so that its keys become values and its values become keys."
   ]
  },
  {
   "cell_type": "markdown",
   "id": "3f4fc182-1781-4e67-b9b4-14ca8a6729ea",
   "metadata": {},
   "source": [
    "## Input/Output\n",
    "\n",
    "Input:\n",
    "* Dictionary wiith unique keys and values\n",
    "\n",
    "Output:\n",
    "* None, but mutate the input dictionary in place, switching keys and values"
   ]
  },
  {
   "cell_type": "markdown",
   "id": "9e7cc2f9-9e7a-4ccb-904f-bac6f03f4275",
   "metadata": {},
   "source": [
    "## Examples/Test Cases\n",
    "\n",
    "```python \n",
    "print(invert_dict({\n",
    "          'apple': 'fruit',\n",
    "          'broccoli': 'vegetable',\n",
    "          'salmon': 'fish',\n",
    "      }) == {\n",
    "          'fruit': 'apple',\n",
    "          'vegetable': 'broccoli',\n",
    "          'fish': 'salmon',\n",
    "      })  # True\n",
    "```"
   ]
  },
  {
   "cell_type": "markdown",
   "id": "eaac4345-f582-4e47-bf55-81f436106690",
   "metadata": {},
   "source": [
    "## Data/Algorithm\n",
    "\n",
    "func: invert_dict: input_dict\n",
    "* Iterate throough keys and values of input_dict\n",
    "    * Add inverted key and val to dictionary\n",
    "    * Delete old key and value\n",
    "    * WRONG. NEED TO CREATE NEW DICTIONARY"
   ]
  },
  {
   "cell_type": "code",
   "execution_count": 4,
   "id": "a129888c-ae1e-45bc-a150-d6b16979527c",
   "metadata": {},
   "outputs": [
    {
     "name": "stdout",
     "output_type": "stream",
     "text": [
      "apple fruit\n",
      "broccoli vegetable\n",
      "salmon fish\n",
      "True\n"
     ]
    }
   ],
   "source": [
    "def invert_dict(input_dict):\n",
    "    output_dict = {}\n",
    "    for key, val in input_dict.items():\n",
    "        print(key, val)\n",
    "        output_dict[val] = key\n",
    "\n",
    "    return output_dict\n",
    "\n",
    "print(invert_dict({\n",
    "          'apple': 'fruit',\n",
    "          'broccoli': 'vegetable',\n",
    "          'salmon': 'fish',\n",
    "      }) == {\n",
    "          'fruit': 'apple',\n",
    "          'vegetable': 'broccoli',\n",
    "          'fish': 'salmon',\n",
    "      })  # True"
   ]
  },
  {
   "cell_type": "code",
   "execution_count": 5,
   "id": "982da9e1-99f0-4b2e-a98c-4663694cac36",
   "metadata": {},
   "outputs": [
    {
     "name": "stdout",
     "output_type": "stream",
     "text": [
      "True\n"
     ]
    }
   ],
   "source": [
    "## Alternate using dictionary comprehension\n",
    "\n",
    "def invert_dict(input_dict):\n",
    "    return {val: key for key, val in input_dict.items()}\n",
    "\n",
    "print(invert_dict({\n",
    "          'apple': 'fruit',\n",
    "          'broccoli': 'vegetable',\n",
    "          'salmon': 'fish',\n",
    "      }) == {\n",
    "          'fruit': 'apple',\n",
    "          'vegetable': 'broccoli',\n",
    "          'fish': 'salmon',\n",
    "      })"
   ]
  },
  {
   "cell_type": "markdown",
   "id": "3498427a-c4e2-456c-a3b1-d39bbb0cb8b8",
   "metadata": {
    "jp-MarkdownHeadingCollapsed": true
   },
   "source": [
    "# **2. Retain Specific Keys**\n",
    "\n",
    "Given a dictionary and a list of keys, produce a new dictionary that only contains the key/value pairs for the specified keys."
   ]
  },
  {
   "cell_type": "markdown",
   "id": "28811511-2a45-4d64-8bc6-5b532d290ee9",
   "metadata": {},
   "source": [
    "## Input/Output\n",
    "\n",
    "Input:\n",
    "* Dictionary, and list of keys\n",
    "\n",
    "Output:\n",
    "* New dictionary containing only the key value pairs, where the key is in the input list"
   ]
  },
  {
   "cell_type": "markdown",
   "id": "280103ee-4a10-41cb-82a4-082fe2590c7f",
   "metadata": {},
   "source": [
    "## Examples/Test Cases \n",
    "\n",
    "```python \n",
    "input_dict = {\n",
    "    'red': 1,\n",
    "    'green': 2,\n",
    "    'blue': 3,\n",
    "    'yellow': 4,\n",
    "}\n",
    "\n",
    "keys = ['red', 'blue']\n",
    "expected_dict = {'red': 1, 'blue': 3}\n",
    "print(keep_keys(input_dict, keys) == expected_dict) # True\n",
    "```"
   ]
  },
  {
   "cell_type": "markdown",
   "id": "97052a26-d835-4749-9155-097ab6451ea7",
   "metadata": {},
   "source": [
    "## Data/Algorithm\n",
    "\n",
    "Use a dictionary comprenhension with if statement for selection"
   ]
  },
  {
   "cell_type": "code",
   "execution_count": 6,
   "id": "a7cecaad-80dc-4d4d-b717-d6564d686ccf",
   "metadata": {},
   "outputs": [
    {
     "name": "stdout",
     "output_type": "stream",
     "text": [
      "True\n"
     ]
    }
   ],
   "source": [
    "def keep_keys(input_dict, keys_to_keep):\n",
    "    return {key: val for key, val in input_dict.items() if key in keys_to_keep}\n",
    "\n",
    "input_dict = {\n",
    "    'red': 1,\n",
    "    'green': 2,\n",
    "    'blue': 3,\n",
    "    'yellow': 4,\n",
    "}\n",
    "\n",
    "keys = ['red', 'blue']\n",
    "expected_dict = {'red': 1, 'blue': 3}\n",
    "print(keep_keys(input_dict, keys) == expected_dict) # True"
   ]
  },
  {
   "cell_type": "markdown",
   "id": "fa0f0479-2eda-40bf-9884-10faf102b13b",
   "metadata": {
    "jp-MarkdownHeadingCollapsed": true
   },
   "source": [
    "# **3. Delete Vowels**\n",
    "\n",
    "Write a function that takes a list of strings and returns a list of the same string values, but with all vowels (a, e, i, o, u) removed."
   ]
  },
  {
   "cell_type": "markdown",
   "id": "460df0aa-880d-48b4-959c-dfd5a54017da",
   "metadata": {},
   "source": [
    "## Input/Output\n",
    "\n",
    "Input:\n",
    "* List of strings\n",
    "\n",
    "Output:\n",
    "* New list containing strings with all vowels removed"
   ]
  },
  {
   "cell_type": "markdown",
   "id": "b38f720d-6ec9-41a7-9f92-87c7cd2c1ead",
   "metadata": {},
   "source": [
    "## Implicit Requirements\n",
    "\n",
    "* Strings in output list should be in the same order\n",
    "* Case should be preserved\n",
    "* If an input string is all vowels return empty string in that position"
   ]
  },
  {
   "cell_type": "markdown",
   "id": "fbe91738-ec4e-4dd0-afcb-e738ebd3bbed",
   "metadata": {},
   "source": [
    "## Examples/Test Cases\n",
    "\n",
    "```python \n",
    "# All of these examples should print True\n",
    "original = ['abcdefghijklmnopqrstuvwxyz']\n",
    "expected = ['bcdfghjklmnpqrstvwxyz']\n",
    "print(remove_vowels(original) == expected)        # True\n",
    "\n",
    "original = ['green', 'YELLOW', 'black', 'white']\n",
    "expected = ['grn', 'YLLW', 'blck', 'wht']\n",
    "print(remove_vowels(original) == expected)        # True\n",
    "\n",
    "original = ['ABC', 'AEIOU', 'XYZ']\n",
    "expected = ['BC', '', 'XYZ']\n",
    "print(remove_vowels(original) == expected)        # True\n",
    "```"
   ]
  },
  {
   "cell_type": "markdown",
   "id": "4c9c514a-b58a-42b9-a24a-338b2b79ac74",
   "metadata": {},
   "source": [
    "## Data/Algorithm\n",
    "\n",
    "Set all_vowels string to all vowels, lower and upper\n",
    "\n",
    "func: remove_vowels: input_list\n",
    "* Set output_list to empty list\n",
    "* Iterate over elements of input_list: str_with_vowels:\n",
    "    * Set str_without_vowels to empty string\n",
    "    * Iterate over characters in str_with_vowels:\n",
    "        * If char is not a vowel add it to str_withouyt_vowels\n",
    "    * Add str_without_vowels to output_list\n",
    "* return output_list "
   ]
  },
  {
   "cell_type": "code",
   "execution_count": 7,
   "id": "6b7980b0-9080-4157-bb57-691f5115f486",
   "metadata": {},
   "outputs": [
    {
     "name": "stdout",
     "output_type": "stream",
     "text": [
      "True\n",
      "True\n",
      "True\n"
     ]
    }
   ],
   "source": [
    "all_vowels = \"aeiouAEIOU\"\n",
    "\n",
    "def remove_vowels(input_list):\n",
    "    output_list = []\n",
    "\n",
    "    for str_with_vowels in input_list:\n",
    "        str_without_vowels = \"\"\n",
    "\n",
    "        for char in str_with_vowels:\n",
    "            if char not in all_vowels:\n",
    "                str_without_vowels +=  char\n",
    "\n",
    "        output_list.append(str_without_vowels)\n",
    "\n",
    "    return output_list\n",
    "\n",
    "\n",
    "original = ['abcdefghijklmnopqrstuvwxyz']\n",
    "expected = ['bcdfghjklmnpqrstvwxyz']\n",
    "print(remove_vowels(original) == expected)        # True\n",
    "\n",
    "original = ['green', 'YELLOW', 'black', 'white']\n",
    "expected = ['grn', 'YLLW', 'blck', 'wht']\n",
    "print(remove_vowels(original) == expected)        # True\n",
    "\n",
    "original = ['ABC', 'AEIOU', 'XYZ']\n",
    "expected = ['BC', '', 'XYZ']\n",
    "print(remove_vowels(original) == expected)        # True"
   ]
  },
  {
   "cell_type": "code",
   "execution_count": 9,
   "id": "292835da-321d-4b9a-8e3d-e4250c1dc6e0",
   "metadata": {},
   "outputs": [
    {
     "name": "stdout",
     "output_type": "stream",
     "text": [
      "True\n",
      "True\n",
      "True\n"
     ]
    }
   ],
   "source": [
    "## Solution with list comprehension\n",
    "\n",
    "all_vowels = \"aeiouAEIOU\"\n",
    "\n",
    "def remove_vowels_from_str(input_str):\n",
    "    output_str = \"\"\n",
    "\n",
    "    for char in input_str:\n",
    "        if char not in all_vowels:\n",
    "            output_str += char\n",
    "\n",
    "    return output_str\n",
    "\n",
    "def remove_vowels(input_lst):\n",
    "    return [remove_vowels_from_str(str_with_vowels) for str_with_vowels in input_lst]\n",
    "\n",
    "original = ['abcdefghijklmnopqrstuvwxyz']\n",
    "expected = ['bcdfghjklmnpqrstvwxyz']\n",
    "print(remove_vowels(original) == expected)        # True\n",
    "\n",
    "original = ['green', 'YELLOW', 'black', 'white']\n",
    "expected = ['grn', 'YLLW', 'blck', 'wht']\n",
    "print(remove_vowels(original) == expected)        # True\n",
    "\n",
    "original = ['ABC', 'AEIOU', 'XYZ']\n",
    "expected = ['BC', '', 'XYZ']\n",
    "print(remove_vowels(original) == expected)        # True"
   ]
  },
  {
   "cell_type": "markdown",
   "id": "61204554-4539-4ee1-acb2-93f69f5b1f3c",
   "metadata": {
    "jp-MarkdownHeadingCollapsed": true
   },
   "source": [
    "# **4. How Long  Are You?**\n",
    "\n",
    "Write a function that takes a string as an argument and returns a list that contains every word from the string, \n",
    "\n",
    "with each word followed by a space and the word's length.\n",
    "\n",
    "If the argument is an empty string or if no argument is passed, the function should return an empty list.\n",
    "\n",
    "You may assume that every pair of words in the string will be separated by a single space"
   ]
  },
  {
   "cell_type": "markdown",
   "id": "1864f090-ee21-45d0-88de-76225c1dbbee",
   "metadata": {},
   "source": [
    "## Input/Output\n",
    "\n",
    "Input:\n",
    "* String\n",
    "\n",
    "Output:\n",
    "* List containing every word from string, with each word being followed by a space and number representing the length of that word.\n"
   ]
  },
  {
   "cell_type": "markdown",
   "id": "5a03e896-4f3b-4244-ac98-bec20c25edf3",
   "metadata": {},
   "source": [
    "## Implicit Requirements\n",
    "\n",
    "* Punctuation counts towards word length\n",
    "*  Words separated by single space\n",
    "*  If no argument is passed return empty_list (default argument of empty string)"
   ]
  },
  {
   "cell_type": "markdown",
   "id": "49a1ed50-01a9-41be-9e22-bb60c6e54a2f",
   "metadata": {},
   "source": [
    "## Examples/Test Cases\n",
    "\n",
    "```python \n",
    "# All of these examples should print True\n",
    "words = 'cow sheep chicken'\n",
    "expected_result = ['cow 3', 'sheep 5', 'chicken 7']\n",
    "print(word_lengths(words) == expected_result)        # True\n",
    "\n",
    "words = 'baseball hot dogs and apple pie'\n",
    "expected_result = ['baseball 8', 'hot 3', 'dogs 4',\n",
    "                   'and 3', 'apple 5', 'pie 3']\n",
    "print(word_lengths(words) == expected_result)        # True\n",
    "\n",
    "words = \"It ain't easy, is it?\"\n",
    "expected_result = ['It 2', \"ain't 5\", 'easy, 5',\n",
    "                   'is 2', 'it? 3']\n",
    "print(word_lengths(words) == expected_result)        # True\n",
    "\n",
    "big_word = 'Supercalifragilisticexpialidocious'\n",
    "print(word_lengths(big_word) == [f'{big_word} 34'])  # True\n",
    "\n",
    "print(word_lengths('') == [])                        # True\n",
    "print(word_lengths() == [])                          # True\n",
    "```"
   ]
  },
  {
   "cell_type": "markdown",
   "id": "4e2b2e57-0a50-4131-bd5d-c5452586517b",
   "metadata": {},
   "source": [
    "## Data/Algorithm\n",
    "\n",
    "func word_lengths: input_string\n",
    "* Separtate input_string into list of words: words_list\n",
    "* Set output_list to empty list\n",
    "* Iterate over elements of words_list: word\n",
    "    * Set elem_to_add to word with space followed by length (as string)\n",
    "    * Add elem_to_add to output_list\n",
    "* Return output_list"
   ]
  },
  {
   "cell_type": "code",
   "execution_count": 3,
   "id": "877d6302-2069-47be-bff1-cc82fac6e8ec",
   "metadata": {},
   "outputs": [
    {
     "name": "stdout",
     "output_type": "stream",
     "text": [
      "True\n",
      "True\n",
      "True\n",
      "True\n",
      "True\n",
      "True\n"
     ]
    }
   ],
   "source": [
    "def word_lengths(input_string=\"\"):\n",
    "    output_list = []\n",
    "    words_list = input_string.split()\n",
    "\n",
    "    for word in words_list:\n",
    "        elem_to_add = word + \" \" + str(len(word))\n",
    "        output_list.append(elem_to_add)\n",
    "\n",
    "    return output_list\n",
    "\n",
    "\n",
    "words = 'cow sheep chicken'\n",
    "expected_result = ['cow 3', 'sheep 5', 'chicken 7']\n",
    "print(word_lengths(words) == expected_result)        # True\n",
    "\n",
    "words = 'baseball hot dogs and apple pie'\n",
    "expected_result = ['baseball 8', 'hot 3', 'dogs 4',\n",
    "                   'and 3', 'apple 5', 'pie 3']\n",
    "print(word_lengths(words) == expected_result)        # True\n",
    "\n",
    "words = \"It ain't easy, is it?\"\n",
    "expected_result = ['It 2', \"ain't 5\", 'easy, 5',\n",
    "                   'is 2', 'it? 3']\n",
    "print(word_lengths(words) == expected_result)        # True\n",
    "\n",
    "big_word = 'Supercalifragilisticexpialidocious'\n",
    "print(word_lengths(big_word) == [f'{big_word} 34'])  # True\n",
    "\n",
    "print(word_lengths('') == [])                        # True\n",
    "print(word_lengths() == [])                          # True"
   ]
  },
  {
   "cell_type": "code",
   "execution_count": null,
   "id": "7527d201-e840-492a-8b46-f2b54dd77e45",
   "metadata": {},
   "outputs": [],
   "source": [
    "## Alternate using comprehension\n",
    "\n",
    "def word_lengths(input_string=\"\"):\n",
    "    if not input_string:\n",
    "        return []\n",
    "\n",
    "    return [f\"{word} {len(word)}\" for word in input_string.split()]\n",
    "\n",
    "words = 'cow sheep chicken'\n",
    "expected_result = ['cow 3', 'sheep 5', 'chicken 7']\n",
    "print(word_lengths(words) == expected_result)        # True\n",
    "\n",
    "words = 'baseball hot dogs and apple pie'\n",
    "expected_result = ['baseball 8', 'hot 3', 'dogs 4',\n",
    "                   'and 3', 'apple 5', 'pie 3']\n",
    "print(word_lengths(words) == expected_result)        # True\n",
    "\n",
    "words = \"It ain't easy, is it?\"\n",
    "expected_result = ['It 2', \"ain't 5\", 'easy, 5',\n",
    "                   'is 2', 'it? 3']\n",
    "print(word_lengths(words) == expected_result)        # True\n",
    "\n",
    "big_word = 'Supercalifragilisticexpialidocious'\n",
    "print(word_lengths(big_word) == [f'{big_word} 34'])  # True\n",
    "\n",
    "print(word_lengths('') == [])                        # True\n",
    "print(word_lengths() == [])                          # True"
   ]
  },
  {
   "cell_type": "markdown",
   "id": "4366f66a-63dd-499b-abac-c25f35c0dc6c",
   "metadata": {
    "jp-MarkdownHeadingCollapsed": true
   },
   "source": [
    "# **5. List Element Multiplication**\n",
    "\n",
    "Given two lists of integers of the same length, return a new list where each element is the product of the corresponding elements from the two lists."
   ]
  },
  {
   "cell_type": "markdown",
   "id": "e2818de2-55d7-4360-82d2-04d8d0c7ca43",
   "metadata": {},
   "source": [
    "## Input/Output\n",
    "\n",
    "Input:\n",
    "* Two lists of equal length containing only integers\n",
    "\n",
    "Output:\n",
    "* Single list containing the product of the elements in the two input lists\n"
   ]
  },
  {
   "cell_type": "markdown",
   "id": "f4e74e31-61a5-4d97-a0ba-0d3c3d789042",
   "metadata": {},
   "source": [
    "## Examples/Test Cases\n",
    "\n",
    "```python \n",
    "list_a = [1, 2, 3]\n",
    "list_b = [4, 5, 6]\n",
    "print(multiply_items(list_a, list_b) == [4, 10, 18]) # True\n",
    "```"
   ]
  },
  {
   "cell_type": "markdown",
   "id": "baeb606d-9afd-4886-977f-d79c3c518c44",
   "metadata": {},
   "source": [
    "## Data/Algorithm\n",
    "\n",
    "func: multiply_items: input_list1, input_list2\n",
    "* Set output_list to empty list\n",
    "* Loop over index values of input lists:\n",
    "    * set num_to_add to multiplication of integers\n",
    "    * Add num_to_add to output_list\n",
    "* Return output_list "
   ]
  },
  {
   "cell_type": "code",
   "execution_count": 2,
   "id": "40d74347-4776-4cb8-bda1-28a0bb19abc4",
   "metadata": {},
   "outputs": [
    {
     "name": "stdout",
     "output_type": "stream",
     "text": [
      "True\n"
     ]
    }
   ],
   "source": [
    "def multiply_items(input_list1, input_list2):\n",
    "    output_list = []\n",
    "\n",
    "    for idx in range(len(input_list1)):\n",
    "        num1 = input_list1[idx]\n",
    "        num2 = input_list2[idx]\n",
    "        num_to_add = num1 * num2\n",
    "\n",
    "        output_list.append(num_to_add)\n",
    "\n",
    "    return output_list\n",
    "\n",
    "\n",
    "list_a = [1, 2, 3]\n",
    "list_b = [4, 5, 6]\n",
    "print(multiply_items(list_a, list_b) == [4, 10, 18]) # True"
   ]
  },
  {
   "cell_type": "code",
   "execution_count": 4,
   "id": "8554d3fc-f6d6-4424-8738-636f980944c1",
   "metadata": {},
   "outputs": [
    {
     "name": "stdout",
     "output_type": "stream",
     "text": [
      "True\n"
     ]
    }
   ],
   "source": [
    "# With zip function\n",
    "\n",
    "\n",
    "def multiply_items(input_list1, input_list2):\n",
    "    return [num1 * num2 for num1, num2 in zip(input_list1, input_list2)]\n",
    "\n",
    "list_a = [1, 2, 3]\n",
    "list_b = [4, 5, 6]\n",
    "print(multiply_items(list_a, list_b) == [4, 10, 18]) # True"
   ]
  },
  {
   "cell_type": "markdown",
   "id": "095b990a-f17c-438c-a4d7-64ec4ead3c5a",
   "metadata": {
    "jp-MarkdownHeadingCollapsed": true
   },
   "source": [
    "# **6. Sum of Sums**\n",
    "\n",
    "Write a function that takes a list of numbers and returns the sum of the sums of each leading subsequence in that list. \n",
    "\n",
    "Examine the examples to see what we mean. You may assume that the list always contains at least one number."
   ]
  },
  {
   "cell_type": "markdown",
   "id": "463101e3-bede-4046-aa38-6f897ef66bbe",
   "metadata": {},
   "source": [
    "## Input/Output\n",
    "\n",
    "Input:\n",
    "* List of numbers\n",
    "\n",
    "Output:\n",
    "* Integer of cumulative sum of numbers in input list"
   ]
  },
  {
   "cell_type": "markdown",
   "id": "714c7e59-be5a-4096-b0da-1cca6ba08d43",
   "metadata": {},
   "source": [
    "## Implicit Requirements\n",
    "\n",
    "* Numbers will always be integers\n",
    "* Input list can contain a single number\n",
    "* Input list will not be emppty"
   ]
  },
  {
   "cell_type": "markdown",
   "id": "f6d5ccbb-86e1-41a8-9138-dabcf2fe0264",
   "metadata": {},
   "source": [
    "## Examples/Test Cases\n",
    "\n",
    "```python\n",
    "print(sum_of_sums([3, 5, 2]) == 21)               # True\n",
    "# (3) + (3 + 5) + (3 + 5 + 2) --> 21\n",
    "\n",
    "print(sum_of_sums([1, 5, 7, 3]) == 36)            # True\n",
    "# (1) + (1 + 5) + (1 + 5 + 7) + (1 + 5 + 7 + 3) --> 36\n",
    "\n",
    "print(sum_of_sums([1, 2, 3, 4, 5]) == 35)         # True\n",
    "# (1) + (1+2) + (1+2+3) + (1+2+3+4) + (1+2+3+4+5) --> 35\n",
    "\n",
    "print(sum_of_sums([4]) == 4)                      # True\n",
    "```"
   ]
  },
  {
   "cell_type": "markdown",
   "id": "398b7c52-f251-416d-9a55-1a6faead5186",
   "metadata": {},
   "source": [
    "## Data/Algorithm\n",
    "\n",
    "func: sum_of_sums: input_list\n",
    "* Set num_to_add to 0\n",
    "* Set cum_total to zero\n",
    "* Iterate over numbers in input_list: num\n",
    "    * Add num to num_to_add\n",
    "    * Add num_to_add to cumtotal\n",
    "* Return cum_total"
   ]
  },
  {
   "cell_type": "code",
   "execution_count": 5,
   "id": "c8c75a8d-9aad-4d5d-94ca-b44627f9d619",
   "metadata": {},
   "outputs": [
    {
     "name": "stdout",
     "output_type": "stream",
     "text": [
      "True\n",
      "True\n",
      "True\n",
      "True\n"
     ]
    }
   ],
   "source": [
    "def sum_of_sums(input_list):\n",
    "    num_to_add = 0\n",
    "    cum_total = 0\n",
    "\n",
    "    for num in input_list:\n",
    "        num_to_add += num\n",
    "        cum_total += num_to_add\n",
    "\n",
    "    return cum_total\n",
    "\n",
    "print(sum_of_sums([3, 5, 2]) == 21)               # True\n",
    "# (3) + (3 + 5) + (3 + 5 + 2) --> 21\n",
    "\n",
    "print(sum_of_sums([1, 5, 7, 3]) == 36)            # True\n",
    "# (1) + (1 + 5) + (1 + 5 + 7) + (1 + 5 + 7 + 3) --> 36\n",
    "\n",
    "print(sum_of_sums([1, 2, 3, 4, 5]) == 35)         # True\n",
    "# (1) + (1+2) + (1+2+3) + (1+2+3+4) + (1+2+3+4+5) --> 35\n",
    "\n",
    "print(sum_of_sums([4]) == 4)                      # True"
   ]
  },
  {
   "cell_type": "markdown",
   "id": "3df770b0-6a09-431e-b5ac-1c5690b1199d",
   "metadata": {
    "jp-MarkdownHeadingCollapsed": true
   },
   "source": [
    "# **7. Sum of Digits**\n",
    "\n",
    "Write a function that takes one argument, a positive integer, and returns the sum of its digits."
   ]
  },
  {
   "cell_type": "markdown",
   "id": "ffb8038e-be96-4ff7-896d-d51a5f5be2be",
   "metadata": {},
   "source": [
    "## Input/Output\n",
    "\n",
    "Input:\n",
    "* Positive integer\n",
    "\n",
    "Output:\n",
    "* Integer representing sum of digits of input integer"
   ]
  },
  {
   "cell_type": "markdown",
   "id": "bb88290b-61e2-45a0-ad75-6acda9c7139d",
   "metadata": {},
   "source": [
    "## Examples/Test Cases\n",
    "\n",
    "```python \n",
    "print(sum_digits(23) == 5)              # True\n",
    "print(sum_digits(496) == 19)            # True\n",
    "print(sum_digits(123456789) == 45)      # True\n",
    "``` "
   ]
  },
  {
   "cell_type": "markdown",
   "id": "136622c0-4c11-485a-9cb1-2c68ee667615",
   "metadata": {},
   "source": [
    "## Data/Algorithm\n",
    "\n",
    "func: sum_digits: input_int\n",
    "* Set digits_list to empty list\n",
    "* Make loop while input_int is greater than zero:\n",
    "    * set num_to_add to modulo 10 of input_int\n",
    "    * Set input_int to 10 floor division\n",
    "* Return sum 0f digits_list "
   ]
  },
  {
   "cell_type": "code",
   "execution_count": 6,
   "id": "1d361981-97aa-48b5-96f4-bde727e2d9ab",
   "metadata": {},
   "outputs": [
    {
     "name": "stdout",
     "output_type": "stream",
     "text": [
      "True\n",
      "True\n",
      "True\n"
     ]
    }
   ],
   "source": [
    "def sum_digits(input_int):\n",
    "    digits_list = []\n",
    "\n",
    "    while input_int > 0:\n",
    "        num_to_add = input_int % 10\n",
    "        digits_list.append(num_to_add)\n",
    "\n",
    "        input_int = input_int // 10\n",
    "\n",
    "    return sum(digits_list)\n",
    "\n",
    "\n",
    "print(sum_digits(23) == 5)              # True\n",
    "print(sum_digits(496) == 19)            # True\n",
    "print(sum_digits(123456789) == 45)      # True"
   ]
  },
  {
   "cell_type": "code",
   "execution_count": 8,
   "id": "b4c3e42a-7e33-4d9c-8ee8-ec137313cf53",
   "metadata": {},
   "outputs": [
    {
     "name": "stdout",
     "output_type": "stream",
     "text": [
      "True\n",
      "True\n",
      "True\n"
     ]
    }
   ],
   "source": [
    "## Using list comprehension\n",
    "\n",
    "def sum_digits(input_int):\n",
    "    digits_list = [int(num) for num in str(input_int)]\n",
    "\n",
    "    return sum(digits_list)\n",
    "\n",
    "print(sum_digits(23) == 5)              # True\n",
    "print(sum_digits(496) == 19)            # True\n",
    "print(sum_digits(123456789) == 45)      # True"
   ]
  },
  {
   "cell_type": "markdown",
   "id": "e694281c-f7da-4684-9364-dad9e93f7cea",
   "metadata": {
    "jp-MarkdownHeadingCollapsed": true
   },
   "source": [
    "# **8. Staggered Case (Part 1)**\n",
    "\n",
    "Write a function that takes a string as an argument and returns that string with a staggered capitalization scheme. \n",
    "\n",
    "Every other character, starting from the first, should be capitalized and should be followed by a lowercase or non-alphabetic character. \n",
    "\n",
    "Non-alphabetic characters should not be changed, but should be counted as characters for determining when to switch between upper and lower case.\n"
   ]
  },
  {
   "cell_type": "markdown",
   "id": "6b257a2a-f6ca-4cee-a72c-a35ae515c4a3",
   "metadata": {},
   "source": [
    "## Input/Output\n",
    "\n",
    "Input:\n",
    "* String\n",
    "\n",
    "Output:\n",
    "* New string with letters following staggered capitalization scheme"
   ]
  },
  {
   "cell_type": "markdown",
   "id": "d208a280-6104-417c-9f0c-d2df847be006",
   "metadata": {},
   "source": [
    "## Implicit Requirements\n",
    "\n",
    "* Spaces and punctuation are counted when deciding what should be upper or lower case\n",
    "* Empty stringf as input reeturns empty string\n",
    "* First character of new string should be uppe rcase, and switch every character thereafter"
   ]
  },
  {
   "cell_type": "markdown",
   "id": "4cfeff33-42b8-4c5a-923b-782d7c138326",
   "metadata": {},
   "source": [
    "## Examples/Test Cases\n",
    "\n",
    "```python \n",
    "string = 'I Love Launch School!'\n",
    "result = \"I LoVe lAuNcH ScHoOl!\"\n",
    "print(staggered_case(string) == result)  # True\n",
    "\n",
    "string = 'ALL_CAPS'\n",
    "result = \"AlL_CaPs\"\n",
    "print(staggered_case(string) == result)  # True\n",
    "\n",
    "string = 'ignore 77 the 4444 numbers'\n",
    "result = \"IgNoRe 77 ThE 4444 nUmBeRs\"\n",
    "print(staggered_case(string) == result)  # True\n",
    "\n",
    "print(staggered_case('') == \"\")          # True\n",
    "```"
   ]
  },
  {
   "cell_type": "markdown",
   "id": "ddceddd8-d3d6-4ac5-a4fa-008180544a00",
   "metadata": {},
   "source": [
    "## Data/Algorithm\n",
    "\n",
    "func: staggered_case: input_string\n",
    "* Convert input_string to lowercase\n",
    "* Set output_string to empty string\n",
    "* Iterate over idx and char of input_string:\n",
    "    * If idx is even:\n",
    "        * add capitalized char to output_string\n",
    "    * Else add char to output_string\n",
    "* Return output_string"
   ]
  },
  {
   "cell_type": "code",
   "execution_count": 9,
   "id": "698219bd-c5f0-44e9-aefb-deb345794048",
   "metadata": {},
   "outputs": [
    {
     "name": "stdout",
     "output_type": "stream",
     "text": [
      "True\n",
      "True\n",
      "True\n",
      "True\n"
     ]
    }
   ],
   "source": [
    "def staggered_case(input_string):\n",
    "    input_string = input_string.lower()\n",
    "    output_string = \"\"\n",
    "\n",
    "    for idx, char in enumerate(input_string):\n",
    "        if idx % 2 == 0:\n",
    "            output_string += char.upper()\n",
    "        else:\n",
    "            output_string += char\n",
    "\n",
    "    return output_string\n",
    "\n",
    "\n",
    "string = 'I Love Launch School!'\n",
    "result = \"I LoVe lAuNcH ScHoOl!\"\n",
    "print(staggered_case(string) == result)  # True\n",
    "\n",
    "string = 'ALL_CAPS'\n",
    "result = \"AlL_CaPs\"\n",
    "print(staggered_case(string) == result)  # True\n",
    "\n",
    "string = 'ignore 77 the 4444 numbers'\n",
    "result = \"IgNoRe 77 ThE 4444 nUmBeRs\"\n",
    "print(staggered_case(string) == result)  # True\n",
    "\n",
    "print(staggered_case('') == \"\")          # True"
   ]
  },
  {
   "cell_type": "markdown",
   "id": "8245ad9e-46f9-4ccf-ae0d-936b811cf369",
   "metadata": {
    "jp-MarkdownHeadingCollapsed": true
   },
   "source": [
    "# **9. Staggered Case (Part 2)**\n",
    "\n",
    "Modify the function from the previous exercise so it ignores non-alphabetic characters when \n",
    "\n",
    "determining whether it should uppercase or lowercase each letter. \n",
    "\n",
    "The non-alphabetic characters should still be included in the return value; they just don't count when toggling the desired case."
   ]
  },
  {
   "cell_type": "markdown",
   "id": "882e1920-ef7b-4609-853e-f92351702831",
   "metadata": {},
   "source": [
    "## Input/Output\n",
    "\n",
    "Input:\n",
    "* String\n",
    "\n",
    "Output:\n",
    "* New string with staggered case but this time ignoring non-alphabetic characters"
   ]
  },
  {
   "cell_type": "markdown",
   "id": "a1af6c6f-aa73-4a83-ba1d-ff0fd37711b5",
   "metadata": {},
   "source": [
    "## Implicit Requirements\n",
    "\n",
    "\n",
    "N/A"
   ]
  },
  {
   "cell_type": "markdown",
   "id": "5aaf4027-4f25-4d45-b226-19e7059c18b9",
   "metadata": {},
   "source": [
    "## Examples/Test Cases\n",
    "\n",
    "```python \n",
    "string = 'I Love Launch School!'\n",
    "result = \"I lOvE lAuNcH sChOoL!\"\n",
    "print(staggered_case(string) == result)  # True\n",
    "\n",
    "string = 'ALL_CAPS'\n",
    "result = \"AlL_cApS\"\n",
    "print(staggered_case(string) == result)  # True\n",
    "\n",
    "string = 'ignore 77 the 4444 numbers'\n",
    "result = \"IgNoRe 77 ThE 4444 nUmBeRs\"\n",
    "print(staggered_case(string) == result)  # True\n",
    "\n",
    "print(staggered_case('') == \"\")          # True\n",
    "```"
   ]
  },
  {
   "cell_type": "markdown",
   "id": "72a48fc9-9e81-41c6-91ef-d20560ed6aba",
   "metadata": {},
   "source": [
    "## Data/Algorithm\n",
    "\n",
    "func: staggerred_case: input_string\n",
    "* Convert input_string to all  lower case\n",
    "* Set output_string to empty string\n",
    "* Set num_chars to -1\n",
    "* iterate over characters in input_string: char\n",
    "    * if char is alphabetic:\n",
    "        * increase num_chars by 1\n",
    "    * if num_chars % 2 == 0:\n",
    "        * Append char capitalized to output_string\n",
    "    * else:\n",
    "        * Append char to output_string\n",
    "* Return outpuyt_string "
   ]
  },
  {
   "cell_type": "code",
   "execution_count": 2,
   "id": "f5da3f29-5caa-4872-8429-841ced66223f",
   "metadata": {},
   "outputs": [
    {
     "name": "stdout",
     "output_type": "stream",
     "text": [
      "True\n",
      "True\n",
      "True\n",
      "True\n"
     ]
    }
   ],
   "source": [
    "def staggered_case(input_string):\n",
    "    input_string = input_string.lower()\n",
    "    output_string = \"\"\n",
    "    num_chars = -1\n",
    "\n",
    "    for char in input_string:\n",
    "        if char.isalpha():\n",
    "            num_chars += 1\n",
    "\n",
    "        if num_chars % 2 == 0:\n",
    "            output_string += char.upper()\n",
    "        else:\n",
    "            output_string += char\n",
    "\n",
    "    return output_string\n",
    "\n",
    "\n",
    "string = 'I Love Launch School!'\n",
    "result = \"I lOvE lAuNcH sChOoL!\"\n",
    "print(staggered_case(string) == result)  # True\n",
    "\n",
    "string = 'ALL_CAPS'\n",
    "result = \"AlL_cApS\"\n",
    "print(staggered_case(string) == result)  # True\n",
    "\n",
    "string = 'ignore 77 the 4444 numbers'\n",
    "result = \"IgNoRe 77 ThE 4444 nUmBeRs\"\n",
    "print(staggered_case(string) == result)  # True\n",
    "\n",
    "print(staggered_case('') == \"\")          # True"
   ]
  },
  {
   "cell_type": "markdown",
   "id": "2b1aa685-c1bc-4feb-9cba-f2650d6fa8a6",
   "metadata": {},
   "source": [
    "# **10. Remove Consecutive Duplicates**\n",
    "\n",
    "Given a sequence of integers, filter out instances where the same value occurs successively, retaining only the initial occurrence. Return the refined sequence."
   ]
  },
  {
   "cell_type": "markdown",
   "id": "c45862ae-1e7d-48e0-b405-85476fcf40fd",
   "metadata": {},
   "source": [
    "## Input/Output\n",
    "\n",
    "Input:\n",
    "* List containing only integers\n",
    "\n",
    "Output:\n",
    "* List containing same integers, except with consecutive duplicates removed"
   ]
  },
  {
   "cell_type": "markdown",
   "id": "120d05de-abe5-4f5f-b3a5-b1562b764400",
   "metadata": {},
   "source": [
    "## Implicit Requirements\n",
    "\n",
    "\n",
    "* Produce new list instead of mutating input"
   ]
  },
  {
   "cell_type": "markdown",
   "id": "ce5a61a5-3e79-4bf5-8e61-1a7f760e2be4",
   "metadata": {},
   "source": [
    "## Examples/Test Cases \n",
    "\n",
    "```python \n",
    "original = [1, 1, 2, 6, 6, 6, 5, 5, 3, 3, 3, 4]\n",
    "expected = [1, 2, 6, 5, 3, 4]\n",
    "print(unique_sequence(original) == expected)      # True\n",
    "\n",
    "# Non-consecutive duplicates are kept\n",
    "original = [1, 2, 1, 3]\n",
    "expected = [1, 2, 1, 3]\n",
    "print(unique_sequence(original) == expected)      # True\n",
    "``` "
   ]
  },
  {
   "cell_type": "markdown",
   "id": "21f50950-373c-4390-8a53-00f3d06d562d",
   "metadata": {},
   "source": [
    "## Data/Algorithm\n",
    "\n",
    "\n",
    "func: unique_sequence: input_list\n",
    "* UUse comprehension to create a list #### DIDn't have to, used set conversion instead"
   ]
  },
  {
   "cell_type": "code",
   "execution_count": 13,
   "id": "2c6e2a96-4eb6-486f-bb62-87d065302cf3",
   "metadata": {},
   "outputs": [
    {
     "name": "stdout",
     "output_type": "stream",
     "text": [
      "True\n",
      "True\n"
     ]
    }
   ],
   "source": [
    "def unique_sequence(input_list):\n",
    "    new_list = [num for idx, num in enumerate(input_list) \n",
    "                if (input_list[idx] != input_list[idx - 1])]\n",
    "    return new_list\n",
    "\n",
    "original = [1, 1, 2, 6, 6, 6, 5, 5, 3, 3, 3, 4]\n",
    "expected = [1, 2, 6, 5, 3, 4]\n",
    "print(unique_sequence(original) == expected)      # True\n",
    "\n",
    "# Non-consecutive duplicates are kept\n",
    "original = [1, 2, 1, 3]\n",
    "expected = [1, 2, 1, 3]\n",
    "print(unique_sequence(original) == expected)      # True"
   ]
  },
  {
   "cell_type": "code",
   "execution_count": null,
   "id": "7f705f98-78cd-46de-b16a-a21b52a47ac6",
   "metadata": {},
   "outputs": [],
   "source": []
  }
 ],
 "metadata": {
  "kernelspec": {
   "display_name": "Python 3 (ipykernel)",
   "language": "python",
   "name": "python3"
  },
  "language_info": {
   "codemirror_mode": {
    "name": "ipython",
    "version": 3
   },
   "file_extension": ".py",
   "mimetype": "text/x-python",
   "name": "python",
   "nbconvert_exporter": "python",
   "pygments_lexer": "ipython3",
   "version": "3.12.3"
  }
 },
 "nbformat": 4,
 "nbformat_minor": 5
}
