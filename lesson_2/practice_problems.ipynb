{
 "cells": [
  {
   "cell_type": "markdown",
   "id": "55ae6bd3-6d72-4c76-8916-0e431e62fc74",
   "metadata": {
    "jp-MarkdownHeadingCollapsed": true
   },
   "source": [
    "# **Practice Problems: Sorting**\n",
    "\n"
   ]
  },
  {
   "cell_type": "markdown",
   "id": "61f97994-7fd1-487b-9ed5-b7f363a9b750",
   "metadata": {},
   "source": [
    "## Practice Problem 1\n",
    "\n",
    "Sort the following list of numbers first in ascending numeric order, then in descending numeric order. Do not mutate the list."
   ]
  },
  {
   "cell_type": "code",
   "execution_count": 3,
   "id": "7729e3d9-430d-4da0-a2e1-b41e29421001",
   "metadata": {},
   "outputs": [
    {
     "name": "stdout",
     "output_type": "stream",
     "text": [
      "[-16, -6, 7, 8, 9, 10, 11, 50]\n",
      "[50, 11, 10, 9, 8, 7, -6, -16]\n"
     ]
    }
   ],
   "source": [
    "lst = [10, 9, -6, 11, 7, -16, 50, 8]\n",
    "\n",
    "lst_ascending = sorted(lst)\n",
    "lst_descending = sorted(lst, reverse=True)\n",
    "\n",
    "print(lst_ascending)\n",
    "print(lst_descending)"
   ]
  },
  {
   "cell_type": "markdown",
   "id": "0ceb31aa-4303-4d60-bece-dc451c62afcf",
   "metadata": {},
   "source": [
    "## Practice Probem 2\n",
    "\n",
    "Repeat the previous exercise but, this time, perform the sort by mutating the original list."
   ]
  },
  {
   "cell_type": "code",
   "execution_count": 5,
   "id": "0841176a-4715-45be-b49c-ea9c971f10bb",
   "metadata": {},
   "outputs": [
    {
     "name": "stdout",
     "output_type": "stream",
     "text": [
      "[-16, -6, 7, 8, 9, 10, 11, 50]\n",
      "[50, 11, 10, 9, 8, 7, -6, -16]\n"
     ]
    }
   ],
   "source": [
    "lst = [10, 9, -6, 11, 7, -16, 50, 8]\n",
    "\n",
    "lst.sort()\n",
    "print(lst) \n",
    "\n",
    "lst.sort(reverse=True)\n",
    "print(lst)"
   ]
  },
  {
   "cell_type": "markdown",
   "id": "e4267224-6e94-4848-bec2-e8989562dd8a",
   "metadata": {},
   "source": [
    "## Practice Problem 3\n",
    "\n",
    "\n",
    "\n",
    "Repeat problem 2 but, this time, sort the list as string values. \n",
    "\n",
    "Both the list passed to the sorting function and the returned list should contain numbers, not strings."
   ]
  },
  {
   "cell_type": "code",
   "execution_count": 7,
   "id": "5cde41bc-8448-4e46-a39e-16f5a1436a0b",
   "metadata": {},
   "outputs": [
    {
     "name": "stdout",
     "output_type": "stream",
     "text": [
      "[-16, -6, 10, 11, 50, 7, 8, 9]\n",
      "[9, 8, 7, 50, 11, 10, -6, -16]\n"
     ]
    }
   ],
   "source": [
    "lst = [10, 9, -6, 11, 7, -16, 50, 8]\n",
    "lst.sort(key=str)\n",
    "print(lst)\n",
    "\n",
    "lst.sort(reverse=True, key=str)\n",
    "print(lst)"
   ]
  },
  {
   "cell_type": "markdown",
   "id": "b4d3b129-7475-4bef-8f6e-1facd12a0e2e",
   "metadata": {},
   "source": [
    "## Practice Problem 4\n",
    "\n",
    "How would you sort the following list of dictionaries based on the year of publication of each book, from the earliest to the most recent?"
   ]
  },
  {
   "cell_type": "code",
   "execution_count": 8,
   "id": "e31c0e95-f27b-4002-8702-78e0f1fb91e4",
   "metadata": {},
   "outputs": [
    {
     "name": "stdout",
     "output_type": "stream",
     "text": [
      "[{'title': 'The Book of Kells', 'author': 'Multiple Authors', 'published': '800'}, {'title': 'War and Peace', 'author': 'Leo Tolstoy', 'published': '1869'}, {'title': 'One Hundred Years of Solitude', 'author': 'Gabriel Garcia Marquez', 'published': '1967'}]\n"
     ]
    }
   ],
   "source": [
    "books = [\n",
    "    {\n",
    "        'title': 'One Hundred Years of Solitude',\n",
    "        'author': 'Gabriel Garcia Marquez',\n",
    "        'published': '1967',\n",
    "    },\n",
    "    {\n",
    "        'title': 'The Book of Kells',\n",
    "        'author': 'Multiple Authors',\n",
    "        'published': '800',\n",
    "    },\n",
    "    {\n",
    "        'title': 'War and Peace',\n",
    "        'author': 'Leo Tolstoy',\n",
    "        'published': '1869',\n",
    "    },\n",
    "]\n",
    "\n",
    "def get_year_as_int(input_dict):\n",
    "    return int(input_dict[\"published\"])\n",
    "\n",
    "books_sorted = sorted(books, key=get_year_as_int)\n",
    "print(books_sorted)"
   ]
  },
  {
   "cell_type": "markdown",
   "id": "6cb55053-bdb0-4445-9df7-91b51b8281a2",
   "metadata": {
    "jp-MarkdownHeadingCollapsed": true
   },
   "source": [
    "# **Practice Problems: Nested Data Structures**"
   ]
  },
  {
   "cell_type": "markdown",
   "id": "3fc0cae9-27f6-4c69-80db-1d24755d6b05",
   "metadata": {},
   "source": [
    "## Practice Problem 1\n",
    "\n",
    "For each object shown below, demonstrate how you would access the letter g."
   ]
  },
  {
   "cell_type": "code",
   "execution_count": 26,
   "id": "5292101c-5366-47a9-85a0-24d4a5a7bc89",
   "metadata": {},
   "outputs": [
    {
     "name": "stdout",
     "output_type": "stream",
     "text": [
      "g\n",
      "g\n",
      "g\n",
      "g\n",
      "g\n"
     ]
    }
   ],
   "source": [
    "lst1 = ['a', 'b', ['c', ['d', 'e', 'f', 'g']]]\n",
    "print(lst1[2][1][3])\n",
    "\n",
    "lst2 = [\n",
    "    {\n",
    "        'first': ['a', 'b', 'c'],\n",
    "        'second': ['d', 'e', 'f']\n",
    "    },\n",
    "    {\n",
    "        'third': ['g', 'h', 'i']\n",
    "    }\n",
    "]\n",
    "print(lst2[1]['third'][0])\n",
    "\n",
    "\n",
    "lst3 = [['abc'], ['def'], {'third': ['ghi']}]\n",
    "\n",
    "print(lst3[2][\"third\"][0][0])\n",
    "\n",
    "\n",
    "\n",
    "\n",
    "dict1 = {'a': ['d', 'e'], 'b': ['f', 'g'], 'c': ['h', 'i']}\n",
    "\n",
    "print(dict1[\"b\"][1])\n",
    "\n",
    "\n",
    "\n",
    "dict2 = {'1st': {'d': 3}, '2nd': {'e': 2, 'f': 1}, '3rd': {'g': 0}}\n",
    "\n",
    "print(list(dict2[\"3rd\"].keys())[0])"
   ]
  },
  {
   "cell_type": "markdown",
   "id": "379454f2-e37b-4f12-a223-b911170e93aa",
   "metadata": {},
   "source": [
    "## Practice Problem 2\n",
    "\n",
    "For each of these collection objects, demonstrate how you would change the value 3 to 4.\n"
   ]
  },
  {
   "cell_type": "code",
   "execution_count": 30,
   "id": "932efe58-81e7-43b7-a5bd-65650816d696",
   "metadata": {},
   "outputs": [
    {
     "name": "stdout",
     "output_type": "stream",
     "text": [
      "[1, [2, 4], 4]\n",
      "[{'a': 1}, {'b': 2, 'c': [7, 6, 5], 'd': 4}, 4]\n",
      "{'first': [1, 2, [4]]}\n",
      "{'a': {'a': ['1', 'two', 4], 'b': 4}, 'b': 5}\n"
     ]
    }
   ],
   "source": [
    "lst1 = [1, [2, 3], 4]\n",
    "lst1[1][1] = 4\n",
    "print(lst1)\n",
    "\n",
    "\n",
    "lst2 = [{'a': 1}, {'b': 2, 'c': [7, 6, 5], 'd': 4}, 3]\n",
    "\n",
    "lst2[2] = 4\n",
    "\n",
    "print(lst2)\n",
    "\n",
    "\n",
    "\n",
    "dict1 = {'first': [1, 2, [3]]}\n",
    "dict1[\"first\"][2][0] = 4\n",
    "\n",
    "print(dict1)\n",
    "\n",
    "\n",
    "\n",
    "dict2 = {'a': {'a': ['1', 'two', 3], 'b': 4}, 'b': 5}\n",
    "\n",
    "dict2[\"a\"][\"a\"][2] = 4\n",
    "\n",
    "print(dict2) \n",
    "\n"
   ]
  },
  {
   "cell_type": "markdown",
   "id": "339e34af-5090-47b9-bd7a-86776356d139",
   "metadata": {},
   "source": [
    "## Practice Problem 3\n",
    "\n",
    "Given the following code, what will the final values of a and b be? Try to answer without running the code.\n"
   ]
  },
  {
   "cell_type": "code",
   "execution_count": 31,
   "id": "941fc336-76fc-4162-aed7-d0615adb97a0",
   "metadata": {},
   "outputs": [
    {
     "name": "stdout",
     "output_type": "stream",
     "text": [
      "2 [3, 8]\n"
     ]
    }
   ],
   "source": [
    "a = 2\n",
    "b = [5, 8]\n",
    "lst = [a, b]\n",
    "\n",
    "lst[0] += 2   \n",
    "lst[1][0] -= a\n",
    "\n",
    "# a = 2\n",
    "# b = [3, 8]\n",
    "\n",
    "print(a, b)"
   ]
  },
  {
   "cell_type": "markdown",
   "id": "0168ddc5-8887-4f91-aac3-9c96f34e51c6",
   "metadata": {},
   "source": [
    "## Practice Problem 4\n",
    "\n",
    "\n",
    "\n",
    "Given the object shown below, print the name, age, and gender of each family member:\n",
    "\n",
    "Each output line should follow this pattern:\n",
    "\n",
    "```\n",
    "(name) is a (age)-year-old (male or female).\n",
    "```\n",
    "\n",
    "Expected Output:\n",
    "```\n",
    "Herman is a 32-year-old male.\n",
    "Lily is a 30-year-old female.\n",
    "Grandpa is a 402-year-old male.\n",
    "Eddie is a 10-year-old male.\n",
    "Marilyn is a 23-year-old female.\n",
    "```"
   ]
  },
  {
   "cell_type": "code",
   "execution_count": 32,
   "id": "0a99fae5-0fd9-497e-aeb7-1de761f38747",
   "metadata": {},
   "outputs": [
    {
     "name": "stdout",
     "output_type": "stream",
     "text": [
      "Herman is a 32 year old male\n",
      "Lily is a 30 year old female\n",
      "Grandpa is a 402 year old male\n",
      "Eddie is a 10 year old male\n",
      "Marilyn is a 23 year old female\n"
     ]
    }
   ],
   "source": [
    "munsters = {\n",
    "    'Herman':  {'age': 32,  'gender': 'male'},\n",
    "    'Lily':    {'age': 30,  'gender': 'female'},\n",
    "    'Grandpa': {'age': 402, 'gender': 'male'},\n",
    "    'Eddie':   {'age': 10,  'gender': 'male'},\n",
    "    'Marilyn': {'age': 23,  'gender': 'female'},\n",
    "}\n",
    "\n",
    "for name_key in munsters:\n",
    "    inner_dict = munsters[name_key]\n",
    "    age = inner_dict[\"age\"]\n",
    "    gender = inner_dict[\"gender\"]\n",
    "\n",
    "    print(f\"{name_key} is a {age} year old {gender}\")\n",
    "    "
   ]
  },
  {
   "cell_type": "markdown",
   "id": "6b258d5d-eff7-4732-a15c-a3e968bfd8c2",
   "metadata": {},
   "source": [
    "# **Practice Problems: Comprehensions**\n",
    "\n"
   ]
  },
  {
   "cell_type": "markdown",
   "id": "26e5f603-ca25-41df-a893-af74fe3a09f8",
   "metadata": {
    "jp-MarkdownHeadingCollapsed": true
   },
   "source": [
    "## Practice Problem 1\n",
    "\n",
    "Consider the following nested dictionary:\n",
    "\n",
    "```python \n",
    "munsters = {\n",
    "    'Herman':  {'age': 32,  'gender': 'male'},\n",
    "    'Lily':    {'age': 30,  'gender': 'female'},\n",
    "    'Grandpa': {'age': 402, 'gender': 'male'},\n",
    "    'Eddie':   {'age': 10,  'gender': 'male'},\n",
    "    'Marilyn': {'age': 23,  'gender': 'female'},\n",
    "}\n",
    "```\n",
    "\n",
    "Compute and display the total age of the family's male members. \n",
    "\n",
    "Try working out the answer two ways: first with an ordinary loop, then with a comprehension. \n",
    "\n",
    "Compute and display the total age of the family's male members. \n",
    "\n",
    "Try working out the answer two ways: first with an ordinary loop, then with a comprehension."
   ]
  },
  {
   "cell_type": "code",
   "execution_count": 37,
   "id": "9f15cf6f-b6f2-4b13-9583-afb99b5cb340",
   "metadata": {},
   "outputs": [
    {
     "name": "stdout",
     "output_type": "stream",
     "text": [
      "444\n"
     ]
    }
   ],
   "source": [
    "# With for loop\n",
    "\n",
    "munsters = {\n",
    "    'Herman':  {'age': 32,  'gender': 'male'},\n",
    "    'Lily':    {'age': 30,  'gender': 'female'},\n",
    "    'Grandpa': {'age': 402, 'gender': 'male'},\n",
    "    'Eddie':   {'age': 10,  'gender': 'male'},\n",
    "    'Marilyn': {'age': 23,  'gender': 'female'},\n",
    "}\n",
    "\n",
    "total_age = 0\n",
    "\n",
    "for person in munsters:\n",
    "    person_info = munsters[person]\n",
    "\n",
    "    if person_info[\"gender\"] == \"male\":\n",
    "        total_age += person_info[\"age\"]\n",
    "\n",
    "print(total_age)"
   ]
  },
  {
   "cell_type": "code",
   "execution_count": 42,
   "id": "a21b3653-e44e-408d-8db9-3befce1b1544",
   "metadata": {},
   "outputs": [
    {
     "name": "stdout",
     "output_type": "stream",
     "text": [
      "444\n"
     ]
    }
   ],
   "source": [
    "## With comprehension\n",
    "\n",
    "munsters = {\n",
    "    'Herman':  {'age': 32,  'gender': 'male'},\n",
    "    'Lily':    {'age': 30,  'gender': 'female'},\n",
    "    'Grandpa': {'age': 402, 'gender': 'male'},\n",
    "    'Eddie':   {'age': 10,  'gender': 'male'},\n",
    "    'Marilyn': {'age': 23,  'gender': 'female'},\n",
    "}\n",
    "\n",
    "male_ages = [munsters[person][\"age\"] for person in munsters if munsters[person][\"gender\"] == \"male\"]\n",
    "\n",
    "print(sum(male_ages))"
   ]
  },
  {
   "cell_type": "code",
   "execution_count": 47,
   "id": "d034de22-b7fd-41fc-a89b-a7a8eb4a0d4f",
   "metadata": {},
   "outputs": [
    {
     "name": "stdout",
     "output_type": "stream",
     "text": [
      "444\n"
     ]
    }
   ],
   "source": [
    "munsters = {\n",
    "    'Herman':  {'age': 32,  'gender': 'male'},\n",
    "    'Lily':    {'age': 30,  'gender': 'female'},\n",
    "    'Grandpa': {'age': 402, 'gender': 'male'},\n",
    "    'Eddie':   {'age': 10,  'gender': 'male'},\n",
    "    'Marilyn': {'age': 23,  'gender': 'female'},\n",
    "}\n",
    "\n",
    "male_ages = [member[\"age\"] for member in munsters.values() if member[\"gender\"] == \"male\"]\n",
    "print(sum(male_ages))"
   ]
  },
  {
   "cell_type": "markdown",
   "id": "89cd113a-3b95-4e67-8dc9-3b4d0612b293",
   "metadata": {
    "jp-MarkdownHeadingCollapsed": true
   },
   "source": [
    "## Practice Problem 2\n",
    "\n",
    "Given the following data structure, return a new list with the same structure, \n",
    "\n",
    "but with the values in each sublist ordered in ascending order. \n",
    "\n",
    "Use a comprehension if you can. (Try using a for loop first.)\n",
    "\n",
    "```python \n",
    "lst = [['b', 'c', 'a'], [2, 11, -3], ['blue', 'black', 'green']]\n",
    "```\n",
    "\n",
    "```python \n",
    "## expected\n",
    "[['a', 'b', 'c'], [-3, 2, 11], ['black', 'blue', 'green']]\n",
    "```"
   ]
  },
  {
   "cell_type": "code",
   "execution_count": 48,
   "id": "7acddb2a-8fa0-44a7-8544-ddf69ced7e86",
   "metadata": {},
   "outputs": [
    {
     "name": "stdout",
     "output_type": "stream",
     "text": [
      "[['a', 'b', 'c'], [-3, 2, 11], ['black', 'blue', 'green']]\n"
     ]
    }
   ],
   "source": [
    "## For loop\n",
    "\n",
    "lst = [['b', 'c', 'a'], [2, 11, -3], ['blue', 'black', 'green']]\n",
    "\n",
    "new_list = []\n",
    "\n",
    "for sub_list in lst:\n",
    "    sorted_sub_list = sorted(sub_list)\n",
    "    new_list.append(sorted_sub_list)\n",
    "\n",
    "print(new_list)"
   ]
  },
  {
   "cell_type": "code",
   "execution_count": 49,
   "id": "2e63b202-a6e5-4be5-b9c6-fb2be7e5f50f",
   "metadata": {},
   "outputs": [
    {
     "name": "stdout",
     "output_type": "stream",
     "text": [
      "[['a', 'b', 'c'], [-3, 2, 11], ['black', 'blue', 'green']]\n"
     ]
    }
   ],
   "source": [
    "## With comprehension\n",
    "\n",
    "lst = [['b', 'c', 'a'], [2, 11, -3], ['blue', 'black', 'green']]\n",
    "\n",
    "new_lst = [sorted(sub_list) for sub_list in lst]\n",
    "\n",
    "print(new_lst)"
   ]
  },
  {
   "cell_type": "markdown",
   "id": "e04899c1-97de-4d2d-832e-04fb714180c0",
   "metadata": {
    "jp-MarkdownHeadingCollapsed": true
   },
   "source": [
    "## Practice Problem 3\n",
    "\n",
    "Given the following data structure, return a new list with the same structure, \n",
    "\n",
    "but with the values in each sublist ordered in ascending order as strings \n",
    "\n",
    "that is, the numbers should be treated as strings). \n",
    "\n",
    "Use a comprehension if you can. (Try using a for loop first.)\n",
    "\n",
    "```python \n",
    "lst = [['b', 'c', 'a'], [2, 11, -3], ['blue', 'black', 'green']]\n",
    "```\n",
    "\n",
    "```python \n",
    "## expected\n",
    "[['a', 'b', 'c'], [-3, 11, 2], ['black', 'blue', 'green']]\n",
    "```"
   ]
  },
  {
   "cell_type": "code",
   "execution_count": 50,
   "id": "ad695b78-debe-452b-9e41-4f0204551c69",
   "metadata": {},
   "outputs": [
    {
     "name": "stdout",
     "output_type": "stream",
     "text": [
      "[['a', 'b', 'c'], [-3, 11, 2], ['black', 'blue', 'green']]\n"
     ]
    }
   ],
   "source": [
    "## Using for loop \n",
    "\n",
    "lst = [['b', 'c', 'a'], [2, 11, -3], ['blue', 'black', 'green']]\n",
    "\n",
    "new_lst = []\n",
    "\n",
    "for sub_list in lst:\n",
    "    sorted_sub_list = sorted(sub_list, key=str)\n",
    "\n",
    "    new_lst.append(sorted_sub_list)\n",
    "\n",
    "print(new_lst)"
   ]
  },
  {
   "cell_type": "code",
   "execution_count": 51,
   "id": "8337425a-7376-472e-9027-78d038c73bdb",
   "metadata": {},
   "outputs": [
    {
     "name": "stdout",
     "output_type": "stream",
     "text": [
      "[['a', 'b', 'c'], [-3, 11, 2], ['black', 'blue', 'green']]\n"
     ]
    }
   ],
   "source": [
    "## Using compehension\n",
    "\n",
    "lst = [['b', 'c', 'a'], [2, 11, -3], ['blue', 'black', 'green']]\n",
    "\n",
    "new_lst = [sorted(sub_list, key=str) for sub_list in lst]\n",
    "\n",
    "print(new_lst)"
   ]
  },
  {
   "cell_type": "markdown",
   "id": "1b63f042-c234-4593-8a16-85a74e0ded0d",
   "metadata": {
    "jp-MarkdownHeadingCollapsed": true
   },
   "source": [
    "## Practice Problem 4\n",
    "\n",
    "Given the following data structure, write some code that uses comprehensions to define a dictionary \n",
    "\n",
    "where the key is the first item in each sublist, and the value is the second.\n",
    "\n",
    "```python \n",
    "lst = [\n",
    "    ['a', 1],\n",
    "    ['b', 'two'],\n",
    "    ['sea', {'c': 3}],\n",
    "    ['D', ['a', 'b', 'c']]\n",
    "]\n",
    "```\n",
    "\n",
    "\n",
    "```python \n",
    "## expected\n",
    "# Pretty printed for clarity\n",
    "{\n",
    "    'a': 1,\n",
    "    'b': 'two',\n",
    "    'sea': {'c': 3},\n",
    "    'D': ['a', 'b', 'c']\n",
    "}\n",
    "```"
   ]
  },
  {
   "cell_type": "code",
   "execution_count": 52,
   "id": "64363ac0-aeda-4b07-96a1-28583865b1cf",
   "metadata": {},
   "outputs": [
    {
     "name": "stdout",
     "output_type": "stream",
     "text": [
      "{'a': 1, 'b': 'two', 'sea': {'c': 3}, 'D': ['a', 'b', 'c']}\n"
     ]
    }
   ],
   "source": [
    "lst = [\n",
    "    ['a', 1],\n",
    "    ['b', 'two'],\n",
    "    ['sea', {'c': 3}],\n",
    "    ['D', ['a', 'b', 'c']]\n",
    "]\n",
    "\n",
    "new_dict = {key: val for key, val in lst}\n",
    "\n",
    "print(new_dict)"
   ]
  },
  {
   "cell_type": "code",
   "execution_count": 53,
   "id": "af373354-9ead-42a8-a5a0-cac1ca9a1c2c",
   "metadata": {},
   "outputs": [
    {
     "name": "stdout",
     "output_type": "stream",
     "text": [
      "{'a': 1, 'b': 'two', 'sea': {'c': 3}, 'D': ['a', 'b', 'c']}\n"
     ]
    }
   ],
   "source": [
    "## Alternate method \n",
    "\n",
    "lst = [\n",
    "    ['a', 1],\n",
    "    ['b', 'two'],\n",
    "    ['sea', {'c': 3}],\n",
    "    ['D', ['a', 'b', 'c']]\n",
    "]\n",
    "\n",
    "\n",
    "new_dict = {elem[0]: elem[1] for elem in lst}\n",
    "\n",
    "print(new_dict)"
   ]
  },
  {
   "cell_type": "code",
   "execution_count": 54,
   "id": "42f3e146-56f6-4f05-8033-5fe385b65fb9",
   "metadata": {},
   "outputs": [
    {
     "name": "stdout",
     "output_type": "stream",
     "text": [
      "{'a': 1, 'b': 'two', 'sea': {'c': 3}, 'D': ['a', 'b', 'c']}\n"
     ]
    }
   ],
   "source": [
    "## Alternate with dict constructor\n",
    "\n",
    "lst = [\n",
    "    ['a', 1],\n",
    "    ['b', 'two'],\n",
    "    ['sea', {'c': 3}],\n",
    "    ['D', ['a', 'b', 'c']]\n",
    "]\n",
    "\n",
    "new_dict = dict(lst)\n",
    "print(new_dict)"
   ]
  },
  {
   "cell_type": "markdown",
   "id": "5228adff-5980-42dc-92ea-c460994a3bb1",
   "metadata": {
    "jp-MarkdownHeadingCollapsed": true
   },
   "source": [
    "## Practice Problem 5\n",
    "\n",
    "Given the following data structure, sort the list so that the sub-lists are ordered based on the sum of the odd numbers that they contain.\n",
    "\n",
    "You shouldn't mutate the original list.\n",
    "\n",
    "```python \n",
    "lst = [[1, 6, 7], [1, 5, 3], [1, 8, 3]]\n",
    "```\n",
    "\n",
    "Note that the first sublist has the odd numbers 1 and 7; the second sublist has odd numbers 1, 5, and 3; \n",
    "\n",
    "and the third sublist has 1 and 3. Since (1 + 3) < (1 + 7) < (1 + 5 + 3), the sorted list should look like this:\n",
    "\n",
    "```python\n",
    "## expected\n",
    "[[1, 8, 3], [1, 6, 7], [1, 5, 3]]\n",
    "```"
   ]
  },
  {
   "cell_type": "code",
   "execution_count": 56,
   "id": "95a51fd2-7f7f-41a6-aeed-f8259fc77e97",
   "metadata": {},
   "outputs": [
    {
     "name": "stdout",
     "output_type": "stream",
     "text": [
      "[[1, 8, 3], [1, 6, 7], [1, 5, 3]]\n"
     ]
    }
   ],
   "source": [
    "lst = [[1, 6, 7], [1, 5, 3], [1, 8, 3]]\n",
    "\n",
    "def odd_nums_sum(input_lst):\n",
    "    return sum([num for num in input_lst if num % 2 != 0])\n",
    "\n",
    "sorted_lst = sorted(lst, key=odd_nums_sum)\n",
    "\n",
    "print(sorted_lst)"
   ]
  },
  {
   "cell_type": "markdown",
   "id": "e56b15bf-9e6c-4a3f-a75a-42e9854f4070",
   "metadata": {
    "jp-MarkdownHeadingCollapsed": true
   },
   "source": [
    "## Practice Problem 6\n",
    "\n",
    "Given the following data structure, return a new list identical in structure to the original but, with each number incremented by 1. \n",
    "\n",
    "Do not modify the original data structure. Use a comprehension.\n",
    "\n",
    "\n",
    "```python \n",
    "lst = [{'a': 1}, {'b': 2, 'c': 3}, {'d': 4, 'e': 5, 'f': 6}]\n",
    "```\n",
    "\n",
    "```python \n",
    "## expected\n",
    "[{'a': 2}, {'b': 3, 'c': 4}, {'d': 5, 'e': 6, 'f': 7}]\n",
    "```"
   ]
  },
  {
   "cell_type": "code",
   "execution_count": 58,
   "id": "2c44ed00-7423-45f8-8417-28b55dfba1a2",
   "metadata": {},
   "outputs": [
    {
     "name": "stdout",
     "output_type": "stream",
     "text": [
      "[{'a': 2}, {'b': 3, 'c': 4}, {'d': 5, 'e': 6, 'f': 7}]\n"
     ]
    }
   ],
   "source": [
    "lst = [{'a': 1}, {'b': 2, 'c': 3}, {'d': 4, 'e': 5, 'f': 6}]\n",
    "\n",
    "def increment_values(input_dict):\n",
    "    return {key: val + 1 for key, val in input_dict.items()}\n",
    "\n",
    "new_lst = [increment_values(input_dict) for input_dict in lst]\n",
    "\n",
    "print(new_lst)"
   ]
  },
  {
   "cell_type": "code",
   "execution_count": 65,
   "id": "43d369f7-682d-4000-a0fa-4ce0f692fdb9",
   "metadata": {},
   "outputs": [
    {
     "name": "stdout",
     "output_type": "stream",
     "text": [
      "[{'a': 2}, {'b': 3, 'c': 4}, {'d': 5, 'e': 6, 'f': 7}]\n"
     ]
    }
   ],
   "source": [
    "## Alternate combined answer\n",
    "\n",
    "lst = [{'a': 1}, {'b': 2, 'c': 3}, {'d': 4, 'e': 5, 'f': 6}]\n",
    "\n",
    "\n",
    "new_lst = [{key: val + 1 for key, val in inner_dict.items()}\n",
    "                         for inner_dict in lst]\n",
    "\n",
    "print(new_lst)"
   ]
  },
  {
   "cell_type": "markdown",
   "id": "fbbae891-a26d-4c9e-8480-cc76494dd62c",
   "metadata": {
    "jp-MarkdownHeadingCollapsed": true
   },
   "source": [
    "## Practice Problem 7\n",
    "\n",
    "Given the following data structure return a new list identical in structure to the original, \n",
    "\n",
    "but containing only the numbers that are multiples of 3.\n",
    "\n",
    "```python \n",
    "lst = [[2], [3, 5, 7, 12], [9], [11, 15, 18]]\n",
    "```\n",
    "\n",
    "```python \n",
    "## expected\n",
    "[[], [3, 12], [9], [15, 18]]\n",
    "```"
   ]
  },
  {
   "cell_type": "code",
   "execution_count": 69,
   "id": "361040fb-6265-449c-9e69-b7e9d86f6990",
   "metadata": {},
   "outputs": [
    {
     "name": "stdout",
     "output_type": "stream",
     "text": [
      "[[], [3, 12], [9], [15, 18]]\n"
     ]
    }
   ],
   "source": [
    "## Without comprehension\n",
    "\n",
    "lst = [[2], [3, 5, 7, 12], [9], [11, 15, 18]]\n",
    "\n",
    "new_lst = []\n",
    "\n",
    "for inner_lst in lst:\n",
    "    new_inner = [] \n",
    "\n",
    "    for elem in inner_lst:\n",
    "        if elem % 3 == 0:\n",
    "            new_inner.append(elem)\n",
    "    new_lst.append(new_inner)\n",
    "\n",
    "print(new_lst)"
   ]
  },
  {
   "cell_type": "code",
   "execution_count": 70,
   "id": "5a2f9896-1644-4172-a3e6-6998a2ad300c",
   "metadata": {},
   "outputs": [
    {
     "name": "stdout",
     "output_type": "stream",
     "text": [
      "[[], [3, 12], [9], [15, 18]]\n"
     ]
    }
   ],
   "source": [
    "## With comprehension\n",
    "\n",
    "lst = [[2], [3, 5, 7, 12], [9], [11, 15, 18]]\n",
    "\n",
    "new_lst = []\n",
    "\n",
    "for inner_lst in lst:\n",
    "    new_inner = [num for num in inner_lst if num % 3 == 0]\n",
    "    new_lst.append(new_inner)\n",
    "\n",
    "print(new_lst)"
   ]
  },
  {
   "cell_type": "code",
   "execution_count": 72,
   "id": "8f337ff3-5848-41a0-a8c0-c8cd0957d6c4",
   "metadata": {},
   "outputs": [
    {
     "name": "stdout",
     "output_type": "stream",
     "text": [
      "[[], [3, 12], [9], [15, 18]]\n"
     ]
    }
   ],
   "source": [
    "## Alternate\n",
    "\n",
    "def divisible_by_3(input_lst):\n",
    "    return [elem for elem in input_lst if elem % 3 == 0]\n",
    "\n",
    "lst = [[2], [3, 5, 7, 12], [9], [11, 15, 18]]\n",
    "\n",
    "new_lst = [divisible_by_3(elem) for elem in lst]\n",
    "\n",
    "print(new_lst)"
   ]
  },
  {
   "cell_type": "code",
   "execution_count": 74,
   "id": "76f63b4f-7604-43e2-a0c8-c7f57d77dd5d",
   "metadata": {},
   "outputs": [
    {
     "name": "stdout",
     "output_type": "stream",
     "text": [
      "[[], [3, 12], [9], [15, 18]]\n"
     ]
    }
   ],
   "source": [
    "## Nested comprehensions\n",
    "\n",
    "lst = [[2], [3, 5, 7, 12], [9], [11, 15, 18]]\n",
    "\n",
    "new_lst = [[elem for elem in inner_lst if elem % 3 == 0] \n",
    "                for inner_lst in lst]\n",
    "\n",
    "print(new_lst)"
   ]
  },
  {
   "cell_type": "markdown",
   "id": "907a29f6-1db2-4631-9fea-42208713fd86",
   "metadata": {},
   "source": [
    "## Practice Problem 8\n",
    "\n",
    "Given the following data structure, write some code to return a list that contains the colors of the fruits and the sizes of the vegetables. \n",
    "\n",
    "The sizes should be uppercase, and the colors should be capitalized.\n",
    "\n",
    "```python \n",
    "dict1 = {\n",
    "    'grape': {\n",
    "        'type': 'fruit',\n",
    "        'colors': ['red', 'green'],\n",
    "        'size': 'small',\n",
    "    },\n",
    "    'carrot': {\n",
    "        'type': 'vegetable',\n",
    "        'colors': ['orange'],\n",
    "        'size': 'medium',\n",
    "    },\n",
    "    'apricot': {\n",
    "        'type': 'fruit',\n",
    "        'colors': ['orange'],\n",
    "        'size': 'medium',\n",
    "    },\n",
    "    'marrow': {\n",
    "        'type': 'vegetable',\n",
    "        'colors': ['green'],\n",
    "        'size': 'large',\n",
    "    },\n",
    "}\n",
    "```\n",
    "\n",
    "The return value should look like this:\n",
    "Expected result\n",
    "\n",
    "```python \n",
    "[[\"Red\", \"Green\"], \"MEDIUM\", [\"Orange\"], \"LARGE\"]\n",
    "```"
   ]
  },
  {
   "cell_type": "code",
   "execution_count": 3,
   "id": "e4d5c9da-39a0-41fc-ab4b-04bf332e09c9",
   "metadata": {},
   "outputs": [
    {
     "name": "stdout",
     "output_type": "stream",
     "text": [
      "[['Red', 'Green'], 'MEDIUM', ['Orange'], 'LARGE']\n"
     ]
    }
   ],
   "source": [
    "dict1 = {\n",
    "    'grape': {\n",
    "        'type': 'fruit',\n",
    "        'colors': ['red', 'green'],\n",
    "        'size': 'small',\n",
    "    },\n",
    "    'carrot': {\n",
    "        'type': 'vegetable',\n",
    "        'colors': ['orange'],\n",
    "        'size': 'medium',\n",
    "    },\n",
    "    'apricot': {\n",
    "        'type': 'fruit',\n",
    "        'colors': ['orange'],\n",
    "        'size': 'medium',\n",
    "    },\n",
    "    'marrow': {\n",
    "        'type': 'vegetable',\n",
    "        'colors': ['green'],\n",
    "        'size': 'large',\n",
    "    },\n",
    "}\n",
    "\n",
    "def transform_item(food_dict):\n",
    "    if food_dict['type'] == 'fruit':\n",
    "        return [fruit_color.capitalize() for fruit_color in food_dict['colors']]\n",
    "    elif food_dict['type'] == 'vegetable':\n",
    "        return food_dict['size'].upper()\n",
    "\n",
    "output_list = [transform_item(food_dict) for food_dict in dict1.values()]\n",
    "\n",
    "print(output_list)"
   ]
  },
  {
   "cell_type": "markdown",
   "id": "5942cba4-f477-4a30-8dc9-7b88027ea5d5",
   "metadata": {},
   "source": [
    "## Practice Problem 9\n",
    "\n",
    "Given the following data structure, write some code to return a list that contains only the dictionaries where all the numbers are even."
   ]
  },
  {
   "cell_type": "code",
   "execution_count": null,
   "id": "cdc951c4-5a69-4620-b681-105872fae19c",
   "metadata": {},
   "outputs": [],
   "source": [
    "lst = [\n",
    "    {'a': [1, 2, 3]},\n",
    "    {'b': [2, 4, 6], 'c': [3, 6], 'd': [4]},\n",
    "    {'e': [8], 'f': [6, 10]},\n",
    "]\n",
    "\n",
    "## Expected Result\n",
    "\n",
    "[{'e': [8], 'f': [6, 10]}]"
   ]
  },
  {
   "cell_type": "code",
   "execution_count": 5,
   "id": "6672fb93-c587-488a-b9c2-556fdcdd909e",
   "metadata": {},
   "outputs": [
    {
     "name": "stdout",
     "output_type": "stream",
     "text": [
      "[{'e': [8], 'f': [6, 10]}]\n"
     ]
    }
   ],
   "source": [
    "lst = [\n",
    "    {'a': [1, 2, 3]},\n",
    "    {'b': [2, 4, 6], 'c': [3, 6], 'd': [4]},\n",
    "    {'e': [8], 'f': [6, 10]},\n",
    "]\n",
    "\n",
    "def is_dict_all_even(input_dict):\n",
    "    for input_lst in input_dict.values():\n",
    "        for num in input_lst:\n",
    "            if num % 2 != 0:\n",
    "                return False\n",
    "    return True\n",
    "\n",
    "result = [dict_item for dict_item in lst if is_dict_all_even(dict_item)]\n",
    "\n",
    "print(result)"
   ]
  },
  {
   "cell_type": "markdown",
   "id": "805044ec-7b10-4ad3-a001-8982926dc864",
   "metadata": {
    "jp-MarkdownHeadingCollapsed": true
   },
   "source": [
    "## Practice Problem 10\n",
    "\n",
    "\n",
    "\n",
    "Each UUID consists of 32 hexadecimal characters (the digits 0-9 and the letters a-f) represented as a string. \n",
    "\n",
    "The value is typically broken into 5 sections in an 8-4-4-4-12 pattern, e.g., 'f65c57f6-a6aa-17a8-faa1-a67f2dc9fa91'.\n",
    "\n",
    "Write a function that takes no arguments and returns a string that contains a UUID."
   ]
  },
  {
   "cell_type": "code",
   "execution_count": 40,
   "id": "2516ae1d-9695-4a31-838c-c88cf7c7e2c9",
   "metadata": {},
   "outputs": [
    {
     "name": "stdout",
     "output_type": "stream",
     "text": [
      "d3758397-2b8e-ba4b-f25f-3b6c859517c3\n"
     ]
    }
   ],
   "source": [
    "import random\n",
    "\n",
    "hex_values = [\"0\", \"1\", \"2\", \"3\", \"4\", \"5\", \"6\", \"7\", \"8\", \"9\", \"a\", \"b\", \"c\", \"d\", \"e\", \"f\"]\n",
    "\n",
    "def get_hex_str(length):\n",
    "    output_string = \"\"\n",
    "\n",
    "    for _ in range(length):\n",
    "        output_string += random.choice(hex_values)\n",
    "\n",
    "    return output_string\n",
    "\n",
    "\n",
    "def create_UUID():\n",
    "    output_string = \"\"\n",
    "\n",
    "    output_string += get_hex_str(8) + \"-\"\n",
    "    output_string += get_hex_str(4) + \"-\"\n",
    "    output_string += get_hex_str(4) + \"-\"\n",
    "    output_string += get_hex_str(4) + \"-\"\n",
    "    output_string += get_hex_str(12)\n",
    "\n",
    "    return output_string\n",
    "\n",
    "print(create_UUID())"
   ]
  },
  {
   "cell_type": "markdown",
   "id": "0f16ecef-f82a-408d-8746-ad3dfedc55f9",
   "metadata": {},
   "source": [
    "## Practice Problem 11\n",
    "\n",
    "The following dictionary has list values that contains strings. \n",
    "\n",
    "Write some code to create a list of every vowel (a, e, i, o, u) that appears in the contained strings, then print it."
   ]
  },
  {
   "cell_type": "code",
   "execution_count": null,
   "id": "3dea49f9-2687-4231-b9e5-2e4402014a68",
   "metadata": {},
   "outputs": [],
   "source": [
    "dict1 = {\n",
    "    'first':  ['the', 'quick'],\n",
    "    'second': ['brown', 'fox'],\n",
    "    'third':  ['jumped'],\n",
    "    'fourth': ['over', 'the', 'lazy', 'dog'],\n",
    "}\n",
    "\n",
    "# Your code goes here\n",
    "def get_vowel_list(input_dict):\n",
    "    \n",
    "\n",
    "print(list_of_vowels)\n",
    "# ['e', 'u', 'i', 'o', 'o', 'u', 'e', 'o', 'e', 'e', 'a', 'o']"
   ]
  },
  {
   "cell_type": "code",
   "execution_count": 44,
   "id": "ad2ca735-be79-4745-ba15-3b23c0ba9fb6",
   "metadata": {},
   "outputs": [
    {
     "name": "stdout",
     "output_type": "stream",
     "text": [
      "['e', 'u', 'i', 'o', 'o', 'u', 'e', 'o', 'e', 'e', 'a', 'o']\n"
     ]
    }
   ],
   "source": [
    "# With nested loops\n",
    "\n",
    "vowel_list = [\"a\", \"e\", \"i\", \"o\", \"u\"]\n",
    "vowels_in_dict = []\n",
    "\n",
    "dict1 = {\n",
    "    'first':  ['the', 'quick'],\n",
    "    'second': ['brown', 'fox'],\n",
    "    'third':  ['jumped'],\n",
    "    'fourth': ['over', 'the', 'lazy', 'dog'],\n",
    "}\n",
    "\n",
    "\n",
    "\n",
    "for val_list in dict1.values():\n",
    "    for word in val_list:\n",
    "        for letter in word:\n",
    "            if letter in vowel_list:\n",
    "                vowels_in_dict.append(letter)\n",
    "\n",
    "print(vowels_in_dict)"
   ]
  },
  {
   "cell_type": "code",
   "execution_count": 10,
   "id": "3f0e221a-0524-40ad-b11f-288ee48dc49f",
   "metadata": {},
   "outputs": [
    {
     "name": "stdout",
     "output_type": "stream",
     "text": [
      "['e', 'u', 'i', 'o', 'o', 'u', 'e', 'o', 'e', 'e', 'a', 'o']\n"
     ]
    }
   ],
   "source": [
    "# With comprehension\n",
    "\n",
    "vowel_list = [\"a\", \"e\", \"i\", \"o\", \"u\"]\n",
    "\n",
    "dict1 = {\n",
    "    'first':  ['the', 'quick'],\n",
    "    'second': ['brown', 'fox'],\n",
    "    'third':  ['jumped'],\n",
    "    'fourth': ['over', 'the', 'lazy', 'dog'],\n",
    "}\n",
    "\n",
    "output_list = [char for key in dict1\n",
    "               for lst in dict1[key]\n",
    "               for word in lst\n",
    "               for char in word if char in vowel_list]\n",
    "print(output_list)"
   ]
  },
  {
   "cell_type": "code",
   "execution_count": 18,
   "id": "e0054a9d-6225-458b-8436-49cd2dc6b5ce",
   "metadata": {},
   "outputs": [
    {
     "name": "stdout",
     "output_type": "stream",
     "text": [
      "[4, 4, 12]\n"
     ]
    }
   ],
   "source": [
    "def even_values(lst):\n",
    "    evens = []\n",
    "\n",
    "    for value in lst:\n",
    "        if value % 2 == 0:\n",
    "            evens.append(value)\n",
    "        lst.pop(0)\n",
    "\n",
    "    return evens\n",
    "\n",
    "print(even_values([1, 3, 4, 2, 4, 6, 5, 7, 9, 10, 12]))\n"
   ]
  }
 ],
 "metadata": {
  "kernelspec": {
   "display_name": "Python 3 (ipykernel)",
   "language": "python",
   "name": "python3"
  },
  "language_info": {
   "codemirror_mode": {
    "name": "ipython",
    "version": 3
   },
   "file_extension": ".py",
   "mimetype": "text/x-python",
   "name": "python",
   "nbconvert_exporter": "python",
   "pygments_lexer": "ipython3",
   "version": "3.12.3"
  }
 },
 "nbformat": 4,
 "nbformat_minor": 5
}
